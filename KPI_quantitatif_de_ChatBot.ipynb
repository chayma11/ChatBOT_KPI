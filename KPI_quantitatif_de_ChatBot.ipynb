{
  "nbformat": 4,
  "nbformat_minor": 0,
  "metadata": {
    "accelerator": "GPU",
    "colab": {
      "name": "KPI_quantitatif_de_ChatBot.ipynb",
      "provenance": [],
      "collapsed_sections": [],
      "include_colab_link": true
    },
    "kernelspec": {
      "display_name": "Python 3",
      "name": "python3"
    },
    "language_info": {
      "name": "python"
    }
  },
  "cells": [
    {
      "cell_type": "markdown",
      "metadata": {
        "id": "view-in-github",
        "colab_type": "text"
      },
      "source": [
        "<a href=\"https://colab.research.google.com/github/chayma11/ChatBOT_KPI/blob/main/KPI_quantitatif_de_ChatBot.ipynb\" target=\"_parent\"><img src=\"https://colab.research.google.com/assets/colab-badge.svg\" alt=\"Open In Colab\"/></a>"
      ]
    },
    {
      "cell_type": "markdown",
      "metadata": {
        "id": "4pzXq0B1f5kZ"
      },
      "source": [
        "##**PROJET: KPI  Quantitatif de ChatBot**"
      ]
    },
    {
      "cell_type": "markdown",
      "metadata": {
        "id": "TjfXqcqzgpc1"
      },
      "source": [
        "Realisé par :  Chayma BELGAIED"
      ]
    },
    {
      "cell_type": "markdown",
      "metadata": {
        "id": "NqIYs_2dgzaO"
      },
      "source": [
        "##**Business understanding:**"
      ]
    },
    {
      "cell_type": "markdown",
      "metadata": {
        "id": "lLpn7tzLg-Y9"
      },
      "source": [
        "Le but de ce travail est de est mesurer les performances ou les  KPI's d'un ChatBOT \n",
        "\n",
        "Les KPI's sont : \n",
        "\n",
        "\n",
        "*   **KPI 1** : Nombre utilisateurs\n",
        "*   **KPI 2** :Taux d'interaction entre l'utilisateur et le chatbot\n",
        "*   **KPI 3** :Taux de repli de chatBot\n",
        "*   **KPI 4** :la durée de la conversation\n",
        "*   **KPI 5** :pourcentage de réponse correcte \n",
        "\n",
        "\n",
        "\n",
        "\n",
        "\n"
      ]
    },
    {
      "cell_type": "markdown",
      "metadata": {
        "id": "HADI7s5ah_ag"
      },
      "source": [
        "##**Data  preparation:**"
      ]
    },
    {
      "cell_type": "markdown",
      "metadata": {
        "id": "AGf9GIfhiv2C"
      },
      "source": [
        "**import our library**"
      ]
    },
    {
      "cell_type": "code",
      "metadata": {
        "id": "14WbMluwRk9x"
      },
      "source": [
        "import json\n",
        "import requests"
      ],
      "execution_count": 63,
      "outputs": []
    },
    {
      "cell_type": "markdown",
      "metadata": {
        "id": "TmujWPtykkMu"
      },
      "source": [
        "**import our file**"
      ]
    },
    {
      "cell_type": "code",
      "metadata": {
        "id": "r_H8Co3TJPCX"
      },
      "source": [
        "#lien dropbox du fichier\n",
        "! wget https://www.dropbox.com/s/ir1hc7x6ph14o1p/eldiwani.json"
      ],
      "execution_count": null,
      "outputs": []
    },
    {
      "cell_type": "code",
      "metadata": {
        "id": "7_PFkjhvKd1z"
      },
      "source": [
        "#lecture\n",
        "with open (\"eldiwani.json\",\"r\") as read_file:\n",
        "    data = json.load(read_file)"
      ],
      "execution_count": 64,
      "outputs": []
    },
    {
      "cell_type": "code",
      "metadata": {
        "id": "fy6ZYJxGKeFU",
        "colab": {
          "base_uri": "https://localhost:8080/"
        },
        "outputId": "142653ae-956b-4c06-a3fa-b381da202b97"
      },
      "source": [
        "#type data <list>\n",
        "type(data)"
      ],
      "execution_count": 65,
      "outputs": [
        {
          "output_type": "execute_result",
          "data": {
            "text/plain": [
              "list"
            ]
          },
          "metadata": {
            "tags": []
          },
          "execution_count": 65
        }
      ]
    },
    {
      "cell_type": "markdown",
      "metadata": {
        "id": "dK75CbqRk1A8"
      },
      "source": [
        "**affichage de data**"
      ]
    },
    {
      "cell_type": "code",
      "metadata": {
        "id": "_0GLr_3gKmw3"
      },
      "source": [
        "#affichage\n",
        "for cle in data:\n",
        "    print(\"cle: \", cle)"
      ],
      "execution_count": null,
      "outputs": []
    },
    {
      "cell_type": "markdown",
      "metadata": {
        "id": "BQRfAlPCfg3Z"
      },
      "source": [
        "##**Modeling**"
      ]
    },
    {
      "cell_type": "markdown",
      "metadata": {
        "id": "AN6O81AYnv_n"
      },
      "source": [
        "**Nombre de conversation** \n",
        "\n"
      ]
    },
    {
      "cell_type": "code",
      "metadata": {
        "id": "INxwLWZgVo9-"
      },
      "source": [
        " #  La fonction \"Nombre_discussion() \" consiste à calculer le nombre de conversations dans le fichier\n",
        "def Nombre_discussion(nom_fichier):\n",
        "  #import library\n",
        "  import json\n",
        "  #lire le fichier\n",
        "  with open (nom_fichier,\"r\") as read_file:\n",
        "    data = json.load(read_file)\n",
        "  #calcul du nombre de conversations\n",
        "  nbr_utilisateur=0\n",
        "  l=[]\n",
        "  for cle in data:\n",
        "    l.append(cle[\"_id\"])\n",
        "  return len(set(l)) "
      ],
      "execution_count": 66,
      "outputs": []
    },
    {
      "cell_type": "code",
      "metadata": {
        "colab": {
          "base_uri": "https://localhost:8080/"
        },
        "id": "65TtCwSd6xjQ",
        "outputId": "6c7acab1-a520-49fd-ecd2-78a266cb7490"
      },
      "source": [
        "#test\n",
        "Nombre_discussion(\"eldiwani.json\")"
      ],
      "execution_count": 67,
      "outputs": [
        {
          "output_type": "execute_result",
          "data": {
            "text/plain": [
              "100"
            ]
          },
          "metadata": {
            "tags": []
          },
          "execution_count": 67
        }
      ]
    },
    {
      "cell_type": "code",
      "metadata": {
        "id": "AGltrf0GmReb",
        "colab": {
          "base_uri": "https://localhost:8080/"
        },
        "outputId": "79c675c8-5691-4d45-eac9-e07391724bf4"
      },
      "source": [
        "#affichage\n",
        "print(\"Le nombre d'utilisateur de notre ChatBot est : \" , Nombre_discussion(\"eldiwani.json\"))"
      ],
      "execution_count": 68,
      "outputs": [
        {
          "output_type": "stream",
          "text": [
            "Le nombre d'utilisateur de notre ChatBot est :  100\n"
          ],
          "name": "stdout"
        }
      ]
    },
    {
      "cell_type": "markdown",
      "metadata": {
        "id": "CNwh-D9IIExc"
      },
      "source": [
        "### **KPI 1: Nombre utilisateurs**"
      ]
    },
    {
      "cell_type": "code",
      "metadata": {
        "id": "65GPBwpDrWgv"
      },
      "source": [
        " # La fonction \" Nombre_utilisateurs()  \" consiste à calculer le nombre de personnes qui interagissent avec le chatbot\n",
        " def Nombre_utilisateurs(nom_fichier):\n",
        "  #import library\n",
        "  import json\n",
        "  #lire le fichier\n",
        "  with open (nom_fichier,\"r\") as read_file:\n",
        "    data = json.load(read_file)\n",
        "  #calcul du nombre d'utilisateurs\n",
        "  nbr_utilisateur=0\n",
        "  l=[]\n",
        "  for cle in data:\n",
        "    l.append(cle[ \"sender_id\"])\n",
        "  return len(set(l)) "
      ],
      "execution_count": 3,
      "outputs": []
    },
    {
      "cell_type": "code",
      "metadata": {
        "id": "oCMPirjObKT-",
        "colab": {
          "base_uri": "https://localhost:8080/"
        },
        "outputId": "be000919-bbe3-4249-bc9c-7af066a9e928"
      },
      "source": [
        "#test\n",
        "Nombre_utilisateurs(\"eldiwani.json\")"
      ],
      "execution_count": 69,
      "outputs": [
        {
          "output_type": "execute_result",
          "data": {
            "text/plain": [
              "100"
            ]
          },
          "metadata": {
            "tags": []
          },
          "execution_count": 69
        }
      ]
    },
    {
      "cell_type": "code",
      "metadata": {
        "id": "BJGYQPYloaPV",
        "colab": {
          "base_uri": "https://localhost:8080/"
        },
        "outputId": "3a2de9aa-772f-45e0-dc95-c59cba284ad5"
      },
      "source": [
        "#affichage \n",
        "print(\"Le nombre d'utilisateur de notre ChatBot est :\" ,  Nombre_utilisateurs(\"eldiwani.json\"))"
      ],
      "execution_count": 70,
      "outputs": [
        {
          "output_type": "stream",
          "text": [
            "Le nombre d'utilisateur de notre ChatBot est : 100\n"
          ],
          "name": "stdout"
        }
      ]
    },
    {
      "cell_type": "markdown",
      "metadata": {
        "id": "WdT4JS-ELQjq"
      },
      "source": [
        "### **KPI 2 : Taux Interaction user-bot** "
      ]
    },
    {
      "cell_type": "code",
      "metadata": {
        "id": "iCLHH_kkMW2D"
      },
      "source": [
        "#La fonction \"Taux_Interaction_user_bot\" consiste à calculer le nombre moyen de messages envoyés\n",
        "# entre l'utilisateur et le ChatBot par conversation \n",
        "def Taux_Interaction_user_bot(nom_fichier):\n",
        "    l=[]\n",
        "    longeur_liste=[]\n",
        "    #import library\n",
        "    import json\n",
        "    #lire le fichier\n",
        "    with open (nom_fichier,\"r\") as read_file:\n",
        "      data = json.load(read_file)  \n",
        "    for cle in data :\n",
        "        l.append(cle[\"events\"])\n",
        "\n",
        "    for i in range(len(l)):\n",
        "        longeur_liste.append(len(l[i]))\n",
        "    k=[]\n",
        "    liste=[]\n",
        "    for i in range(Nombre_discussion(nom_fichier)):\n",
        "            k.append(l[i])\n",
        "    for i in range(Nombre_discussion(nom_fichier)):\n",
        "        for j in range(longeur_liste[i]):\n",
        "            liste.append(k[i][j])\n",
        "    taux_user=0\n",
        "    for i in range(len(liste)):\n",
        "          if  \"user\" in liste[i].values():\n",
        "              taux_user=taux_user+1\n",
        "    moyen=taux_user/Nombre_discussion(nom_fichier)\n",
        "    return taux_user , int(moyen)\n"
      ],
      "execution_count": 11,
      "outputs": []
    },
    {
      "cell_type": "code",
      "metadata": {
        "id": "w8UdVJCNqCZD",
        "colab": {
          "base_uri": "https://localhost:8080/"
        },
        "outputId": "38f95726-a7ab-46ee-e4f5-68c2a7c227c7"
      },
      "source": [
        "    print(\"Le nombre totle des message envoyer par l'utilsateur au ChatBot est :  \" , Taux_Interaction_user_bot(\"eldiwani.json\")[0])"
      ],
      "execution_count": 71,
      "outputs": [
        {
          "output_type": "stream",
          "text": [
            "Le nombre totle des message envoyer par l'utilsateur au ChatBot est :   418\n"
          ],
          "name": "stdout"
        }
      ]
    },
    {
      "cell_type": "code",
      "metadata": {
        "id": "jkJP96Qy1U8k",
        "colab": {
          "base_uri": "https://localhost:8080/"
        },
        "outputId": "54800e9d-2b8e-407e-cf6b-1cb0127d40d7"
      },
      "source": [
        "print(\"Moyen des message envoyer par l'utilsateur dans un conversation : \" , Taux_Interaction_user_bot(\"eldiwani.json\")[1])"
      ],
      "execution_count": 72,
      "outputs": [
        {
          "output_type": "stream",
          "text": [
            "Moyen des message envoyer par l'utilsateur dans un conversation :  4\n"
          ],
          "name": "stdout"
        }
      ]
    },
    {
      "cell_type": "markdown",
      "metadata": {
        "id": "iePtVMP5qpxO"
      },
      "source": [
        "### **KPI 3 :Taux de repli ou  taux d'erreur**\n"
      ]
    },
    {
      "cell_type": "code",
      "metadata": {
        "id": "wsI-gud4qqD5"
      },
      "source": [
        "# le but de la fonction \" Taux_de_repli()  \" est de calculer le pourcentage d'erreur de notre ChatBot\n",
        "def Taux_de_repli(nom_fichier):\n",
        "    l=[]\n",
        "    longeur_liste=[]\n",
        "    taux_repli=0\n",
        "    #import library\n",
        "    import json\n",
        "\n",
        "    #lire le fichier\n",
        "    with open (nom_fichier,\"r\") as read_file:\n",
        "      data = json.load(read_file)\n",
        "\n",
        "    for cle in data :\n",
        "      l.append(cle[\"events\"])\n",
        "    for i in range(len(l)):\n",
        "      longeur_liste.append(len(l[i]))\n",
        "    taux_repli=0\n",
        "    k=[]\n",
        "    liste=[]\n",
        "    for i in range(Nombre_discussion(nom_fichier)):\n",
        "      k.append(l[i])\n",
        "  \n",
        "    for i in range(Nombre_discussion(nom_fichier)):\n",
        "      for j in range(longeur_liste[i]):\n",
        "        liste.append(k[i][j])\n",
        "    for i in range(len(liste)):\n",
        "        if  \"action_default_fallback\" in liste[i].values():\n",
        "            taux_repli=taux_repli+1\n",
        "    taux_repli=(taux_repli/Taux_Interaction_user_bot(nom_fichier)[0])*100\n",
        "    return int(taux_repli)\n"
      ],
      "execution_count": 31,
      "outputs": []
    },
    {
      "cell_type": "code",
      "metadata": {
        "colab": {
          "base_uri": "https://localhost:8080/"
        },
        "id": "NBkHlEt7_Rm0",
        "outputId": "3643cc75-b8e6-4493-d12b-10f45168f7b2"
      },
      "source": [
        "#test\n",
        "Taux_de_repli(\"eldiwani.json\")"
      ],
      "execution_count": 73,
      "outputs": [
        {
          "output_type": "execute_result",
          "data": {
            "text/plain": [
              "0"
            ]
          },
          "metadata": {
            "tags": []
          },
          "execution_count": 73
        }
      ]
    },
    {
      "cell_type": "code",
      "metadata": {
        "id": "g_wCZcvg5XLk",
        "colab": {
          "base_uri": "https://localhost:8080/"
        },
        "outputId": "1daeecce-bf45-43a9-d319-b733da353e46"
      },
      "source": [
        "#affichage \n",
        "print(\"la pourcentage des reponse dont le chatBot a mal repondu est : \" , int(Taux_de_repli(\"eldiwani.json\")) , \"%\")"
      ],
      "execution_count": 74,
      "outputs": [
        {
          "output_type": "stream",
          "text": [
            "la pourcentage des reponse dont le chatBot a mal repondu est :  0 %\n"
          ],
          "name": "stdout"
        }
      ]
    },
    {
      "cell_type": "markdown",
      "metadata": {
        "id": "kJOjWctFX92i"
      },
      "source": [
        " ### **KPI 3 : TIME AVG** \n",
        "\n",
        "\n"
      ]
    },
    {
      "cell_type": "code",
      "metadata": {
        "id": "N2NyLMieMIJu"
      },
      "source": [
        "def Moyen_event_time(nom_fichier):\n",
        "  #import library\n",
        "  import json\n",
        "\n",
        "  #lire le fichier\n",
        "  with open (nom_fichier,\"r\") as read_file:\n",
        "    data = json.load(read_file)\n",
        "                       \n",
        "  l=[]\n",
        "  latest_event_time=[]\n",
        "  with open (nom_fichier,\"r\") as read_file:\n",
        "    data = json.load(read_file)\n",
        "  for cle in data : \n",
        "    latest_event_time.append(cle[\"latest_event_time\"])\n",
        "  start_event_time=[]\n",
        "  for cle in data :\n",
        "    l.append(cle[\"events\"])\n",
        "  for i in range(Nombre_utilisateurs(nom_fichier)) :\n",
        "    start_event_time.append(l[i][1][\"timestamp\"])\n",
        "  difference_event_time=[]\n",
        "  for k in range(len(latest_event_time)):\n",
        "    difference_event_time.append(latest_event_time[i] - start_event_time[i])\n",
        "  Moyen_event_time= sum(difference_event_time)/Nombre_discussion(nom_fichier)\n",
        "  #min \n",
        "  \n",
        "  return Moyen_event_time \n"
      ],
      "execution_count": 39,
      "outputs": []
    },
    {
      "cell_type": "code",
      "metadata": {
        "colab": {
          "base_uri": "https://localhost:8080/"
        },
        "id": "ukBKWkyADFFh",
        "outputId": "fe59facd-b888-4e48-dafe-cbfb3dbcc92b"
      },
      "source": [
        "#test \n",
        "Moyen_event_time(\"eldiwani.json\")"
      ],
      "execution_count": 75,
      "outputs": [
        {
          "output_type": "execute_result",
          "data": {
            "text/plain": [
              "0.1449575424194336"
            ]
          },
          "metadata": {
            "tags": []
          },
          "execution_count": 75
        }
      ]
    },
    {
      "cell_type": "code",
      "metadata": {
        "id": "tv214w5jp4aJ",
        "colab": {
          "base_uri": "https://localhost:8080/"
        },
        "outputId": "aaad4ee6-bfdb-40a1-89e3-e079f2bbfefc"
      },
      "source": [
        "#affichage\n",
        "print(\"La duree moyenne de conversation entre l'utilisateur et le ChatBot est\" ,Moyen_event_time(\"eldiwani.json\") , \"secondes\" , \"et\", int( Moyen_event_time(\"eldiwani.json\")/60 ),\"minutes \" )"
      ],
      "execution_count": 76,
      "outputs": [
        {
          "output_type": "stream",
          "text": [
            "La duree moyenne de conversation entre l'utilisateur et le ChatBot est 0.1449575424194336 secondes et 0 minutes \n"
          ],
          "name": "stdout"
        }
      ]
    },
    {
      "cell_type": "markdown",
      "metadata": {
        "id": "nHqd3N2WI9lH"
      },
      "source": [
        "### **KPI 5 : Volume de Reponse de ChatBOT**\n"
      ]
    },
    {
      "cell_type": "code",
      "metadata": {
        "id": "9DlGmF1y2jer"
      },
      "source": [
        "# La fonction \"Volume_de_Reponse_de_ChatBot() \"consite à calculer  le pourcentage de réponse correcte de notre ChatBot \n",
        "def Volume_de_Reponse_de_ChatBot(nom_fichier): \n",
        "  #import library\n",
        "  import json\n",
        "\n",
        "  #lire le fichier\n",
        "  with open (nom_fichier,\"r\") as read_file:\n",
        "    data = json.load(read_file)\n",
        "\n",
        "  Pourcentage_de_Reponse_de_ChatBot = 100 - Taux_de_repli(nom_fichier)\n",
        "  \n",
        "  return Pourcentage_de_Reponse_de_ChatBot"
      ],
      "execution_count": 61,
      "outputs": []
    },
    {
      "cell_type": "code",
      "metadata": {
        "id": "a2A4eIJD3FUf",
        "colab": {
          "base_uri": "https://localhost:8080/"
        },
        "outputId": "a0c1f75f-c1dd-4eaa-c63d-81a44991e171"
      },
      "source": [
        " #test\n",
        " Volume_de_Reponse_de_ChatBot(\"eldiwani.json\")"
      ],
      "execution_count": 77,
      "outputs": [
        {
          "output_type": "execute_result",
          "data": {
            "text/plain": [
              "100"
            ]
          },
          "metadata": {
            "tags": []
          },
          "execution_count": 77
        }
      ]
    },
    {
      "cell_type": "code",
      "metadata": {
        "id": "s2gzO-Jq8LiZ",
        "colab": {
          "base_uri": "https://localhost:8080/"
        },
        "outputId": "293f1a51-59ce-4acc-a245-ca2cdc256936"
      },
      "source": [
        "#affichage \n",
        "print(\"Pourcentage de réponse correcte de notre ChatBot \" , Volume_de_Reponse_de_ChatBot(\"eldiwani.json\") , \"%\")"
      ],
      "execution_count": 78,
      "outputs": [
        {
          "output_type": "stream",
          "text": [
            "Pourcentage de réponse correcte de notre ChatBot  100 %\n"
          ],
          "name": "stdout"
        }
      ]
    },
    {
      "cell_type": "markdown",
      "metadata": {
        "id": "y6NDs2vqDAF4"
      },
      "source": [
        "#**summary**"
      ]
    },
    {
      "cell_type": "code",
      "metadata": {
        "id": "nz6OhoAyC-qq",
        "colab": {
          "base_uri": "https://localhost:8080/"
        },
        "outputId": "2c90ef3f-2f1f-4982-9ed4-c38ad033220f"
      },
      "source": [
        "print(\"Le nombre d'utilisateur de notre ChatBot est :\" ,  Nombre_utilisateurs(\"eldiwani.json\"))"
      ],
      "execution_count": 79,
      "outputs": [
        {
          "output_type": "stream",
          "text": [
            "Le nombre d'utilisateur de notre ChatBot est : 100\n"
          ],
          "name": "stdout"
        }
      ]
    },
    {
      "cell_type": "code",
      "metadata": {
        "id": "PynwLUN4DhCQ",
        "colab": {
          "base_uri": "https://localhost:8080/"
        },
        "outputId": "d690050c-53d5-453a-a21b-d26574ad1ae4"
      },
      "source": [
        "print(\"Le nombre total de messages envoyés par l'utilisateur au ChatBot est :  \" , Taux_Interaction_user_bot(\"eldiwani.json\")[0])\n",
        "print(\"Moyen des messages envoyés par l'utilisateur dans une conversation:\" ,Taux_Interaction_user_bot(\"eldiwani.json\")[1] )"
      ],
      "execution_count": 80,
      "outputs": [
        {
          "output_type": "stream",
          "text": [
            "Le nombre total de messages envoyés par l'utilisateur au ChatBot est :   418\n",
            "Moyen des messages envoyés par l'utilisateur dans une conversation: 4\n"
          ],
          "name": "stdout"
        }
      ]
    },
    {
      "cell_type": "code",
      "metadata": {
        "id": "BOSF4senDhEY",
        "colab": {
          "base_uri": "https://localhost:8080/"
        },
        "outputId": "5880d972-2660-41e9-8c8c-ffc3d3fc1571"
      },
      "source": [
        "print(\"le pourcentage de réponses auxquelles le chatBot a répondu de manière incorrecte est: \" , Taux_de_repli(\"eldiwani.json\"))\n"
      ],
      "execution_count": 81,
      "outputs": [
        {
          "output_type": "stream",
          "text": [
            "le pourcentage de réponses auxquelles le chatBot a répondu de manière incorrecte est:  0\n"
          ],
          "name": "stdout"
        }
      ]
    },
    {
      "cell_type": "code",
      "metadata": {
        "id": "mcGnGqCQDhIk",
        "colab": {
          "base_uri": "https://localhost:8080/"
        },
        "outputId": "3ae5f396-cfbd-48a4-e8f7-fd6ffae9ddae"
      },
      "source": [
        "print(\"La duree moyenne de conversation entre l'utilisateur et le ChatBot est\" ,Moyen_event_time(\"eldiwani.json\"),\"secondes \" )"
      ],
      "execution_count": 57,
      "outputs": [
        {
          "output_type": "stream",
          "text": [
            "La duree moyenne de conversation entre l'utilisateur et le ChatBot est 0.1449575424194336 secondes \n"
          ],
          "name": "stdout"
        }
      ]
    },
    {
      "cell_type": "code",
      "metadata": {
        "id": "CVDWbunwDsBB",
        "colab": {
          "base_uri": "https://localhost:8080/"
        },
        "outputId": "e417a976-49da-4bd0-cef5-afbea04b1683"
      },
      "source": [
        "print(\"Pourcentage de réponse correcte de notre ChatBot \" , Volume_de_Reponse_de_ChatBot(\"eldiwani.json\") , \"%\")"
      ],
      "execution_count": 82,
      "outputs": [
        {
          "output_type": "stream",
          "text": [
            "Pourcentage de réponse correcte de notre ChatBot  100 %\n"
          ],
          "name": "stdout"
        }
      ]
    }
  ]
}