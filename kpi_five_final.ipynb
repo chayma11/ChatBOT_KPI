{
  "nbformat": 4,
  "nbformat_minor": 0,
  "metadata": {
    "colab": {
      "name": "kpi_five.ipynb",
      "provenance": [],
      "collapsed_sections": [],
      "authorship_tag": "ABX9TyOO/hgz9sSJ1zXW4c2VPsdM",
      "include_colab_link": true
    },
    "kernelspec": {
      "name": "python3",
      "display_name": "Python 3"
    },
    "language_info": {
      "name": "python"
    },
    "accelerator": "GPU"
  },
  "cells": [
    {
      "cell_type": "markdown",
      "metadata": {
        "id": "view-in-github",
        "colab_type": "text"
      },
      "source": [
        "<a href=\"https://colab.research.google.com/github/chayma11/ChatBOT_KPI/blob/main/kpi_five_final.ipynb\" target=\"_parent\"><img src=\"https://colab.research.google.com/assets/colab-badge.svg\" alt=\"Open In Colab\"/></a>"
      ]
    },
    {
      "cell_type": "markdown",
      "metadata": {
        "id": "4pzXq0B1f5kZ"
      },
      "source": [
        "##**PROJET: KPI  Quantitatif de ChatBot**"
      ]
    },
    {
      "cell_type": "markdown",
      "metadata": {
        "id": "TjfXqcqzgpc1"
      },
      "source": [
        "Realisé par :  Chayma BELGAIED"
      ]
    },
    {
      "cell_type": "markdown",
      "metadata": {
        "id": "NqIYs_2dgzaO"
      },
      "source": [
        "##**Business understanding:**"
      ]
    },
    {
      "cell_type": "markdown",
      "metadata": {
        "id": "lLpn7tzLg-Y9"
      },
      "source": [
        "Le but de cette partie  est mesurer les KPI's d'un ChatBOT \n",
        "Les KPI's sont : \n",
        "\n",
        "\n",
        "*   KPI 1 : Nombre utilisateurs\n",
        "*   KPI 2 :Taux Interaction\n",
        "*   KPI 3 :Taux de repli\n",
        "*   KPI 4 :Time Avg\n",
        "*   KPI 5 : Volume de reponse de ChatBOT\n",
        "\n",
        "\n",
        "\n",
        "\n",
        "\n",
        "\n",
        "\n"
      ]
    },
    {
      "cell_type": "markdown",
      "metadata": {
        "id": "HADI7s5ah_ag"
      },
      "source": [
        "##**Data  preparation:**"
      ]
    },
    {
      "cell_type": "markdown",
      "metadata": {
        "id": "AGf9GIfhiv2C"
      },
      "source": [
        "**import our files**"
      ]
    },
    {
      "cell_type": "code",
      "metadata": {
        "id": "14WbMluwRk9x"
      },
      "source": [
        "import json\n",
        "import requests"
      ],
      "execution_count": 61,
      "outputs": []
    },
    {
      "cell_type": "markdown",
      "metadata": {
        "id": "TmujWPtykkMu"
      },
      "source": [
        "**import our file**"
      ]
    },
    {
      "cell_type": "code",
      "metadata": {
        "colab": {
          "base_uri": "https://localhost:8080/"
        },
        "id": "VksrgfhQfv1U",
        "outputId": "dfc817cf-91f8-4ebd-a4a8-c905c10a4e26"
      },
      "source": [
        "#import our file\n",
        "!wget https://www.dropbox.com/s/0mz6z6t4trlc3jt/3ziza%20-%20Copie.json"
      ],
      "execution_count": 62,
      "outputs": [
        {
          "output_type": "stream",
          "text": [
            "--2021-04-29 15:15:46--  https://www.dropbox.com/s/0mz6z6t4trlc3jt/3ziza%20-%20Copie.json\n",
            "Resolving www.dropbox.com (www.dropbox.com)... 162.125.80.18, 2620:100:6032:18::a27d:5212\n",
            "Connecting to www.dropbox.com (www.dropbox.com)|162.125.80.18|:443... connected.\n",
            "HTTP request sent, awaiting response... 301 Moved Permanently\n",
            "Location: /s/raw/0mz6z6t4trlc3jt/3ziza%20-%20Copie.json [following]\n",
            "--2021-04-29 15:15:46--  https://www.dropbox.com/s/raw/0mz6z6t4trlc3jt/3ziza%20-%20Copie.json\n",
            "Reusing existing connection to www.dropbox.com:443.\n",
            "HTTP request sent, awaiting response... 302 Found\n",
            "Location: https://uc74652d11821d047d04b850f44c.dl.dropboxusercontent.com/cd/0/inline/BNjkGBjPlzUtZwttzCo_zxvnY5sBQF6GRemIPB1QoiGG8_WXqHuKRD6znwT7K4u1qvVFNkEu5uOgNAQZ62eAcju-7xGE-XoXFTask5AIHcEZTzx7FdCIUQbMIOI1-3LiJCPpuUNYuGj-bqVj5TCgVcee/file# [following]\n",
            "--2021-04-29 15:15:47--  https://uc74652d11821d047d04b850f44c.dl.dropboxusercontent.com/cd/0/inline/BNjkGBjPlzUtZwttzCo_zxvnY5sBQF6GRemIPB1QoiGG8_WXqHuKRD6znwT7K4u1qvVFNkEu5uOgNAQZ62eAcju-7xGE-XoXFTask5AIHcEZTzx7FdCIUQbMIOI1-3LiJCPpuUNYuGj-bqVj5TCgVcee/file\n",
            "Resolving uc74652d11821d047d04b850f44c.dl.dropboxusercontent.com (uc74652d11821d047d04b850f44c.dl.dropboxusercontent.com)... 162.125.80.15, 2620:100:6032:15::a27d:520f\n",
            "Connecting to uc74652d11821d047d04b850f44c.dl.dropboxusercontent.com (uc74652d11821d047d04b850f44c.dl.dropboxusercontent.com)|162.125.80.15|:443... connected.\n",
            "HTTP request sent, awaiting response... 200 OK\n",
            "Length: 27691024 (26M) [text/plain]\n",
            "Saving to: ‘3ziza - Copie.json.1’\n",
            "\n",
            "3ziza - Copie.json. 100%[===================>]  26.41M  15.3MB/s    in 1.7s    \n",
            "\n",
            "2021-04-29 15:15:49 (15.3 MB/s) - ‘3ziza - Copie.json.1’ saved [27691024/27691024]\n",
            "\n",
            "--2021-04-29 15:15:56--  https://www.dropbox.com/s/0mz6z6t4trlc3jt/3ziza%20-%20Copie.json\n",
            "Resolving www.dropbox.com (www.dropbox.com)... 162.125.82.18, 2620:100:6032:18::a27d:5212\n",
            "Connecting to www.dropbox.com (www.dropbox.com)|162.125.82.18|:443... connected.\n",
            "HTTP request sent, awaiting response... 301 Moved Permanently\n",
            "Location: /s/raw/0mz6z6t4trlc3jt/3ziza%20-%20Copie.json [following]\n",
            "--2021-04-29 15:15:57--  https://www.dropbox.com/s/raw/0mz6z6t4trlc3jt/3ziza%20-%20Copie.json\n",
            "Reusing existing connection to www.dropbox.com:443.\n",
            "HTTP request sent, awaiting response... 302 Found\n",
            "Location: https://uc9873d68d477630ec7f7386ff25.dl.dropboxusercontent.com/cd/0/inline/BNiv05rAWEhc37HjY09DzWMqI-PfH45oAnIkPkyX2t6orsU2S5TrEIJYwYt4_zKnOr4Fl-oI2DlD4NfEEv2_tke5_N2exI0KWmG6MAFpqxtRWNj3Z-w98OcVRJUrVnJddjA9JmSJbI0ezyIoiEo3U6dC/file# [following]\n",
            "--2021-04-29 15:15:57--  https://uc9873d68d477630ec7f7386ff25.dl.dropboxusercontent.com/cd/0/inline/BNiv05rAWEhc37HjY09DzWMqI-PfH45oAnIkPkyX2t6orsU2S5TrEIJYwYt4_zKnOr4Fl-oI2DlD4NfEEv2_tke5_N2exI0KWmG6MAFpqxtRWNj3Z-w98OcVRJUrVnJddjA9JmSJbI0ezyIoiEo3U6dC/file\n",
            "Resolving uc9873d68d477630ec7f7386ff25.dl.dropboxusercontent.com (uc9873d68d477630ec7f7386ff25.dl.dropboxusercontent.com)... 162.125.82.15, 2620:100:6032:15::a27d:520f\n",
            "Connecting to uc9873d68d477630ec7f7386ff25.dl.dropboxusercontent.com (uc9873d68d477630ec7f7386ff25.dl.dropboxusercontent.com)|162.125.82.15|:443... connected.\n",
            "HTTP request sent, awaiting response... 200 OK\n",
            "Length: 27691024 (26M) [text/plain]\n",
            "Saving to: ‘3ziza - Copie.json.2’\n",
            "\n",
            "3ziza - Copie.json. 100%[===================>]  26.41M  11.8MB/s    in 2.2s    \n",
            "\n",
            "2021-04-29 15:16:00 (11.8 MB/s) - ‘3ziza - Copie.json.2’ saved [27691024/27691024]\n",
            "\n"
          ],
          "name": "stdout"
        }
      ]
    },
    {
      "cell_type": "code",
      "metadata": {
        "id": "a_Bysv_RQn4g",
        "colab": {
          "base_uri": "https://localhost:8080/",
          "height": 88
        },
        "outputId": "93b4ba0a-033c-4284-865b-20103cc6637e"
      },
      "source": [
        "# faire des transformation sur le fichier original afin de le lire \n",
        "\"\"\"with open(\"3ziza.json\", \"r\") as f_in, open(\"3ziza - Copie.json\", \"w\") as f_out:\n",
        "    for line in f_in:\n",
        "        f_out.write(line.replace(\"ObjectId(\", \"\"))\n",
        "        f_out.write(line.replace(\"NumberInt(\", \"\"))\n",
        "        f_out.write(line.replace(\")\", \"\")) \"\"\""
      ],
      "execution_count": 63,
      "outputs": [
        {
          "output_type": "execute_result",
          "data": {
            "application/vnd.google.colaboratory.intrinsic+json": {
              "type": "string"
            },
            "text/plain": [
              "'with open(\"3ziza.json\", \"r\") as f_in, open(\"3ziza - Copie.json\", \"w\") as f_out:\\n    for line in f_in:\\n        f_out.write(line.replace(\"ObjectId(\", \"\"))\\n        f_out.write(line.replace(\"NumberInt(\", \"\"))\\n        f_out.write(line.replace(\")\", \"\")) '"
            ]
          },
          "metadata": {
            "tags": []
          },
          "execution_count": 37
        },
        {
          "output_type": "execute_result",
          "data": {
            "application/vnd.google.colaboratory.intrinsic+json": {
              "type": "string"
            },
            "text/plain": [
              "'with open(\"3ziza.json\", \"r\") as f_in, open(\"3ziza - Copie.json\", \"w\") as f_out:\\n    for line in f_in:\\n        f_out.write(line.replace(\"ObjectId(\", \"\"))\\n        f_out.write(line.replace(\"NumberInt(\", \"\"))\\n        f_out.write(line.replace(\")\", \"\")) '"
            ]
          },
          "metadata": {
            "tags": []
          },
          "execution_count": 63
        }
      ]
    },
    {
      "cell_type": "markdown",
      "metadata": {
        "id": "D9Nt-e5TlBT-"
      },
      "source": [
        "**lecture**"
      ]
    },
    {
      "cell_type": "code",
      "metadata": {
        "id": "7_PFkjhvKd1z"
      },
      "source": [
        "#lecture\n",
        "with open (\"3ziza - Copie.json\",\"r\") as read_file:\n",
        "    data = json.load(read_file)"
      ],
      "execution_count": 64,
      "outputs": []
    },
    {
      "cell_type": "code",
      "metadata": {
        "colab": {
          "base_uri": "https://localhost:8080/"
        },
        "id": "fy6ZYJxGKeFU",
        "outputId": "1a16a70d-04c3-429c-8626-4b44543ad708"
      },
      "source": [
        "#type data <list>\n",
        "type(data)"
      ],
      "execution_count": 65,
      "outputs": [
        {
          "output_type": "execute_result",
          "data": {
            "text/plain": [
              "list"
            ]
          },
          "metadata": {
            "tags": []
          },
          "execution_count": 39
        },
        {
          "output_type": "execute_result",
          "data": {
            "text/plain": [
              "list"
            ]
          },
          "metadata": {
            "tags": []
          },
          "execution_count": 65
        }
      ]
    },
    {
      "cell_type": "markdown",
      "metadata": {
        "id": "dK75CbqRk1A8"
      },
      "source": [
        "**affichage de data**"
      ]
    },
    {
      "cell_type": "code",
      "metadata": {
        "colab": {
          "base_uri": "https://localhost:8080/"
        },
        "id": "_0GLr_3gKmw3",
        "outputId": "6a2737db-327d-4596-9697-b95fb344a232"
      },
      "source": [
        "#affichage\n",
        "for cle in data:\n",
        "    print(\"cle: \", cle)"
      ],
      "execution_count": 66,
      "outputs": [
        {
          "output_type": "stream",
          "text": [
            "cle:  {'_id': '5e80c2fb30008e93224f1ce0', 'sender_id': 'GA1.2.2056950354.1584899681', 'active_form': {}, 'events': [{'event': 'action', 'timestamp': 1585496827.1779065, 'name': 'action_session_start', 'policy': None, 'confidence': None}, {'event': 'session_started', 'timestamp': 1585496827.1779177}, {'event': 'action', 'timestamp': 1585496827.1779525, 'name': 'action_listen', 'policy': None, 'confidence': None}, {'event': 'action', 'timestamp': 1585496827.1779525, 'name': 'action_listen', 'policy': None, 'confidence': None}, {'event': 'user', 'timestamp': 1585496827.185055, 'text': 'Moez', 'parse_data': {'intent': {'name': 'QB58', 'confidence': 0.4276076555252075}, 'entities': [], 'intent_ranking': [{'name': 'QB58', 'confidence': 0.4276076555252075}, {'name': 'QB14', 'confidence': 0.366239458322525}, {'name': 'QB1', 'confidence': 0.0740329772233963}, {'name': 'QB57', 'confidence': 0.016730885952711105}, {'name': 'QC3', 'confidence': 0.016200410202145576}, {'name': 'QB13', 'confidence': 0.013798250816762447}, {'name': 'QB33', 'confidence': 0.013402526266872883}, {'name': 'Qa34', 'confidence': 0.009259819984436035}, {'name': 'QB38', 'confidence': 0.008078492246568203}, {'name': 'QB23', 'confidence': 0.007359792478382587}], 'text': 'Moez'}, 'input_channel': 'rest', 'message_id': 'ec974817a9954f919e5bf0ff1d007e0a', 'metadata': {}}, {'event': 'action', 'timestamp': 1585496827.1926606, 'name': 'utter_QB58', 'policy': 'policy_0_MappingPolicy', 'confidence': 1}, {'event': 'bot', 'timestamp': 1585496827.192671, 'text': ' béhi ', 'data': {'elements': None, 'quick_replies': None, 'buttons': None, 'attachment': None, 'image': None, 'custom': None}, 'metadata': {}}, {'event': 'action', 'timestamp': 1585496827.2005863, 'name': 'action_listen', 'policy': 'policy_0_MappingPolicy', 'confidence': 1}, {'event': 'user', 'timestamp': 1585496833.6463609, 'text': 'Moez 1', 'parse_data': {'intent': {'name': 'Q1401', 'confidence': 0.8638586401939392}, 'entities': [], 'intent_ranking': [{'name': 'Q1401', 'confidence': 0.8638586401939392}, {'name': 'QB15', 'confidence': 0.021110443398356438}, {'name': 'QB53', 'confidence': 0.012489859014749527}, {'name': 'QB18', 'confidence': 0.011219447478652}, {'name': 'QB10', 'confidence': 0.010476761497557163}, {'name': 'Q1001', 'confidence': 0.010303362272679806}, {'name': 'Q0502', 'confidence': 0.009726016782224178}, {'name': 'QB23', 'confidence': 0.008807798847556114}, {'name': 'Q0301', 'confidence': 0.007963940501213074}, {'name': 'Q1402', 'confidence': 0.007317592855542898}], 'text': 'Moez 1'}, 'input_channel': 'rest', 'message_id': 'bb51f58d725149eca8064dc9a9e45c30', 'metadata': {}}, {'event': 'action', 'timestamp': 1585496833.6534717, 'name': 'utter_Q1401', 'policy': 'policy_0_MappingPolicy', 'confidence': 1}, {'event': 'bot', 'timestamp': 1585496833.6534812, 'text': \" Pour plus d'informations ou pour déclarer un cas de contamination, appelez\\n\\nNuméro vert 80 10 19 19\\t\\t\\t\\t\\t\\t\\t\\t\\t\\n\\nPour le Nord-Est 71.589.271 ou 71.589.626 ou 71.589.596\\n\\nPour le Nord-Ouest 78.613.213\\n\\nPour le Centre-Est 73.369.090 ou 73.369.393 ou 74.672.372\\n\\nPour le Centre-Ouest 76.217.608 ou 76.217.915 ou 76.217.920\\n\\nPour le Sud 75.294.529 \", 'data': {'elements': None, 'quick_replies': None, 'buttons': None, 'attachment': None, 'image': None, 'custom': None}, 'metadata': {}}, {'event': 'action', 'timestamp': 1585496833.6604316, 'name': 'action_listen', 'policy': 'policy_0_MappingPolicy', 'confidence': 1}, {'event': 'user', 'timestamp': 1585496842.616437, 'text': 'Moez 5', 'parse_data': {'intent': {'name': 'Q1401', 'confidence': 0.8638586401939392}, 'entities': [], 'intent_ranking': [{'name': 'Q1401', 'confidence': 0.8638586401939392}, {'name': 'QB15', 'confidence': 0.021110443398356438}, {'name': 'QB53', 'confidence': 0.012489859014749527}, {'name': 'QB18', 'confidence': 0.011219447478652}, {'name': 'QB10', 'confidence': 0.010476761497557163}, {'name': 'Q1001', 'confidence': 0.010303362272679806}, {'name': 'Q0502', 'confidence': 0.009726016782224178}, {'name': 'QB23', 'confidence': 0.008807798847556114}, {'name': 'Q0301', 'confidence': 0.007963940501213074}, {'name': 'Q1402', 'confidence': 0.007317592855542898}], 'text': 'Moez 5'}, 'input_channel': 'rest', 'message_id': 'fd6d97a964d041a0ab77b7115302c356', 'metadata': {}}, {'event': 'action', 'timestamp': 1585496842.6236198, 'name': 'utter_Q1401', 'policy': 'policy_0_MappingPolicy', 'confidence': 1}, {'event': 'bot', 'timestamp': 1585496842.623629, 'text': \" Pour plus d'informations ou pour déclarer un cas de contamination, appelez\\n\\nNuméro vert 80 10 19 19\\t\\t\\t\\t\\t\\t\\t\\t\\t\\n\\nPour le Nord-Est 71.589.271 ou 71.589.626 ou 71.589.596\\n\\nPour le Nord-Ouest 78.613.213\\n\\nPour le Centre-Est 73.369.090 ou 73.369.393 ou 74.672.372\\n\\nPour le Centre-Ouest 76.217.608 ou 76.217.915 ou 76.217.920\\n\\nPour le Sud 75.294.529 \", 'data': {'elements': None, 'quick_replies': None, 'buttons': None, 'attachment': None, 'image': None, 'custom': None}, 'metadata': {}}, {'event': 'action', 'timestamp': 1585496842.6338286, 'name': 'action_listen', 'policy': 'policy_0_MappingPolicy', 'confidence': 1}], 'followup_action': None, 'latest_action_name': 'action_listen', 'latest_event_time': 1585496842.6338286, 'latest_input_channel': 'rest', 'latest_message': {'intent': {'name': 'Q1401', 'confidence': 0.8638586401939392}, 'entities': [], 'intent_ranking': [{'name': 'Q1401', 'confidence': 0.8638586401939392}, {'name': 'QB15', 'confidence': 0.021110443398356438}, {'name': 'QB53', 'confidence': 0.012489859014749527}, {'name': 'QB18', 'confidence': 0.011219447478652}, {'name': 'QB10', 'confidence': 0.010476761497557163}, {'name': 'Q1001', 'confidence': 0.010303362272679806}, {'name': 'Q0502', 'confidence': 0.009726016782224178}, {'name': 'QB23', 'confidence': 0.008807798847556114}, {'name': 'Q0301', 'confidence': 0.007963940501213074}, {'name': 'Q1402', 'confidence': 0.007317592855542898}], 'text': 'Moez 5'}, 'paused': False, 'slots': {}}\n",
            "cle:  {'_id': '5e80c53630008e93224f1d32', 'sender_id': 'GA1.2.1072665847.1585497327', 'active_form': {}, 'events': [{'event': 'action', 'timestamp': 1585497398.9510539, 'name': 'action_session_start', 'policy': None, 'confidence': None}, {'event': 'session_started', 'timestamp': 1585497398.9510682}, {'event': 'action', 'timestamp': 1585497398.9519515, 'name': 'action_listen', 'policy': None, 'confidence': None}, {'event': 'action', 'timestamp': 1585497398.9519515, 'name': 'action_listen', 'policy': None, 'confidence': None}, {'event': 'user', 'timestamp': 1585497398.9605393, 'text': 'chesmek', 'parse_data': {'intent': {'name': 'QB15', 'confidence': 0.9701472520828247}, 'entities': [], 'intent_ranking': [{'name': 'QB15', 'confidence': 0.9701472520828247}, {'name': 'QB9', 'confidence': 0.004559433087706566}, {'name': 'QB2', 'confidence': 0.004021480213850737}, {'name': 'QB5', 'confidence': 0.0023532032500952482}, {'name': 'QB18', 'confidence': 0.0023047211579978466}, {'name': 'QB17', 'confidence': 0.0015638645272701979}, {'name': 'QB42', 'confidence': 0.0012813027715310454}, {'name': 'QB4', 'confidence': 0.001209919573739171}, {'name': 'QB75', 'confidence': 0.0008666219073347747}, {'name': 'QB10', 'confidence': 0.0006130042602308095}], 'text': 'chesmek'}, 'input_channel': 'rest', 'message_id': '6342e5af137b45a5a98254f7323b4b24', 'metadata': {}}, {'event': 'action', 'timestamp': 1585497398.9686131, 'name': 'utter_QB15', 'policy': 'policy_0_MappingPolicy', 'confidence': 1}, {'event': 'bot', 'timestamp': 1585497398.9686224, 'text': ' Ena 3ziza, bech njewbek 3ala el COVID 19.. ', 'data': {'elements': None, 'quick_replies': None, 'buttons': None, 'attachment': None, 'image': None, 'custom': None}, 'metadata': {}}, {'event': 'action', 'timestamp': 1585497398.9750872, 'name': 'action_listen', 'policy': 'policy_0_MappingPolicy', 'confidence': 1}, {'event': 'user', 'timestamp': 1585497404.8854735, 'text': 'kadech omrek', 'parse_data': {'intent': {'name': 'QB56', 'confidence': 0.7997769117355347}, 'entities': [], 'intent_ranking': [{'name': 'QB56', 'confidence': 0.7997769117355347}, {'name': 'QB8', 'confidence': 0.03132205829024315}, {'name': 'QB10', 'confidence': 0.026586739346385002}, {'name': 'Q1402', 'confidence': 0.025851063430309296}, {'name': 'QB27', 'confidence': 0.024217063561081886}, {'name': 'QB2', 'confidence': 0.011699543334543705}, {'name': 'QB70', 'confidence': 0.010347690433263779}, {'name': 'Q0414', 'confidence': 0.00956991221755743}, {'name': 'Qa18', 'confidence': 0.00899873860180378}, {'name': 'Q1401', 'confidence': 0.005893662106245756}], 'text': 'kadech omrek'}, 'input_channel': 'rest', 'message_id': '0c67f6dcc8514cdcb88e514fece3f787', 'metadata': {}}, {'event': 'action', 'timestamp': 1585497404.8921425, 'name': 'utter_QB56', 'policy': 'policy_0_MappingPolicy', 'confidence': 1}, {'event': 'bot', 'timestamp': 1585497404.89215, 'text': ' mé n9oulech ', 'data': {'elements': None, 'quick_replies': None, 'buttons': None, 'attachment': None, 'image': None, 'custom': None}, 'metadata': {}}, {'event': 'action', 'timestamp': 1585497404.8980088, 'name': 'action_listen', 'policy': 'policy_0_MappingPolicy', 'confidence': 1}, {'event': 'user', 'timestamp': 1585497419.4539354, 'text': 'atini numero imteik', 'parse_data': {'intent': {'name': 'Q1401', 'confidence': 0.5644177794456482}, 'entities': [], 'intent_ranking': [{'name': 'Q1401', 'confidence': 0.5644177794456482}, {'name': 'QB58', 'confidence': 0.14935457706451416}, {'name': 'QB57', 'confidence': 0.047158800065517426}, {'name': 'Q0413', 'confidence': 0.01966300792992115}, {'name': 'QB1', 'confidence': 0.014757265336811543}, {'name': 'Q0301', 'confidence': 0.013939198106527328}, {'name': 'Qa48', 'confidence': 0.013361047953367233}, {'name': 'QB55', 'confidence': 0.012942965142428875}, {'name': 'QB33', 'confidence': 0.01225615106523037}, {'name': 'QB23', 'confidence': 0.011511826887726784}], 'text': 'atini numero imteik'}, 'input_channel': 'rest', 'message_id': '533154a15cd443b4857a54ae6f633d7e', 'metadata': {}}, {'event': 'action', 'timestamp': 1585497419.4609585, 'name': 'utter_Q1401', 'policy': 'policy_0_MappingPolicy', 'confidence': 1}, {'event': 'bot', 'timestamp': 1585497419.4609675, 'text': \" Pour plus d'informations ou pour déclarer un cas de contamination, appelez\\n\\nNuméro vert 80 10 19 19\\t\\t\\t\\t\\t\\t\\t\\t\\t\\n\\nPour le Nord-Est 71.589.271 ou 71.589.626 ou 71.589.596\\n\\nPour le Nord-Ouest 78.613.213\\n\\nPour le Centre-Est 73.369.090 ou 73.369.393 ou 74.672.372\\n\\nPour le Centre-Ouest 76.217.608 ou 76.217.915 ou 76.217.920\\n\\nPour le Sud 75.294.529 \", 'data': {'elements': None, 'quick_replies': None, 'buttons': None, 'attachment': None, 'image': None, 'custom': None}, 'metadata': {}}, {'event': 'action', 'timestamp': 1585497419.4675655, 'name': 'action_listen', 'policy': 'policy_0_MappingPolicy', 'confidence': 1}, {'event': 'user', 'timestamp': 1585497427.1720078, 'text': 'chesmek', 'parse_data': {'intent': {'name': 'QB15', 'confidence': 0.9701472520828247}, 'entities': [], 'intent_ranking': [{'name': 'QB15', 'confidence': 0.9701472520828247}, {'name': 'QB9', 'confidence': 0.004559433087706566}, {'name': 'QB2', 'confidence': 0.004021480213850737}, {'name': 'QB5', 'confidence': 0.0023532032500952482}, {'name': 'QB18', 'confidence': 0.0023047211579978466}, {'name': 'QB17', 'confidence': 0.0015638645272701979}, {'name': 'QB42', 'confidence': 0.0012813027715310454}, {'name': 'QB4', 'confidence': 0.001209919573739171}, {'name': 'QB75', 'confidence': 0.0008666219073347747}, {'name': 'QB10', 'confidence': 0.0006130042602308095}], 'text': 'chesmek'}, 'input_channel': 'rest', 'message_id': 'c95fe1772a6d46029880d80a8ca85437', 'metadata': {}}, {'event': 'action', 'timestamp': 1585497427.1792655, 'name': 'utter_QB15', 'policy': 'policy_0_MappingPolicy', 'confidence': 1}, {'event': 'bot', 'timestamp': 1585497427.1792734, 'text': ' je suis 3ziza, je suis là pour répondre à vos questions à propos de la COVID 19.. ', 'data': {'elements': None, 'quick_replies': None, 'buttons': None, 'attachment': None, 'image': None, 'custom': None}, 'metadata': {}}, {'event': 'action', 'timestamp': 1585497427.1855245, 'name': 'action_listen', 'policy': 'policy_0_MappingPolicy', 'confidence': 1}, {'event': 'user', 'timestamp': 1585497455.8250694, 'text': 'ena esmi aziz', 'parse_data': {'intent': {'name': 'QB35', 'confidence': 0.6182165145874023}, 'entities': [], 'intent_ranking': [{'name': 'QB35', 'confidence': 0.6182165145874023}, {'name': 'QB15', 'confidence': 0.14799901843070984}, {'name': 'QB42', 'confidence': 0.12247173488140106}, {'name': 'QB55', 'confidence': 0.013814739882946014}, {'name': 'Q0101', 'confidence': 0.010528669692575932}, {'name': 'QB79', 'confidence': 0.008842415176331997}, {'name': 'QB75', 'confidence': 0.008546765893697739}, {'name': 'QB6', 'confidence': 0.007386807817965746}, {'name': 'Qa14', 'confidence': 0.005783069413155317}, {'name': 'Qa23', 'confidence': 0.0056122709065675735}], 'text': 'ena esmi aziz'}, 'input_channel': 'rest', 'message_id': '5622fb0cade54100b96f0a1de340df60', 'metadata': {}}, {'event': 'action', 'timestamp': 1585497455.832196, 'name': 'utter_QB35', 'policy': 'policy_0_MappingPolicy', 'confidence': 1}, {'event': 'bot', 'timestamp': 1585497455.8322039, 'text': ' netcharrfou ana 3ziza', 'data': {'elements': None, 'quick_replies': None, 'buttons': None, 'attachment': None, 'image': None, 'custom': None}, 'metadata': {}}, {'event': 'action', 'timestamp': 1585497455.838495, 'name': 'action_listen', 'policy': 'policy_0_MappingPolicy', 'confidence': 1}, {'event': 'user', 'timestamp': 1585497557.7834952, 'text': 'chesm bouk', 'parse_data': {'intent': {'name': 'QB15', 'confidence': 0.7430719137191772}, 'entities': [], 'intent_ranking': [{'name': 'QB15', 'confidence': 0.7430719137191772}, {'name': 'QB18', 'confidence': 0.03195807337760925}, {'name': 'QB69', 'confidence': 0.0306951142847538}, {'name': 'QB14', 'confidence': 0.025208065286278725}, {'name': 'QB9', 'confidence': 0.02180399000644684}, {'name': 'QB55', 'confidence': 0.013475422747433186}, {'name': 'QB1', 'confidence': 0.01008590403944254}, {'name': 'QB20', 'confidence': 0.008784209378063679}, {'name': 'Q0418', 'confidence': 0.008608760312199593}, {'name': 'Q0701', 'confidence': 0.00860550906509161}], 'text': 'chesm bouk'}, 'input_channel': 'rest', 'message_id': '0fe0876765c848149aa05420528169b6', 'metadata': {}}, {'event': 'action', 'timestamp': 1585497557.7906542, 'name': 'utter_QB15', 'policy': 'policy_0_MappingPolicy', 'confidence': 1}, {'event': 'bot', 'timestamp': 1585497557.790662, 'text': ' Ena 3ziza, bech njewbek 3ala el COVID 19.. ', 'data': {'elements': None, 'quick_replies': None, 'buttons': None, 'attachment': None, 'image': None, 'custom': None}, 'metadata': {}}, {'event': 'action', 'timestamp': 1585497557.796871, 'name': 'action_listen', 'policy': 'policy_0_MappingPolicy', 'confidence': 1}, {'event': 'user', 'timestamp': 1585497563.6410382, 'text': 'bara zamer', 'parse_data': {'intent': {'name': 'QB14', 'confidence': 0.9135619401931763}, 'entities': [], 'intent_ranking': [{'name': 'QB14', 'confidence': 0.9135619401931763}, {'name': 'QB58', 'confidence': 0.020911937579512596}, {'name': 'QB8', 'confidence': 0.018389787524938583}, {'name': 'QB31', 'confidence': 0.0075179594568908215}, {'name': 'QB33', 'confidence': 0.00515469117090106}, {'name': 'QB55', 'confidence': 0.0038467564154416323}, {'name': 'QB32', 'confidence': 0.0037359334528446198}, {'name': 'Qa27', 'confidence': 0.0031665104907006025}, {'name': 'QC3', 'confidence': 0.00222265743650496}, {'name': 'QB9', 'confidence': 0.001991745550185442}], 'text': 'bara zamer'}, 'input_channel': 'rest', 'message_id': 'c2f34382998d40f0b716f8a53fc2eee2', 'metadata': {}}, {'event': 'action', 'timestamp': 1585497563.6499891, 'name': 'utter_QB14', 'policy': 'policy_0_MappingPolicy', 'confidence': 1}, {'event': 'bot', 'timestamp': 1585497563.6499984, 'text': ' Vos propos se passent de tout commentaire ', 'data': {'elements': None, 'quick_replies': None, 'buttons': None, 'attachment': None, 'image': None, 'custom': None}, 'metadata': {}}, {'event': 'action', 'timestamp': 1585497563.6570597, 'name': 'action_listen', 'policy': 'policy_0_MappingPolicy', 'confidence': 1}, {'event': 'user', 'timestamp': 1585497572.4661689, 'text': 'je suis malade', 'parse_data': {'intent': {'name': 'Q0201', 'confidence': 0.9220632910728455}, 'entities': [], 'intent_ranking': [{'name': 'Q0201', 'confidence': 0.9220632910728455}, {'name': 'Q0502', 'confidence': 0.018964869901537895}, {'name': 'Q0410', 'confidence': 0.004890604875981808}, {'name': 'Q0301', 'confidence': 0.0048758890479803085}, {'name': 'Q1402', 'confidence': 0.004715567920356989}, {'name': 'Q0103', 'confidence': 0.004078634083271027}, {'name': 'Q0501', 'confidence': 0.0035076714120805264}, {'name': 'Q0101', 'confidence': 0.003292301669716835}, {'name': 'Q0405', 'confidence': 0.0028425920754671097}, {'name': 'QB4', 'confidence': 0.0023157077375799417}], 'text': 'je suis malade'}, 'input_channel': 'rest', 'message_id': '53a64cdd8d7f4259879429e5cd593b3e', 'metadata': {}}, {'event': 'action', 'timestamp': 1585497572.4748588, 'name': 'utter_Q0201', 'policy': 'policy_0_MappingPolicy', 'confidence': 1}, {'event': 'bot', 'timestamp': 1585497572.4748673, 'text': ' Les symptômes principaux sont la fièvre ou la sensation de fièvre et des signes de difficultés respiratoires de type toux ou essoufflement.\\n\\nA ce jour, il n’a pas été rapporté de contamination par l’eau. Cette maladie est à transmission respiratoire et probablement de l’animal à l’homme, mais la source n’est pas encore identifiée.', 'data': {'elements': None, 'quick_replies': None, 'buttons': None, 'attachment': None, 'image': None, 'custom': None}, 'metadata': {}}, {'event': 'action', 'timestamp': 1585497572.482924, 'name': 'action_listen', 'policy': 'policy_0_MappingPolicy', 'confidence': 1}, {'event': 'user', 'timestamp': 1585497581.2676404, 'text': 'andi corona', 'parse_data': {'intent': {'name': 'Q0201', 'confidence': 0.959122359752655}, 'entities': [], 'intent_ranking': [{'name': 'Q0201', 'confidence': 0.959122359752655}, {'name': 'Q1402', 'confidence': 0.009892869740724564}, {'name': 'Q0501', 'confidence': 0.003842774545773864}, {'name': 'Q0405', 'confidence': 0.0027235164307057858}, {'name': 'Q0502', 'confidence': 0.002275932813063264}, {'name': 'Q0503', 'confidence': 0.0017854395555332303}, {'name': 'Q0414', 'confidence': 0.0011873667826876044}, {'name': 'Q0101', 'confidence': 0.0010402415646240115}, {'name': 'Q1502', 'confidence': 0.0009628839907236397}, {'name': 'QC31', 'confidence': 0.0009576064185239375}], 'text': 'andi corona'}, 'input_channel': 'rest', 'message_id': 'f1ff06cc982345b3b3a01f76c8271595', 'metadata': {}}, {'event': 'action', 'timestamp': 1585497581.2763286, 'name': 'utter_Q0201', 'policy': 'policy_0_MappingPolicy', 'confidence': 1}, {'event': 'bot', 'timestamp': 1585497581.2763374, 'text': ' Les symptômes principaux sont la fièvre ou la sensation de fièvre et des signes de difficultés respiratoires de type toux ou essoufflement.\\n\\nA ce jour, il n’a pas été rapporté de contamination par l’eau. Cette maladie est à transmission respiratoire et probablement de l’animal à l’homme, mais la source n’est pas encore identifiée.', 'data': {'elements': None, 'quick_replies': None, 'buttons': None, 'attachment': None, 'image': None, 'custom': None}, 'metadata': {}}, {'event': 'action', 'timestamp': 1585497581.2838645, 'name': 'action_listen', 'policy': 'policy_0_MappingPolicy', 'confidence': 1}, {'event': 'user', 'timestamp': 1585497586.3663738, 'text': 'ahla', 'parse_data': {'intent': {'name': 'QB1', 'confidence': 0.9535199403762817}, 'entities': [], 'intent_ranking': [{'name': 'QB1', 'confidence': 0.9535199403762817}, {'name': 'QB53', 'confidence': 0.00685544079169631}, {'name': 'QB35', 'confidence': 0.006105909124016762}, {'name': 'QB18', 'confidence': 0.0030010815244168043}, {'name': 'QB14', 'confidence': 0.0027548561338335276}, {'name': 'QB10', 'confidence': 0.0023883008398115635}, {'name': 'QB15', 'confidence': 0.0017282635672017932}, {'name': 'QB68', 'confidence': 0.0017132963985204697}, {'name': 'QB38', 'confidence': 0.00167552987113595}, {'name': 'QB57', 'confidence': 0.0016749619971960783}], 'text': 'ahla'}, 'input_channel': 'rest', 'message_id': '54eab88547fa4244a80faa074d767596', 'metadata': {}}, {'event': 'action', 'timestamp': 1585497586.3761332, 'name': 'utter_QB1', 'policy': 'policy_0_MappingPolicy', 'confidence': 1}, {'event': 'bot', 'timestamp': 1585497586.376144, 'text': ' Salem Salem ', 'data': {'elements': None, 'quick_replies': None, 'buttons': None, 'attachment': None, 'image': None, 'custom': None}, 'metadata': {}}, {'event': 'action', 'timestamp': 1585497586.3840275, 'name': 'action_listen', 'policy': 'policy_0_MappingPolicy', 'confidence': 1}, {'event': 'user', 'timestamp': 1585497589.6849227, 'text': 'labes§', 'parse_data': {'intent': {'name': 'QB2', 'confidence': 0.9424591064453125}, 'entities': [], 'intent_ranking': [{'name': 'QB2', 'confidence': 0.9424591064453125}, {'name': 'QB9', 'confidence': 0.006584854330867529}, {'name': 'Qa4', 'confidence': 0.005701809655874968}, {'name': 'QB4', 'confidence': 0.005471873562783003}, {'name': 'QB29', 'confidence': 0.0049310470931231976}, {'name': 'Qa6', 'confidence': 0.0039600166492164135}, {'name': 'Q0416', 'confidence': 0.0038029758725315332}, {'name': 'Q0201', 'confidence': 0.003404468996450305}, {'name': 'QB7', 'confidence': 0.0032299822196364403}, {'name': 'QB19', 'confidence': 0.0023542060516774654}], 'text': 'labes§'}, 'input_channel': 'rest', 'message_id': 'a3d3585eba5e4055b9d09c7ae44458b0', 'metadata': {}}, {'event': 'action', 'timestamp': 1585497589.6928575, 'name': 'utter_QB2', 'policy': 'policy_0_MappingPolicy', 'confidence': 1}, {'event': 'bot', 'timestamp': 1585497589.692869, 'text': ' très bien merci, comment je pourrais vous aider ? ', 'data': {'elements': None, 'quick_replies': None, 'buttons': None, 'attachment': None, 'image': None, 'custom': None}, 'metadata': {}}, {'event': 'action', 'timestamp': 1585497589.700186, 'name': 'action_listen', 'policy': 'policy_0_MappingPolicy', 'confidence': 1}, {'event': 'user', 'timestamp': 1585497596.1467013, 'text': 'labes mara okhra', 'parse_data': {'intent': {'name': 'Q0605', 'confidence': 0.3778170645236969}, 'entities': [], 'intent_ranking': [{'name': 'Q0605', 'confidence': 0.3778170645236969}, {'name': 'QB2', 'confidence': 0.08336099982261658}, {'name': 'Q0301', 'confidence': 0.06025882810354233}, {'name': 'QB19', 'confidence': 0.056424833834171295}, {'name': 'Q0414', 'confidence': 0.03566521778702736}, {'name': 'Q0201', 'confidence': 0.03349750116467476}, {'name': 'Qa6', 'confidence': 0.03184182569384575}, {'name': 'QB29', 'confidence': 0.03047199919819832}, {'name': 'QB11', 'confidence': 0.029703544452786446}, {'name': 'QB8', 'confidence': 0.029163172468543053}], 'text': 'labes mara okhra'}, 'input_channel': 'rest', 'message_id': 'b2855acdcbcf45a6898e6d6dbbbf9b72', 'metadata': {}}, {'event': 'action', 'timestamp': 1585497596.154088, 'name': 'utter_Q0605', 'policy': 'policy_0_MappingPolicy', 'confidence': 1}, {'event': 'bot', 'timestamp': 1585497596.1540954, 'text': ' On vient de commencer son utilisation. ', 'data': {'elements': None, 'quick_replies': None, 'buttons': None, 'attachment': None, 'image': None, 'custom': None}, 'metadata': {}}, {'event': 'action', 'timestamp': 1585497596.1606379, 'name': 'action_listen', 'policy': 'policy_0_MappingPolicy', 'confidence': 1}, {'event': 'user', 'timestamp': 1585497603.8771565, 'text': 'chesmou dwe', 'parse_data': {'intent': {'name': 'QB65', 'confidence': 0.22430530190467834}, 'entities': [], 'intent_ranking': [{'name': 'QB65', 'confidence': 0.22430530190467834}, {'name': 'Q0701', 'confidence': 0.13580848276615143}, {'name': 'QB18', 'confidence': 0.0937349796295166}, {'name': 'QB57', 'confidence': 0.06489003449678421}, {'name': 'Q1401', 'confidence': 0.04766369238495827}, {'name': 'Q0602', 'confidence': 0.043295249342918396}, {'name': 'QB54', 'confidence': 0.0376293770968914}, {'name': 'QB3', 'confidence': 0.03349575400352478}, {'name': 'Q0105', 'confidence': 0.026288999244570732}, {'name': 'QB55', 'confidence': 0.02265641838312149}], 'text': 'chesmou dwe'}, 'input_channel': 'rest', 'message_id': '968ea31b52f44c768bcc781915aa1b6b', 'metadata': {}}, {'event': 'action', 'timestamp': 1585497603.963245, 'name': 'action_default_fallback', 'policy': 'policy_2_FallbackPolicy', 'confidence': 1.0}, {'event': 'bot', 'timestamp': 1585497603.9632595, 'text': 'merci de reformuler plus clairement votre question', 'data': {'elements': None, 'quick_replies': None, 'buttons': None, 'attachment': None, 'image': None, 'custom': None}, 'metadata': {}}, {'event': 'action', 'timestamp': 1585497603.981772, 'name': 'action_listen', 'policy': 'policy_2_FallbackPolicy', 'confidence': 1.0}, {'event': 'user', 'timestamp': 1585497623.500088, 'text': 'kifech ndewi rohi', 'parse_data': {'intent': {'name': 'Q0201', 'confidence': 0.237248957157135}, 'entities': [], 'intent_ranking': [{'name': 'Q0201', 'confidence': 0.237248957157135}, {'name': 'Q1402', 'confidence': 0.18560291826725006}, {'name': 'Q0411', 'confidence': 0.153421550989151}, {'name': 'Q0405', 'confidence': 0.0999046340584755}, {'name': 'Q0501', 'confidence': 0.038020405918359756}, {'name': 'QB54', 'confidence': 0.03623299300670624}, {'name': 'QB4', 'confidence': 0.029437094926834106}, {'name': 'QB10', 'confidence': 0.028024185448884964}, {'name': 'QB56', 'confidence': 0.025960957631468773}, {'name': 'Q0301', 'confidence': 0.022857148200273514}], 'text': 'kifech ndewi rohi'}, 'input_channel': 'rest', 'message_id': 'e2cae85ca6fa4a8c97986656817b25ee', 'metadata': {}}, {'event': 'action', 'timestamp': 1585497623.5252156, 'name': 'action_default_fallback', 'policy': 'policy_2_FallbackPolicy', 'confidence': 1.0}, {'event': 'bot', 'timestamp': 1585497623.5252268, 'text': 'merci de reformuler plus clairement votre question', 'data': {'elements': None, 'quick_replies': None, 'buttons': None, 'attachment': None, 'image': None, 'custom': None}, 'metadata': {}}, {'event': 'action', 'timestamp': 1585497623.5329394, 'name': 'action_listen', 'policy': 'policy_2_FallbackPolicy', 'confidence': 1.0}, {'event': 'user', 'timestamp': 1585497628.3114812, 'text': 'bara nnayek', 'parse_data': {'intent': {'name': 'QB14', 'confidence': 0.9847902655601501}, 'entities': [], 'intent_ranking': [{'name': 'QB14', 'confidence': 0.9847902655601501}, {'name': 'Qa27', 'confidence': 0.0014271109830588102}, {'name': 'Qa34', 'confidence': 0.001007758779451251}, {'name': 'QB33', 'confidence': 0.0008343709632754326}, {'name': 'QB22', 'confidence': 0.0008083457360044122}, {'name': 'QB31', 'confidence': 0.0007205796428024769}, {'name': 'Q0202', 'confidence': 0.0006902370951138437}, {'name': 'QB32', 'confidence': 0.0006659729406237602}, {'name': 'QC38', 'confidence': 0.0006360135739669204}, {'name': 'QB8', 'confidence': 0.0005716198938898742}], 'text': 'bara nnayek'}, 'input_channel': 'rest', 'message_id': 'bce734db00954ce5bba799ff870c7847', 'metadata': {}}, {'event': 'action', 'timestamp': 1585497628.3190916, 'name': 'utter_QB14', 'policy': 'policy_0_MappingPolicy', 'confidence': 1}, {'event': 'bot', 'timestamp': 1585497628.3191001, 'text': ' Vos propos se passent de tout commentaire ', 'data': {'elements': None, 'quick_replies': None, 'buttons': None, 'attachment': None, 'image': None, 'custom': None}, 'metadata': {}}, {'event': 'action', 'timestamp': 1585497628.3264003, 'name': 'action_listen', 'policy': 'policy_0_MappingPolicy', 'confidence': 1}], 'followup_action': None, 'latest_action_name': 'action_listen', 'latest_event_time': 1585497628.3264003, 'latest_input_channel': 'rest', 'latest_message': {'intent': {'name': 'QB14', 'confidence': 0.9847902655601501}, 'entities': [], 'intent_ranking': [{'name': 'QB14', 'confidence': 0.9847902655601501}, {'name': 'Qa27', 'confidence': 0.0014271109830588102}, {'name': 'Qa34', 'confidence': 0.001007758779451251}, {'name': 'QB33', 'confidence': 0.0008343709632754326}, {'name': 'QB22', 'confidence': 0.0008083457360044122}, {'name': 'QB31', 'confidence': 0.0007205796428024769}, {'name': 'Q0202', 'confidence': 0.0006902370951138437}, {'name': 'QB32', 'confidence': 0.0006659729406237602}, {'name': 'QC38', 'confidence': 0.0006360135739669204}, {'name': 'QB8', 'confidence': 0.0005716198938898742}], 'text': 'bara nnayek'}, 'paused': False, 'slots': {}}\n",
            "cle:  {'_id': '5e80c62530008e93224f1d80', 'sender_id': 'GA1.2.727914747.1585420194', 'active_form': {}, 'events': [{'event': 'action', 'timestamp': 1585497637.7737215, 'name': 'action_session_start', 'policy': None, 'confidence': None}, {'event': 'session_started', 'timestamp': 1585497637.7737308}, {'event': 'action', 'timestamp': 1585497637.773752, 'name': 'action_listen', 'policy': None, 'confidence': None}, {'event': 'action', 'timestamp': 1585497637.773752, 'name': 'action_listen', 'policy': None, 'confidence': None}, {'event': 'user', 'timestamp': 1585497637.7808878, 'text': '14 يوم تكفي باش نتأكد من سلامة الشخص', 'parse_data': {'intent': {'name': 'Qa3', 'confidence': 0.2794922888278961}, 'entities': [], 'intent_ranking': [{'name': 'Qa3', 'confidence': 0.2794922888278961}, {'name': 'QC25', 'confidence': 0.10905441641807556}, {'name': 'Qa6', 'confidence': 0.07816958427429199}, {'name': 'Qa43', 'confidence': 0.05883336067199707}, {'name': 'Qa15', 'confidence': 0.05178281292319298}, {'name': 'Qa29', 'confidence': 0.03834978863596916}, {'name': 'QC9', 'confidence': 0.031834252178668976}, {'name': 'Qa19', 'confidence': 0.02910122089087963}, {'name': 'Q0410', 'confidence': 0.02573573589324951}, {'name': 'Qa35', 'confidence': 0.023129183799028397}], 'text': '14 يوم تكفي باش نتأكد من سلامة الشخص'}, 'input_channel': 'rest', 'message_id': '7b43ffef06c74ea0a4f7360b90aa40bd', 'metadata': {}}, {'event': 'action', 'timestamp': 1585497637.8043818, 'name': 'action_default_fallback', 'policy': 'policy_2_FallbackPolicy', 'confidence': 1.0}, {'event': 'bot', 'timestamp': 1585497637.8043935, 'text': 'merci de reformuler plus clairement votre question', 'data': {'elements': None, 'quick_replies': None, 'buttons': None, 'attachment': None, 'image': None, 'custom': None}, 'metadata': {}}, {'event': 'action', 'timestamp': 1585497637.8111148, 'name': 'action_listen', 'policy': 'policy_2_FallbackPolicy', 'confidence': 1.0}, {'event': 'user', 'timestamp': 1585497708.382211, 'text': '14 يوم كافية للتأكد من سلامة الشخص و عدم حملو الفيروس', 'parse_data': {'intent': {'name': 'Qa3', 'confidence': 0.24979180097579956}, 'entities': [], 'intent_ranking': [{'name': 'Qa3', 'confidence': 0.24979180097579956}, {'name': 'Qa6', 'confidence': 0.16288913786411285}, {'name': 'Qa19', 'confidence': 0.14504249393939972}, {'name': 'Qa29', 'confidence': 0.12928512692451477}, {'name': 'QC25', 'confidence': 0.050130076706409454}, {'name': 'Qa20', 'confidence': 0.022219249978661537}, {'name': 'Qa35', 'confidence': 0.018071351572871208}, {'name': 'Qa23', 'confidence': 0.01709918864071369}, {'name': 'Q0410', 'confidence': 0.01514790765941143}, {'name': 'Qa32', 'confidence': 0.01365259476006031}], 'text': '14 يوم كافية للتأكد من سلامة الشخص و عدم حملو الفيروس'}, 'input_channel': 'rest', 'message_id': '113a05f090bd4ce3a3bd1326c4903416', 'metadata': {}}, {'event': 'action', 'timestamp': 1585497708.4071808, 'name': 'action_default_fallback', 'policy': 'policy_2_FallbackPolicy', 'confidence': 1.0}, {'event': 'bot', 'timestamp': 1585497708.4071991, 'text': 'merci de reformuler plus clairement votre question', 'data': {'elements': None, 'quick_replies': None, 'buttons': None, 'attachment': None, 'image': None, 'custom': None}, 'metadata': {}}, {'event': 'action', 'timestamp': 1585497708.4140265, 'name': 'action_listen', 'policy': 'policy_2_FallbackPolicy', 'confidence': 1.0}, {'event': 'user', 'timestamp': 1585497726.5711067, 'text': 'مدة الحجر الصحي', 'parse_data': {'intent': {'name': 'Qa34', 'confidence': 0.7782098054885864}, 'entities': [], 'intent_ranking': [{'name': 'Qa34', 'confidence': 0.7782098054885864}, {'name': 'Qa35', 'confidence': 0.14575934410095215}, {'name': 'QB14', 'confidence': 0.010267207399010658}, {'name': 'Qa48', 'confidence': 0.009385935962200165}, {'name': 'QB63', 'confidence': 0.009293410927057266}, {'name': 'Qa55', 'confidence': 0.00826918426901102}, {'name': 'QB32', 'confidence': 0.00390848983079195}, {'name': 'QC3', 'confidence': 0.0034587099216878414}, {'name': 'QB79', 'confidence': 0.0032350521069020033}, {'name': 'Qa45', 'confidence': 0.002543518552556634}], 'text': 'مدة الحجر الصحي'}, 'input_channel': 'rest', 'message_id': '1096196b134449e08c3e7e414ba79902', 'metadata': {}}, {'event': 'action', 'timestamp': 1585497726.5785272, 'name': 'utter_Qa34', 'policy': 'policy_0_MappingPolicy', 'confidence': 1}, {'event': 'bot', 'timestamp': 1585497726.5785365, 'text': ' حسب منظمة الصحة العالمية، يعرف الحجر الصحي على أنه تقييد لأنشطة الأشخاص غير المرضى، ولكن الذين يرجح أنهم تعرضوا لعامل مُمرض أو لمرض.  أو عزلهم عن الآخرين بهدف رصد الأعراض واكتشاف الأعراض مبكرا. \\n\\nتكون فترة الحجر الصحي الذاتي 14 يوما.\\n\\nيُطلب من الأشخاص الخاضعين للحجر الصحّي الذاتي البقاء في الغرفة أو أي مكان آخر منفرد للحدّ من انتشار المرض للآخرين. \\n\\nيمكنك الحصول على المزيد من المعلومات من خلال الضغط على هذا الرابط \\n\\n covid-19.tn/blog/الحجر-الصحي-الذاتي/ ', 'data': {'elements': None, 'quick_replies': None, 'buttons': None, 'attachment': None, 'image': None, 'custom': None}, 'metadata': {}}, {'event': 'action', 'timestamp': 1585497726.5856266, 'name': 'action_listen', 'policy': 'policy_0_MappingPolicy', 'confidence': 1}], 'followup_action': None, 'latest_action_name': 'action_listen', 'latest_event_time': 1585497726.5856266, 'latest_input_channel': 'rest', 'latest_message': {'intent': {'name': 'Qa34', 'confidence': 0.7782098054885864}, 'entities': [], 'intent_ranking': [{'name': 'Qa34', 'confidence': 0.7782098054885864}, {'name': 'Qa35', 'confidence': 0.14575934410095215}, {'name': 'QB14', 'confidence': 0.010267207399010658}, {'name': 'Qa48', 'confidence': 0.009385935962200165}, {'name': 'QB63', 'confidence': 0.009293410927057266}, {'name': 'Qa55', 'confidence': 0.00826918426901102}, {'name': 'QB32', 'confidence': 0.00390848983079195}, {'name': 'QC3', 'confidence': 0.0034587099216878414}, {'name': 'QB79', 'confidence': 0.0032350521069020033}, {'name': 'Qa45', 'confidence': 0.002543518552556634}], 'text': 'مدة الحجر الصحي'}, 'paused': False, 'slots': {}}\n",
            "cle:  {'_id': '5e80c62a30008e93224f1d88', 'sender_id': 'GA1.2.522211530.1585497586', 'active_form': {}, 'events': [{'event': 'action', 'timestamp': 1585497642.3641157, 'name': 'action_session_start', 'policy': None, 'confidence': None}, {'event': 'session_started', 'timestamp': 1585497642.3641253}, {'event': 'action', 'timestamp': 1585497642.3641462, 'name': 'action_listen', 'policy': None, 'confidence': None}, {'event': 'action', 'timestamp': 1585497642.3641462, 'name': 'action_listen', 'policy': None, 'confidence': None}, {'event': 'user', 'timestamp': 1585497642.3707051, 'text': 'عندي الشياح في الحلق', 'parse_data': {'intent': {'name': 'Qa2', 'confidence': 0.9579164981842041}, 'entities': [], 'intent_ranking': [{'name': 'Qa2', 'confidence': 0.9579164981842041}, {'name': 'QC6', 'confidence': 0.004401201382279396}, {'name': 'QC5', 'confidence': 0.003425874747335911}, {'name': 'Qa32', 'confidence': 0.003150605596601963}, {'name': 'QB11', 'confidence': 0.00288265198469162}, {'name': 'Qa4', 'confidence': 0.0022813465911895037}, {'name': 'Qa28', 'confidence': 0.0016606696881353855}, {'name': 'QC24', 'confidence': 0.0014448941219598055}, {'name': 'QC19', 'confidence': 0.0012773911003023386}, {'name': 'Qa24', 'confidence': 0.0011857342906296253}], 'text': 'عندي الشياح في الحلق'}, 'input_channel': 'rest', 'message_id': '0012dd92dd37427f868c66621b1a3f1f', 'metadata': {}}, {'event': 'action', 'timestamp': 1585497642.3770807, 'name': 'utter_Qa2', 'policy': 'policy_0_MappingPolicy', 'confidence': 1}, {'event': 'bot', 'timestamp': 1585497642.3770878, 'text': ' أكثر الأعراض شيوعاً ما يلي الحمّى والسعال الكحة وصعوبة التنفس.', 'data': {'elements': None, 'quick_replies': None, 'buttons': None, 'attachment': None, 'image': None, 'custom': None}, 'metadata': {}}, {'event': 'action', 'timestamp': 1585497642.3831408, 'name': 'action_listen', 'policy': 'policy_0_MappingPolicy', 'confidence': 1}, {'event': 'user', 'timestamp': 1585497664.5376983, 'text': 'و اوجاع الحلق', 'parse_data': {'intent': {'name': 'Qa2', 'confidence': 0.9539108276367188}, 'entities': [], 'intent_ranking': [{'name': 'Qa2', 'confidence': 0.9539108276367188}, {'name': 'QC24', 'confidence': 0.007112679537385702}, {'name': 'QC38', 'confidence': 0.004016567952930927}, {'name': 'QC19', 'confidence': 0.002416775329038501}, {'name': 'Qa9', 'confidence': 0.0023546679876744747}, {'name': 'Qa31', 'confidence': 0.0019858097657561302}, {'name': 'QC2', 'confidence': 0.0019165355479344726}, {'name': 'Qa32', 'confidence': 0.0015854822704568505}, {'name': 'Qa42', 'confidence': 0.0014827370177954435}, {'name': 'QC6', 'confidence': 0.0014242379693314433}], 'text': 'و اوجاع الحلق'}, 'input_channel': 'rest', 'message_id': 'b8c9bcb2defd4aae8dd92fcbd43b9fab', 'metadata': {}}, {'event': 'action', 'timestamp': 1585497664.544635, 'name': 'utter_Qa2', 'policy': 'policy_0_MappingPolicy', 'confidence': 1}, {'event': 'bot', 'timestamp': 1585497664.5446434, 'text': ' أكثر الأعراض شيوعاً ما يلي الحمّى والسعال الكحة وصعوبة التنفس.', 'data': {'elements': None, 'quick_replies': None, 'buttons': None, 'attachment': None, 'image': None, 'custom': None}, 'metadata': {}}, {'event': 'action', 'timestamp': 1585497664.5509663, 'name': 'action_listen', 'policy': 'policy_0_MappingPolicy', 'confidence': 1}], 'followup_action': None, 'latest_action_name': 'action_listen', 'latest_event_time': 1585497664.5509663, 'latest_input_channel': 'rest', 'latest_message': {'intent': {'name': 'Qa2', 'confidence': 0.9539108276367188}, 'entities': [], 'intent_ranking': [{'name': 'Qa2', 'confidence': 0.9539108276367188}, {'name': 'QC24', 'confidence': 0.007112679537385702}, {'name': 'QC38', 'confidence': 0.004016567952930927}, {'name': 'QC19', 'confidence': 0.002416775329038501}, {'name': 'Qa9', 'confidence': 0.0023546679876744747}, {'name': 'Qa31', 'confidence': 0.0019858097657561302}, {'name': 'QC2', 'confidence': 0.0019165355479344726}, {'name': 'Qa32', 'confidence': 0.0015854822704568505}, {'name': 'Qa42', 'confidence': 0.0014827370177954435}, {'name': 'QC6', 'confidence': 0.0014242379693314433}], 'text': 'و اوجاع الحلق'}, 'paused': False, 'slots': {}}\n",
            "cle:  {'_id': '5e80c63c30008e93224f1d92', 'sender_id': 'GA1.2.1223546702.1585497595', 'active_form': {}, 'events': [{'event': 'action', 'timestamp': 1585497660.516822, 'name': 'action_session_start', 'policy': None, 'confidence': None}, {'event': 'session_started', 'timestamp': 1585497660.5168314}, {'event': 'action', 'timestamp': 1585497660.5168538, 'name': 'action_listen', 'policy': None, 'confidence': None}, {'event': 'action', 'timestamp': 1585497660.5168538, 'name': 'action_listen', 'policy': None, 'confidence': None}, {'event': 'user', 'timestamp': 1585497660.523793, 'text': 'Salut', 'parse_data': {'intent': {'name': 'QB1', 'confidence': 0.781359076499939}, 'entities': [], 'intent_ranking': [{'name': 'QB1', 'confidence': 0.781359076499939}, {'name': 'QB53', 'confidence': 0.05058826133608818}, {'name': 'QB15', 'confidence': 0.04646376892924309}, {'name': 'Q1401', 'confidence': 0.034864068031311035}, {'name': 'QB35', 'confidence': 0.013593110255897045}, {'name': 'QB10', 'confidence': 0.012990702874958515}, {'name': 'QB58', 'confidence': 0.007151738274842501}, {'name': 'QB55', 'confidence': 0.005458123981952667}, {'name': 'QB14', 'confidence': 0.0051358481869101524}, {'name': 'QB57', 'confidence': 0.004894063342362642}], 'text': 'Salut'}, 'input_channel': 'rest', 'message_id': '19639491f5324e74ba4f6b8485fa81a8', 'metadata': {}}, {'event': 'action', 'timestamp': 1585497660.5315287, 'name': 'utter_QB1', 'policy': 'policy_0_MappingPolicy', 'confidence': 1}, {'event': 'bot', 'timestamp': 1585497660.5315392, 'text': ' Aaslema Aaslema ', 'data': {'elements': None, 'quick_replies': None, 'buttons': None, 'attachment': None, 'image': None, 'custom': None}, 'metadata': {}}, {'event': 'action', 'timestamp': 1585497660.5389647, 'name': 'action_listen', 'policy': 'policy_0_MappingPolicy', 'confidence': 1}, {'event': 'user', 'timestamp': 1585497680.677242, 'text': \"C'est quoi le corona virus\", 'parse_data': {'intent': {'name': 'Q0101', 'confidence': 0.951980471611023}, 'entities': [], 'intent_ranking': [{'name': 'Q0101', 'confidence': 0.951980471611023}, {'name': 'Q0102', 'confidence': 0.0136345773935318}, {'name': 'Q0410', 'confidence': 0.0042094034142792225}, {'name': 'Q0407', 'confidence': 0.003155524842441082}, {'name': 'Q0404', 'confidence': 0.0030849871691316366}, {'name': 'QB4', 'confidence': 0.0024827143643051386}, {'name': 'Q0201', 'confidence': 0.0020303279161453247}, {'name': 'QB54', 'confidence': 0.0016232812777161598}, {'name': 'Q0103', 'confidence': 0.001580543234013021}, {'name': 'Q0901', 'confidence': 0.00138462136965245}], 'text': \"C'est quoi le corona virus\"}, 'input_channel': 'rest', 'message_id': '338c9c7036734f24bd706f4de76b6b49', 'metadata': {}}, {'event': 'action', 'timestamp': 1585497680.6843495, 'name': 'utter_Q0101', 'policy': 'policy_0_MappingPolicy', 'confidence': 1}, {'event': 'bot', 'timestamp': 1585497680.684359, 'text': ' Le virus identifié en janvier 2020 en Chine est un nouveau Coronavirus. La maladie provoquée par ce Coronavirus a été nommée COVID-19 par l’Organisation mondiale de la Santé – OMS.\\n\\nDepuis le 11 mars 2020, l’OMS qualifie la situation mondiale du COVID-19 de pandémie ; c’est-à-dire que l’épidémie touche désormais 137 pays sur une zone étendue.', 'data': {'elements': None, 'quick_replies': None, 'buttons': None, 'attachment': None, 'image': None, 'custom': None}, 'metadata': {}}, {'event': 'action', 'timestamp': 1585497680.6911, 'name': 'action_listen', 'policy': 'policy_0_MappingPolicy', 'confidence': 1}, {'event': 'user', 'timestamp': 1585497708.2593472, 'text': 'Comment se protéger ?', 'parse_data': {'intent': {'name': 'Q0411', 'confidence': 0.962743878364563}, 'entities': [], 'intent_ranking': [{'name': 'Q0411', 'confidence': 0.962743878364563}, {'name': 'Q0701', 'confidence': 0.005164226051419973}, {'name': 'Q0501', 'confidence': 0.0038863103836774826}, {'name': 'Q1304', 'confidence': 0.003205742919817567}, {'name': 'Qa33', 'confidence': 0.002638662699609995}, {'name': 'QB4', 'confidence': 0.0018714668694883585}, {'name': 'Q0402', 'confidence': 0.001747725997120142}, {'name': 'Q0405', 'confidence': 0.0015768471639603376}, {'name': 'Qa10', 'confidence': 0.0013621809193864465}, {'name': 'QB18', 'confidence': 0.0011031054891645908}], 'text': 'Comment se protéger ?'}, 'input_channel': 'rest', 'message_id': 'ff5f67648ca24e35bd3c8d439e697520', 'metadata': {}}, {'event': 'action', 'timestamp': 1585497708.2662501, 'name': 'utter_Q0411', 'policy': 'policy_0_MappingPolicy', 'confidence': 1}, {'event': 'bot', 'timestamp': 1585497708.266258, 'text': '\\n\\nAUTOCONFINEMENT\\n\\nSE LAVER FREQUEMMENT LES MAINS\\n\\nÉVITER LES CONTACTS PROCHES\\n\\nÉVITER DE SE TOUCHER LES YEUX, LE NEZ ET LA BOUCHE.\\n\\nRESPECTER LES RÈGLES D’HYGIÈNE RESPIRATOIRE\\n\\nTENEZ-VOUS INFORMÉ ET SUIVEZ LES CONSEILS DE VOTRE MÉDECIN ', 'data': {'elements': None, 'quick_replies': None, 'buttons': None, 'attachment': None, 'image': None, 'custom': None}, 'metadata': {}}, {'event': 'action', 'timestamp': 1585497708.2729375, 'name': 'action_listen', 'policy': 'policy_0_MappingPolicy', 'confidence': 1}, {'event': 'user', 'timestamp': 1585497729.9230173, 'text': 'Femme enceinte', 'parse_data': {'intent': {'name': 'Q0416', 'confidence': 0.31559768319129944}, 'entities': [], 'intent_ranking': [{'name': 'Q0416', 'confidence': 0.31559768319129944}, {'name': 'Q0301', 'confidence': 0.13752759993076324}, {'name': 'QB61', 'confidence': 0.06973502039909363}, {'name': 'QB19', 'confidence': 0.05694671347737312}, {'name': 'QB9', 'confidence': 0.055758122354745865}, {'name': 'QB2', 'confidence': 0.052705761045217514}, {'name': 'Q0201', 'confidence': 0.050574809312820435}, {'name': 'QB24', 'confidence': 0.035125698894262314}, {'name': 'QB18', 'confidence': 0.026056531816720963}, {'name': 'QB59', 'confidence': 0.017167266458272934}], 'text': 'Femme enceinte'}, 'input_channel': 'rest', 'message_id': '12c2af08f2e445309b732175832010fe', 'metadata': {}}, {'event': 'action', 'timestamp': 1585497729.9470236, 'name': 'action_default_fallback', 'policy': 'policy_2_FallbackPolicy', 'confidence': 1.0}, {'event': 'bot', 'timestamp': 1585497729.9470353, 'text': 'merci de reformuler plus clairement votre question', 'data': {'elements': None, 'quick_replies': None, 'buttons': None, 'attachment': None, 'image': None, 'custom': None}, 'metadata': {}}, {'event': 'action', 'timestamp': 1585497729.9542177, 'name': 'action_listen', 'policy': 'policy_2_FallbackPolicy', 'confidence': 1.0}, {'event': 'user', 'timestamp': 1585497749.8960383, 'text': 'Impact sur la femme enceinte', 'parse_data': {'intent': {'name': 'Q0502', 'confidence': 0.33114027976989746}, 'entities': [], 'intent_ranking': [{'name': 'Q0502', 'confidence': 0.33114027976989746}, {'name': 'Q0201', 'confidence': 0.18276232481002808}, {'name': 'Q1305', 'confidence': 0.05492928624153137}, {'name': 'Q0501', 'confidence': 0.05103519558906555}, {'name': 'Q0410', 'confidence': 0.05063209682703018}, {'name': 'Q0104', 'confidence': 0.045767202973365784}, {'name': 'QB54', 'confidence': 0.040400430560112}, {'name': 'Q0301', 'confidence': 0.03193620219826698}, {'name': 'Q1301', 'confidence': 0.029218358919024467}, {'name': 'Q1001', 'confidence': 0.020231131464242935}], 'text': 'Impact sur la femme enceinte'}, 'input_channel': 'rest', 'message_id': '65baf746804a42699f5ccb3403d455a8', 'metadata': {}}, {'event': 'action', 'timestamp': 1585497749.9196613, 'name': 'action_default_fallback', 'policy': 'policy_2_FallbackPolicy', 'confidence': 1.0}, {'event': 'bot', 'timestamp': 1585497749.9196732, 'text': 'merci de reformuler plus clairement votre question', 'data': {'elements': None, 'quick_replies': None, 'buttons': None, 'attachment': None, 'image': None, 'custom': None}, 'metadata': {}}, {'event': 'action', 'timestamp': 1585497749.9270864, 'name': 'action_listen', 'policy': 'policy_2_FallbackPolicy', 'confidence': 1.0}, {'event': 'user', 'timestamp': 1585497782.0694215, 'text': \"C'est quoi le danger sur la femme enceinte ?\", 'parse_data': {'intent': {'name': 'Q1502', 'confidence': 0.40853410959243774}, 'entities': [], 'intent_ranking': [{'name': 'Q1502', 'confidence': 0.40853410959243774}, {'name': 'Q0201', 'confidence': 0.20166164636611938}, {'name': 'Q0304', 'confidence': 0.057134244590997696}, {'name': 'QB11', 'confidence': 0.049772631376981735}, {'name': 'Q0104', 'confidence': 0.0403105653822422}, {'name': 'QB19', 'confidence': 0.03165455162525177}, {'name': 'Q0403', 'confidence': 0.021635940298438072}, {'name': 'QB24', 'confidence': 0.019395431503653526}, {'name': 'Q1305', 'confidence': 0.015596548095345497}, {'name': 'Q0505', 'confidence': 0.014830042608082294}], 'text': \"C'est quoi le danger sur la femme enceinte ?\"}, 'input_channel': 'rest', 'message_id': 'a202db86ee1845fdb804c3ca5f188669', 'metadata': {}}, {'event': 'action', 'timestamp': 1585497782.0769565, 'name': 'utter_Q1502', 'policy': 'policy_0_MappingPolicy', 'confidence': 1}, {'event': 'bot', 'timestamp': 1585497782.076965, 'text': ' Il y aura une communication officielle ', 'data': {'elements': None, 'quick_replies': None, 'buttons': None, 'attachment': None, 'image': None, 'custom': None}, 'metadata': {}}, {'event': 'action', 'timestamp': 1585497782.084563, 'name': 'action_listen', 'policy': 'policy_0_MappingPolicy', 'confidence': 1}], 'followup_action': None, 'latest_action_name': 'action_listen', 'latest_event_time': 1585497782.084563, 'latest_input_channel': 'rest', 'latest_message': {'intent': {'name': 'Q1502', 'confidence': 0.40853410959243774}, 'entities': [], 'intent_ranking': [{'name': 'Q1502', 'confidence': 0.40853410959243774}, {'name': 'Q0201', 'confidence': 0.20166164636611938}, {'name': 'Q0304', 'confidence': 0.057134244590997696}, {'name': 'QB11', 'confidence': 0.049772631376981735}, {'name': 'Q0104', 'confidence': 0.0403105653822422}, {'name': 'QB19', 'confidence': 0.03165455162525177}, {'name': 'Q0403', 'confidence': 0.021635940298438072}, {'name': 'QB24', 'confidence': 0.019395431503653526}, {'name': 'Q1305', 'confidence': 0.015596548095345497}, {'name': 'Q0505', 'confidence': 0.014830042608082294}], 'text': \"C'est quoi le danger sur la femme enceinte ?\"}, 'paused': False, 'slots': {}}\n",
            "cle:  {'_id': '5e80c73430008e93224f1dcf', 'sender_id': 'GA1.2.1687506255.1585497650', 'active_form': {}, 'events': [{'event': 'action', 'timestamp': 1585497908.01149, 'name': 'action_session_start', 'policy': None, 'confidence': None}, {'event': 'session_started', 'timestamp': 1585497908.0115004}, {'event': 'action', 'timestamp': 1585497908.0115259, 'name': 'action_listen', 'policy': None, 'confidence': None}, {'event': 'action', 'timestamp': 1585497908.0115259, 'name': 'action_listen', 'policy': None, 'confidence': None}, {'event': 'user', 'timestamp': 1585497908.0193853, 'text': 'Qui est Le plus efficace désinfecteur', 'parse_data': {'intent': {'name': 'Q0412', 'confidence': 0.1477191299200058}, 'entities': [], 'intent_ranking': [{'name': 'Q0412', 'confidence': 0.1477191299200058}, {'name': 'Q1001', 'confidence': 0.10328304022550583}, {'name': 'QB65', 'confidence': 0.1000862568616867}, {'name': 'Qa31', 'confidence': 0.08791377395391464}, {'name': 'QB57', 'confidence': 0.08585064113140106}, {'name': 'Q0301', 'confidence': 0.08398693054914474}, {'name': 'Q0104', 'confidence': 0.055632226169109344}, {'name': 'Q0701', 'confidence': 0.04852523282170296}, {'name': 'Qa47', 'confidence': 0.039463452994823456}, {'name': 'Qa42', 'confidence': 0.02564241923391819}], 'text': 'Qui est Le plus efficace désinfecteur'}, 'input_channel': 'rest', 'message_id': '2ba0bc15ca8a49ba9bc53c6587ae5c93', 'metadata': {}}, {'event': 'action', 'timestamp': 1585497908.044215, 'name': 'action_default_fallback', 'policy': 'policy_2_FallbackPolicy', 'confidence': 1.0}, {'event': 'bot', 'timestamp': 1585497908.0442266, 'text': 'merci de reformuler plus clairement votre question', 'data': {'elements': None, 'quick_replies': None, 'buttons': None, 'attachment': None, 'image': None, 'custom': None}, 'metadata': {}}, {'event': 'action', 'timestamp': 1585497908.0530982, 'name': 'action_listen', 'policy': 'policy_2_FallbackPolicy', 'confidence': 1.0}], 'followup_action': None, 'latest_action_name': 'action_listen', 'latest_event_time': 1585497908.0530982, 'latest_input_channel': 'rest', 'latest_message': {'intent': {'name': 'Q0412', 'confidence': 0.1477191299200058}, 'entities': [], 'intent_ranking': [{'name': 'Q0412', 'confidence': 0.1477191299200058}, {'name': 'Q1001', 'confidence': 0.10328304022550583}, {'name': 'QB65', 'confidence': 0.1000862568616867}, {'name': 'Qa31', 'confidence': 0.08791377395391464}, {'name': 'QB57', 'confidence': 0.08585064113140106}, {'name': 'Q0301', 'confidence': 0.08398693054914474}, {'name': 'Q0104', 'confidence': 0.055632226169109344}, {'name': 'Q0701', 'confidence': 0.04852523282170296}, {'name': 'Qa47', 'confidence': 0.039463452994823456}, {'name': 'Qa42', 'confidence': 0.02564241923391819}], 'text': 'Qui est Le plus efficace désinfecteur'}, 'paused': False, 'slots': {}}\n",
            "cle:  {'_id': '5e80c76430008e93224f1ddc', 'sender_id': 'GA1.2.459895769.1585497901', 'active_form': {}, 'events': [{'event': 'action', 'timestamp': 1585497956.2243543, 'name': 'action_session_start', 'policy': None, 'confidence': None}, {'event': 'session_started', 'timestamp': 1585497956.2243788}, {'event': 'action', 'timestamp': 1585497956.2244058, 'name': 'action_listen', 'policy': None, 'confidence': None}, {'event': 'action', 'timestamp': 1585497956.2244058, 'name': 'action_listen', 'policy': None, 'confidence': None}, {'event': 'user', 'timestamp': 1585497956.2320292, 'text': 'اهلًا و شكرًا على المساعدة', 'parse_data': {'intent': {'name': 'QC21', 'confidence': 0.4470231831073761}, 'entities': [], 'intent_ranking': [{'name': 'QC21', 'confidence': 0.4470231831073761}, {'name': 'QC2', 'confidence': 0.24374884366989136}, {'name': 'QC1', 'confidence': 0.060870248824357986}, {'name': 'QC23', 'confidence': 0.060006033629179}, {'name': 'QC9', 'confidence': 0.02182660810649395}, {'name': 'QC8', 'confidence': 0.020256565883755684}, {'name': 'Qa15', 'confidence': 0.016332553699612617}, {'name': 'QB21', 'confidence': 0.013640322722494602}, {'name': 'QC3', 'confidence': 0.012204772792756557}, {'name': 'QC6', 'confidence': 0.009856672957539558}], 'text': 'اهلًا و شكرًا على المساعدة'}, 'input_channel': 'rest', 'message_id': '5369de28c4d84ebc8d63c39d48c3d2be', 'metadata': {}}, {'event': 'action', 'timestamp': 1585497956.2394226, 'name': 'utter_QC21', 'policy': 'policy_0_MappingPolicy', 'confidence': 1}, {'event': 'bot', 'timestamp': 1585497956.2394319, 'text': ' .لا عفو على واجب', 'data': {'elements': None, 'quick_replies': None, 'buttons': None, 'attachment': None, 'image': None, 'custom': None}, 'metadata': {}}, {'event': 'action', 'timestamp': 1585497956.2464378, 'name': 'action_listen', 'policy': 'policy_0_MappingPolicy', 'confidence': 1}, {'event': 'user', 'timestamp': 1585498002.6544318, 'text': 'شنوة الجديد بالنسبة للإجراءات', 'parse_data': {'intent': {'name': 'Qa2', 'confidence': 0.7393692135810852}, 'entities': [], 'intent_ranking': [{'name': 'Qa2', 'confidence': 0.7393692135810852}, {'name': 'QB11', 'confidence': 0.02939392253756523}, {'name': 'Q0605', 'confidence': 0.0276636965572834}, {'name': 'Qa19', 'confidence': 0.020746883004903793}, {'name': 'Q0304', 'confidence': 0.017492257058620453}, {'name': 'Q1302', 'confidence': 0.014517933130264282}, {'name': 'Q0302', 'confidence': 0.01106083020567894}, {'name': 'Qa32', 'confidence': 0.010415834374725819}, {'name': 'QC25', 'confidence': 0.009784234687685966}, {'name': 'QB66', 'confidence': 0.005912215448915958}], 'text': 'شنوة الجديد بالنسبة للإجراءات'}, 'input_channel': 'rest', 'message_id': '3c425c27c2f3466dbc9e4051785bd96e', 'metadata': {}}, {'event': 'action', 'timestamp': 1585498002.6608896, 'name': 'utter_Qa2', 'policy': 'policy_0_MappingPolicy', 'confidence': 1}, {'event': 'bot', 'timestamp': 1585498002.6608977, 'text': ' أكثر الأعراض شيوعاً ما يلي الحمّى والسعال الكحة وصعوبة التنفس.', 'data': {'elements': None, 'quick_replies': None, 'buttons': None, 'attachment': None, 'image': None, 'custom': None}, 'metadata': {}}, {'event': 'action', 'timestamp': 1585498002.667064, 'name': 'action_listen', 'policy': 'policy_0_MappingPolicy', 'confidence': 1}, {'event': 'user', 'timestamp': 1585498032.4746952, 'text': 'إجراءات الحجر نقصد', 'parse_data': {'intent': {'name': 'Qa34', 'confidence': 0.44694072008132935}, 'entities': [], 'intent_ranking': [{'name': 'Qa34', 'confidence': 0.44694072008132935}, {'name': 'Qa35', 'confidence': 0.4003841280937195}, {'name': 'Qa55', 'confidence': 0.016605781391263008}, {'name': 'Qa48', 'confidence': 0.013653540052473545}, {'name': 'QC23', 'confidence': 0.01261186320334673}, {'name': 'Qa9', 'confidence': 0.009813088923692703}, {'name': 'Qa7', 'confidence': 0.008210845291614532}, {'name': 'Qa45', 'confidence': 0.0081830695271492}, {'name': 'QC3', 'confidence': 0.0069946665316820145}, {'name': 'QC24', 'confidence': 0.004806078039109707}], 'text': 'إجراءات الحجر نقصد'}, 'input_channel': 'rest', 'message_id': '0c67a8d38ea34a7fb89c04e4c29bb0d0', 'metadata': {}}, {'event': 'action', 'timestamp': 1585498032.4842002, 'name': 'utter_Qa34', 'policy': 'policy_0_MappingPolicy', 'confidence': 1}, {'event': 'bot', 'timestamp': 1585498032.484211, 'text': ' حسب منظمة الصحة العالمية، يعرف الحجر الصحي على أنه تقييد لأنشطة الأشخاص غير المرضى، ولكن الذين يرجح أنهم تعرضوا لعامل مُمرض أو لمرض.  أو عزلهم عن الآخرين بهدف رصد الأعراض واكتشاف الأعراض مبكرا. \\n\\nتكون فترة الحجر الصحي الذاتي 14 يوما.\\n\\nيُطلب من الأشخاص الخاضعين للحجر الصحّي الذاتي البقاء في الغرفة أو أي مكان آخر منفرد للحدّ من انتشار المرض للآخرين. \\n\\nيمكنك الحصول على المزيد من المعلومات من خلال الضغط على هذا الرابط \\n\\n covid-19.tn/blog/الحجر-الصحي-الذاتي/ ', 'data': {'elements': None, 'quick_replies': None, 'buttons': None, 'attachment': None, 'image': None, 'custom': None}, 'metadata': {}}, {'event': 'action', 'timestamp': 1585498032.491974, 'name': 'action_listen', 'policy': 'policy_0_MappingPolicy', 'confidence': 1}, {'event': 'user', 'timestamp': 1585498054.5796278, 'text': 'شنوة اخر', 'parse_data': {'intent': {'name': 'QC30', 'confidence': 0.19455792009830475}, 'entities': [], 'intent_ranking': [{'name': 'QC30', 'confidence': 0.19455792009830475}, {'name': 'Qa2', 'confidence': 0.17682597041130066}, {'name': 'QC19', 'confidence': 0.08895184099674225}, {'name': 'Qa1', 'confidence': 0.08339152485132217}, {'name': 'QC6', 'confidence': 0.07783076912164688}, {'name': 'QC5', 'confidence': 0.043687593191862106}, {'name': 'QB60', 'confidence': 0.04099520295858383}, {'name': 'Qa7', 'confidence': 0.03649768978357315}, {'name': 'Qa29', 'confidence': 0.03331412002444267}, {'name': 'QC25', 'confidence': 0.025197843089699745}], 'text': 'شنوة اخر'}, 'input_channel': 'rest', 'message_id': 'fec172e054594e03a1960ca00c3fe30c', 'metadata': {}}, {'event': 'action', 'timestamp': 1585498054.6037176, 'name': 'action_default_fallback', 'policy': 'policy_2_FallbackPolicy', 'confidence': 1.0}, {'event': 'bot', 'timestamp': 1585498054.6037295, 'text': 'merci de reformuler plus clairement votre question', 'data': {'elements': None, 'quick_replies': None, 'buttons': None, 'attachment': None, 'image': None, 'custom': None}, 'metadata': {}}, {'event': 'action', 'timestamp': 1585498054.6155953, 'name': 'action_listen', 'policy': 'policy_2_FallbackPolicy', 'confidence': 1.0}, {'event': 'user', 'timestamp': 1585498081.002688, 'text': 'Comment vous pouvez m’aider', 'parse_data': {'intent': {'name': 'QB15', 'confidence': 0.7227503061294556}, 'entities': [], 'intent_ranking': [{'name': 'QB15', 'confidence': 0.7227503061294556}, {'name': 'QB17', 'confidence': 0.21425996720790863}, {'name': 'QB2', 'confidence': 0.02411215379834175}, {'name': 'QB62', 'confidence': 0.003432667348533869}, {'name': 'Q0103', 'confidence': 0.0031557446345686913}, {'name': 'Q0418', 'confidence': 0.002535134321078658}, {'name': 'QB6', 'confidence': 0.00213986006565392}, {'name': 'QB9', 'confidence': 0.002110985340550542}, {'name': 'Q0107', 'confidence': 0.0018714944599196315}, {'name': 'QB42', 'confidence': 0.0018597209127619863}], 'text': 'Comment vous pouvez m’aider'}, 'input_channel': 'rest', 'message_id': 'd19dc24f7f2542919e2daac7c141c768', 'metadata': {}}, {'event': 'action', 'timestamp': 1585498081.00985, 'name': 'utter_QB15', 'policy': 'policy_0_MappingPolicy', 'confidence': 1}, {'event': 'bot', 'timestamp': 1585498081.009859, 'text': ' je suis 3ziza, je suis là pour répondre à vos questions à propos de la COVID 19.. ', 'data': {'elements': None, 'quick_replies': None, 'buttons': None, 'attachment': None, 'image': None, 'custom': None}, 'metadata': {}}, {'event': 'action', 'timestamp': 1585498081.017025, 'name': 'action_listen', 'policy': 'policy_0_MappingPolicy', 'confidence': 1}, {'event': 'user', 'timestamp': 1585498098.4115033, 'text': 'كفاش', 'parse_data': {'intent': {'name': 'QC6', 'confidence': 0.35536321997642517}, 'entities': [], 'intent_ranking': [{'name': 'QC6', 'confidence': 0.35536321997642517}, {'name': 'Qa7', 'confidence': 0.15025028586387634}, {'name': 'QC19', 'confidence': 0.08106237649917603}, {'name': 'QC2', 'confidence': 0.07975281774997711}, {'name': 'QC23', 'confidence': 0.06298855692148209}, {'name': 'QC20', 'confidence': 0.04333030804991722}, {'name': 'QC24', 'confidence': 0.03152395039796829}, {'name': 'QC18', 'confidence': 0.0281861312687397}, {'name': 'QC1', 'confidence': 0.018551690503954887}, {'name': 'QC30', 'confidence': 0.017318952828645706}], 'text': 'كفاش'}, 'input_channel': 'rest', 'message_id': '9a90cb212b0e4ecfb1320b098cb0eb80', 'metadata': {}}, {'event': 'action', 'timestamp': 1585498098.418533, 'name': 'utter_QC6', 'policy': 'policy_0_MappingPolicy', 'confidence': 1}, {'event': 'bot', 'timestamp': 1585498098.4185407, 'text': ' بالطبيعة تفضل اسأل ', 'data': {'elements': None, 'quick_replies': None, 'buttons': None, 'attachment': None, 'image': None, 'custom': None}, 'metadata': {}}, {'event': 'action', 'timestamp': 1585498098.425208, 'name': 'action_listen', 'policy': 'policy_0_MappingPolicy', 'confidence': 1}, {'event': 'user', 'timestamp': 1585498141.5431159, 'text': 'شنة التكنولوجيا المستعملة في عزيزة', 'parse_data': {'intent': {'name': 'Qa17', 'confidence': 0.48934462666511536}, 'entities': [], 'intent_ranking': [{'name': 'Qa17', 'confidence': 0.48934462666511536}, {'name': 'QC23', 'confidence': 0.2205321043729782}, {'name': 'Qa28', 'confidence': 0.0368938185274601}, {'name': 'QC21', 'confidence': 0.025175215676426888}, {'name': 'QC20', 'confidence': 0.02183026261627674}, {'name': 'QC6', 'confidence': 0.01862112618982792}, {'name': 'QC25', 'confidence': 0.016928279772400856}, {'name': 'Qa35', 'confidence': 0.014667106792330742}, {'name': 'Qa2', 'confidence': 0.0140824094414711}, {'name': 'QC3', 'confidence': 0.010189061984419823}], 'text': 'شنة التكنولوجيا المستعملة في عزيزة'}, 'input_channel': 'rest', 'message_id': 'a04bc48802ae43b6b90987d90b18e66a', 'metadata': {}}, {'event': 'action', 'timestamp': 1585498141.551209, 'name': 'utter_Qa17', 'policy': 'policy_0_MappingPolicy', 'confidence': 1}, {'event': 'bot', 'timestamp': 1585498141.551219, 'text': ' مصطلح « فترة الحضانة » يشير إلى المدة من الإصابة بالفيروس إلى بدء ظهور أعراض المرض. وتتراوح معظم تقديرات فترة حضانة مرض كوفيد-19 ما بين يوم واحد و14 يوماً، وعادة ما تستمر خمسة أيام. وستُحدّث هذه التقديرات كلما توفر المزيد من البيانات.', 'data': {'elements': None, 'quick_replies': None, 'buttons': None, 'attachment': None, 'image': None, 'custom': None}, 'metadata': {}}, {'event': 'action', 'timestamp': 1585498141.5583625, 'name': 'action_listen', 'policy': 'policy_0_MappingPolicy', 'confidence': 1}], 'followup_action': None, 'latest_action_name': 'action_listen', 'latest_event_time': 1585498141.5583625, 'latest_input_channel': 'rest', 'latest_message': {'intent': {'name': 'Qa17', 'confidence': 0.48934462666511536}, 'entities': [], 'intent_ranking': [{'name': 'Qa17', 'confidence': 0.48934462666511536}, {'name': 'QC23', 'confidence': 0.2205321043729782}, {'name': 'Qa28', 'confidence': 0.0368938185274601}, {'name': 'QC21', 'confidence': 0.025175215676426888}, {'name': 'QC20', 'confidence': 0.02183026261627674}, {'name': 'QC6', 'confidence': 0.01862112618982792}, {'name': 'QC25', 'confidence': 0.016928279772400856}, {'name': 'Qa35', 'confidence': 0.014667106792330742}, {'name': 'Qa2', 'confidence': 0.0140824094414711}, {'name': 'QC3', 'confidence': 0.010189061984419823}], 'text': 'شنة التكنولوجيا المستعملة في عزيزة'}, 'paused': False, 'slots': {}}\n",
            "cle:  {'_id': '5e80c86330008e93224f1e13', 'sender_id': 'GA1.2.698228701.1585497871', 'active_form': {}, 'events': [{'event': 'action', 'timestamp': 1585498211.1002839, 'name': 'action_session_start', 'policy': None, 'confidence': None}, {'event': 'session_started', 'timestamp': 1585498211.100295}, {'event': 'action', 'timestamp': 1585498211.1003194, 'name': 'action_listen', 'policy': None, 'confidence': None}, {'event': 'action', 'timestamp': 1585498211.1003194, 'name': 'action_listen', 'policy': None, 'confidence': None}, {'event': 'user', 'timestamp': 1585498211.1072438, 'text': '9adech mn 7ala ijabiya', 'parse_data': {'intent': {'name': 'Q0301', 'confidence': 0.9792022109031677}, 'entities': [], 'intent_ranking': [{'name': 'Q0301', 'confidence': 0.9792022109031677}, {'name': 'Q0701', 'confidence': 0.0020103901624679565}, {'name': 'Q0605', 'confidence': 0.001848225831054151}, {'name': 'QB11', 'confidence': 0.0012116535799577832}, {'name': 'Qa4', 'confidence': 0.0011706238146871328}, {'name': 'Q1001', 'confidence': 0.0008381236693821847}, {'name': 'Qa24', 'confidence': 0.0006914576515555382}, {'name': 'Q0408', 'confidence': 0.0006785998702980578}, {'name': 'QB19', 'confidence': 0.0006466913619078696}, {'name': 'Q0502', 'confidence': 0.0006072158575989306}], 'text': '9adech mn 7ala ijabiya'}, 'input_channel': 'rest', 'message_id': '7e1d17181f954e61aade186868e7c3f7', 'metadata': {}}, {'event': 'action', 'timestamp': 1585498211.1150002, 'name': 'utter_Q0301', 'policy': 'policy_0_MappingPolicy', 'confidence': 1}, {'event': 'bot', 'timestamp': 1585498211.1150103, 'text': ' Veillez consulter cette page pour les chiffres officiels covid-19.tn/fr/tableau-de-bord ', 'data': {'elements': None, 'quick_replies': None, 'buttons': None, 'attachment': None, 'image': None, 'custom': None}, 'metadata': {}}, {'event': 'action', 'timestamp': 1585498211.1218061, 'name': 'action_listen', 'policy': 'policy_0_MappingPolicy', 'confidence': 1}, {'event': 'user', 'timestamp': 1585498211.941792, 'text': 'Lyom', 'parse_data': {'intent': {'name': 'QB58', 'confidence': 0.16270843148231506}, 'entities': [], 'intent_ranking': [{'name': 'QB58', 'confidence': 0.16270843148231506}, {'name': 'QB10', 'confidence': 0.15431863069534302}, {'name': 'QB70', 'confidence': 0.146612748503685}, {'name': 'QB35', 'confidence': 0.07664399594068527}, {'name': 'QB68', 'confidence': 0.07609818875789642}, {'name': 'QB9', 'confidence': 0.06807204335927963}, {'name': 'Q0301', 'confidence': 0.06712177395820618}, {'name': 'QB1', 'confidence': 0.06434841454029083}, {'name': 'QB6', 'confidence': 0.027832956984639168}, {'name': 'QB15', 'confidence': 0.02742471732199192}], 'text': 'Lyom'}, 'input_channel': 'rest', 'message_id': '46dd61e84be34109a921d7ea628b8300', 'metadata': {}}, {'event': 'action', 'timestamp': 1585498211.9650886, 'name': 'action_default_fallback', 'policy': 'policy_2_FallbackPolicy', 'confidence': 1.0}, {'event': 'bot', 'timestamp': 1585498211.9650998, 'text': 'merci de reformuler plus clairement votre question', 'data': {'elements': None, 'quick_replies': None, 'buttons': None, 'attachment': None, 'image': None, 'custom': None}, 'metadata': {}}, {'event': 'action', 'timestamp': 1585498211.9730566, 'name': 'action_listen', 'policy': 'policy_2_FallbackPolicy', 'confidence': 1.0}], 'followup_action': None, 'latest_action_name': 'action_listen', 'latest_event_time': 1585498211.9730566, 'latest_input_channel': 'rest', 'latest_message': {'intent': {'name': 'QB58', 'confidence': 0.16270843148231506}, 'entities': [], 'intent_ranking': [{'name': 'QB58', 'confidence': 0.16270843148231506}, {'name': 'QB10', 'confidence': 0.15431863069534302}, {'name': 'QB70', 'confidence': 0.146612748503685}, {'name': 'QB35', 'confidence': 0.07664399594068527}, {'name': 'QB68', 'confidence': 0.07609818875789642}, {'name': 'QB9', 'confidence': 0.06807204335927963}, {'name': 'Q0301', 'confidence': 0.06712177395820618}, {'name': 'QB1', 'confidence': 0.06434841454029083}, {'name': 'QB6', 'confidence': 0.027832956984639168}, {'name': 'QB15', 'confidence': 0.02742471732199192}], 'text': 'Lyom'}, 'paused': False, 'slots': {}}\n",
            "cle:  {'_id': '5e80c8b930008e93224f1e27', 'sender_id': 'GA1.2.305029970.1585498051', 'active_form': {}, 'events': [{'event': 'action', 'timestamp': 1585498297.2270334, 'name': 'action_session_start', 'policy': None, 'confidence': None}, {'event': 'session_started', 'timestamp': 1585498297.2270432}, {'event': 'action', 'timestamp': 1585498297.2270632, 'name': 'action_listen', 'policy': None, 'confidence': None}, {'event': 'action', 'timestamp': 1585498297.2270632, 'name': 'action_listen', 'policy': None, 'confidence': None}, {'event': 'user', 'timestamp': 1585498297.2342212, 'text': '9adech men we7ed lyoum', 'parse_data': {'intent': {'name': 'Q0301', 'confidence': 0.9777463674545288}, 'entities': [], 'intent_ranking': [{'name': 'Q0301', 'confidence': 0.9777463674545288}, {'name': 'Q0701', 'confidence': 0.002146822400391102}, {'name': 'Q0605', 'confidence': 0.0014984554145485163}, {'name': 'Qa4', 'confidence': 0.0013609154848381877}, {'name': 'Q1001', 'confidence': 0.0011033297050744295}, {'name': 'Qa5', 'confidence': 0.001064966432750225}, {'name': 'QB70', 'confidence': 0.0009535227436572313}, {'name': 'Q1401', 'confidence': 0.0008022677502594888}, {'name': 'Q0502', 'confidence': 0.0007696006796322763}, {'name': 'QB6', 'confidence': 0.0007565781124867499}], 'text': '9adech men we7ed lyoum'}, 'input_channel': 'rest', 'message_id': '3a0027e27b2544da8d0996fe45442936', 'metadata': {}}, {'event': 'action', 'timestamp': 1585498297.2422771, 'name': 'utter_Q0301', 'policy': 'policy_0_MappingPolicy', 'confidence': 1}, {'event': 'bot', 'timestamp': 1585498297.2422867, 'text': ' Veillez consulter cette page pour les chiffres officiels covid-19.tn/fr/tableau-de-bord ', 'data': {'elements': None, 'quick_replies': None, 'buttons': None, 'attachment': None, 'image': None, 'custom': None}, 'metadata': {}}, {'event': 'action', 'timestamp': 1585498297.2490208, 'name': 'action_listen', 'policy': 'policy_0_MappingPolicy', 'confidence': 1}], 'followup_action': None, 'latest_action_name': 'action_listen', 'latest_event_time': 1585498297.2490208, 'latest_input_channel': 'rest', 'latest_message': {'intent': {'name': 'Q0301', 'confidence': 0.9777463674545288}, 'entities': [], 'intent_ranking': [{'name': 'Q0301', 'confidence': 0.9777463674545288}, {'name': 'Q0701', 'confidence': 0.002146822400391102}, {'name': 'Q0605', 'confidence': 0.0014984554145485163}, {'name': 'Qa4', 'confidence': 0.0013609154848381877}, {'name': 'Q1001', 'confidence': 0.0011033297050744295}, {'name': 'Qa5', 'confidence': 0.001064966432750225}, {'name': 'QB70', 'confidence': 0.0009535227436572313}, {'name': 'Q1401', 'confidence': 0.0008022677502594888}, {'name': 'Q0502', 'confidence': 0.0007696006796322763}, {'name': 'QB6', 'confidence': 0.0007565781124867499}], 'text': '9adech men we7ed lyoum'}, 'paused': False, 'slots': {}}\n",
            "cle:  {'_id': '5e80c8e530008e93224f1e37', 'sender_id': 'GA1.2.1936486283.1585498202', 'active_form': {}, 'events': [{'event': 'action', 'timestamp': 1585498341.2674868, 'name': 'action_session_start', 'policy': None, 'confidence': None}, {'event': 'session_started', 'timestamp': 1585498341.267497}, {'event': 'action', 'timestamp': 1585498341.2675202, 'name': 'action_listen', 'policy': None, 'confidence': None}, {'event': 'action', 'timestamp': 1585498341.2675202, 'name': 'action_listen', 'policy': None, 'confidence': None}, {'event': 'user', 'timestamp': 1585498341.274095, 'text': 'Salem', 'parse_data': {'intent': {'name': 'QB1', 'confidence': 0.965502142906189}, 'entities': [], 'intent_ranking': [{'name': 'QB1', 'confidence': 0.965502142906189}, {'name': 'QB53', 'confidence': 0.0030598484445363283}, {'name': 'QC14', 'confidence': 0.002856611041352153}, {'name': 'QB35', 'confidence': 0.002748883329331875}, {'name': 'QB57', 'confidence': 0.0024279572535306215}, {'name': 'Q1401', 'confidence': 0.002090519294142723}, {'name': 'QB58', 'confidence': 0.001985260285437107}, {'name': 'QB69', 'confidence': 0.0016502669313922524}, {'name': 'Qa34', 'confidence': 0.001487709116190672}, {'name': 'QB72', 'confidence': 0.0012498660944402218}], 'text': 'Salem'}, 'input_channel': 'rest', 'message_id': '1f1cf59ba48b483d93f5eb0be9086ac4', 'metadata': {}}, {'event': 'action', 'timestamp': 1585498341.281722, 'name': 'utter_QB1', 'policy': 'policy_0_MappingPolicy', 'confidence': 1}, {'event': 'bot', 'timestamp': 1585498341.281732, 'text': ' 3aslema, Mar7be ', 'data': {'elements': None, 'quick_replies': None, 'buttons': None, 'attachment': None, 'image': None, 'custom': None}, 'metadata': {}}, {'event': 'action', 'timestamp': 1585498341.2894027, 'name': 'action_listen', 'policy': 'policy_0_MappingPolicy', 'confidence': 1}, {'event': 'user', 'timestamp': 1585498349.074486, 'text': 'Ena kamelt l periode de confinement mte3i', 'parse_data': {'intent': {'name': 'Q1302', 'confidence': 0.22730962932109833}, 'entities': [], 'intent_ranking': [{'name': 'Q1302', 'confidence': 0.22730962932109833}, {'name': 'Q0703', 'confidence': 0.11703776568174362}, {'name': 'Q0701', 'confidence': 0.06971396505832672}, {'name': 'Qa20', 'confidence': 0.06667008250951767}, {'name': 'Q1301', 'confidence': 0.06131536141037941}, {'name': 'Q0702', 'confidence': 0.05767218396067619}, {'name': 'Qa47', 'confidence': 0.05081496387720108}, {'name': 'Qa49', 'confidence': 0.03956850618124008}, {'name': 'Q0803', 'confidence': 0.03209175169467926}, {'name': 'QB50', 'confidence': 0.023949531838297844}], 'text': 'Ena kamelt l periode de confinement mte3i'}, 'input_channel': 'rest', 'message_id': 'fa1c284bd87f4ff6b3c5ffe775435571', 'metadata': {}}, {'event': 'action', 'timestamp': 1585498349.0997703, 'name': 'action_default_fallback', 'policy': 'policy_2_FallbackPolicy', 'confidence': 1.0}, {'event': 'bot', 'timestamp': 1585498349.0997825, 'text': 'merci de reformuler plus clairement votre question', 'data': {'elements': None, 'quick_replies': None, 'buttons': None, 'attachment': None, 'image': None, 'custom': None}, 'metadata': {}}, {'event': 'action', 'timestamp': 1585498349.1075761, 'name': 'action_listen', 'policy': 'policy_2_FallbackPolicy', 'confidence': 1.0}, {'event': 'user', 'timestamp': 1585498377.2863064, 'text': \"Je viens de finir ma periode de confinement .. à qui je dois m'adresser\", 'parse_data': {'intent': {'name': 'Q0701', 'confidence': 0.5699939727783203}, 'entities': [], 'intent_ranking': [{'name': 'Q0701', 'confidence': 0.5699939727783203}, {'name': 'Q1302', 'confidence': 0.051984064280986786}, {'name': 'Q1305', 'confidence': 0.05123017728328705}, {'name': 'Q0605', 'confidence': 0.04825567454099655}, {'name': 'Qa49', 'confidence': 0.043754518032073975}, {'name': 'Q1301', 'confidence': 0.03272833302617073}, {'name': 'Q1001', 'confidence': 0.02130022458732128}, {'name': 'Q1402', 'confidence': 0.01592293009161949}, {'name': 'Q0702', 'confidence': 0.015372014604508877}, {'name': 'QB19', 'confidence': 0.013051957823336124}], 'text': \"Je viens de finir ma periode de confinement .. à qui je dois m'adresser\"}, 'input_channel': 'rest', 'message_id': '2e3c58eb2b81472eacd5294a9f7891a6', 'metadata': {}}, {'event': 'action', 'timestamp': 1585498377.2938206, 'name': 'utter_Q0701', 'policy': 'policy_0_MappingPolicy', 'confidence': 1}, {'event': 'bot', 'timestamp': 1585498377.2938304, 'text': ' Selon l’Organisation mondiale de la Santé, la quarantaine est définie comme une restriction des activités des non-patients, mais de ceux qui sont susceptibles d’avoir été exposés à une pathologie ou à une maladie. Ou les isoler des autres afin de surveiller les symptômes et de les détecter rapidement.\\n\\nLa période d’auto-quarantaine est de 14 jours.\\n\\nLes personnes faisant l’objet d’une mise en quarantaine sont tenues de demeurer dans la chambre ou dans tout autre endroit unique pour limiter la propagation de la maladie à d’autres personnes.\\n\\nPour plus de renseignement à ce sujet, Veuillez consulter la page\\n\\ncovid-19.tn/fr/blog/auto-quarantaine/ ', 'data': {'elements': None, 'quick_replies': None, 'buttons': None, 'attachment': None, 'image': None, 'custom': None}, 'metadata': {}}, {'event': 'action', 'timestamp': 1585498377.3011303, 'name': 'action_listen', 'policy': 'policy_0_MappingPolicy', 'confidence': 1}], 'followup_action': None, 'latest_action_name': 'action_listen', 'latest_event_time': 1585498377.3011303, 'latest_input_channel': 'rest', 'latest_message': {'intent': {'name': 'Q0701', 'confidence': 0.5699939727783203}, 'entities': [], 'intent_ranking': [{'name': 'Q0701', 'confidence': 0.5699939727783203}, {'name': 'Q1302', 'confidence': 0.051984064280986786}, {'name': 'Q1305', 'confidence': 0.05123017728328705}, {'name': 'Q0605', 'confidence': 0.04825567454099655}, {'name': 'Qa49', 'confidence': 0.043754518032073975}, {'name': 'Q1301', 'confidence': 0.03272833302617073}, {'name': 'Q1001', 'confidence': 0.02130022458732128}, {'name': 'Q1402', 'confidence': 0.01592293009161949}, {'name': 'Q0702', 'confidence': 0.015372014604508877}, {'name': 'QB19', 'confidence': 0.013051957823336124}], 'text': \"Je viens de finir ma periode de confinement .. à qui je dois m'adresser\"}, 'paused': False, 'slots': {}}\n",
            "cle:  "
          ],
          "name": "stdout"
        },
        {
          "output_type": "stream",
          "text": [
            "IOPub data rate exceeded.\n",
            "The notebook server will temporarily stop sending output\n",
            "to the client in order to avoid crashing it.\n",
            "To change this limit, set the config variable\n",
            "`--NotebookApp.iopub_data_rate_limit`.\n",
            "\n",
            "Current values:\n",
            "NotebookApp.iopub_data_rate_limit=1000000.0 (bytes/sec)\n",
            "NotebookApp.rate_limit_window=3.0 (secs)\n",
            "\n"
          ],
          "name": "stderr"
        },
        {
          "output_type": "stream",
          "text": [
            "cle:  {'_id': '5e80c2fb30008e93224f1ce0', 'sender_id': 'GA1.2.2056950354.1584899681', 'active_form': {}, 'events': [{'event': 'action', 'timestamp': 1585496827.1779065, 'name': 'action_session_start', 'policy': None, 'confidence': None}, {'event': 'session_started', 'timestamp': 1585496827.1779177}, {'event': 'action', 'timestamp': 1585496827.1779525, 'name': 'action_listen', 'policy': None, 'confidence': None}, {'event': 'action', 'timestamp': 1585496827.1779525, 'name': 'action_listen', 'policy': None, 'confidence': None}, {'event': 'user', 'timestamp': 1585496827.185055, 'text': 'Moez', 'parse_data': {'intent': {'name': 'QB58', 'confidence': 0.4276076555252075}, 'entities': [], 'intent_ranking': [{'name': 'QB58', 'confidence': 0.4276076555252075}, {'name': 'QB14', 'confidence': 0.366239458322525}, {'name': 'QB1', 'confidence': 0.0740329772233963}, {'name': 'QB57', 'confidence': 0.016730885952711105}, {'name': 'QC3', 'confidence': 0.016200410202145576}, {'name': 'QB13', 'confidence': 0.013798250816762447}, {'name': 'QB33', 'confidence': 0.013402526266872883}, {'name': 'Qa34', 'confidence': 0.009259819984436035}, {'name': 'QB38', 'confidence': 0.008078492246568203}, {'name': 'QB23', 'confidence': 0.007359792478382587}], 'text': 'Moez'}, 'input_channel': 'rest', 'message_id': 'ec974817a9954f919e5bf0ff1d007e0a', 'metadata': {}}, {'event': 'action', 'timestamp': 1585496827.1926606, 'name': 'utter_QB58', 'policy': 'policy_0_MappingPolicy', 'confidence': 1}, {'event': 'bot', 'timestamp': 1585496827.192671, 'text': ' béhi ', 'data': {'elements': None, 'quick_replies': None, 'buttons': None, 'attachment': None, 'image': None, 'custom': None}, 'metadata': {}}, {'event': 'action', 'timestamp': 1585496827.2005863, 'name': 'action_listen', 'policy': 'policy_0_MappingPolicy', 'confidence': 1}, {'event': 'user', 'timestamp': 1585496833.6463609, 'text': 'Moez 1', 'parse_data': {'intent': {'name': 'Q1401', 'confidence': 0.8638586401939392}, 'entities': [], 'intent_ranking': [{'name': 'Q1401', 'confidence': 0.8638586401939392}, {'name': 'QB15', 'confidence': 0.021110443398356438}, {'name': 'QB53', 'confidence': 0.012489859014749527}, {'name': 'QB18', 'confidence': 0.011219447478652}, {'name': 'QB10', 'confidence': 0.010476761497557163}, {'name': 'Q1001', 'confidence': 0.010303362272679806}, {'name': 'Q0502', 'confidence': 0.009726016782224178}, {'name': 'QB23', 'confidence': 0.008807798847556114}, {'name': 'Q0301', 'confidence': 0.007963940501213074}, {'name': 'Q1402', 'confidence': 0.007317592855542898}], 'text': 'Moez 1'}, 'input_channel': 'rest', 'message_id': 'bb51f58d725149eca8064dc9a9e45c30', 'metadata': {}}, {'event': 'action', 'timestamp': 1585496833.6534717, 'name': 'utter_Q1401', 'policy': 'policy_0_MappingPolicy', 'confidence': 1}, {'event': 'bot', 'timestamp': 1585496833.6534812, 'text': \" Pour plus d'informations ou pour déclarer un cas de contamination, appelez\\n\\nNuméro vert 80 10 19 19\\t\\t\\t\\t\\t\\t\\t\\t\\t\\n\\nPour le Nord-Est 71.589.271 ou 71.589.626 ou 71.589.596\\n\\nPour le Nord-Ouest 78.613.213\\n\\nPour le Centre-Est 73.369.090 ou 73.369.393 ou 74.672.372\\n\\nPour le Centre-Ouest 76.217.608 ou 76.217.915 ou 76.217.920\\n\\nPour le Sud 75.294.529 \", 'data': {'elements': None, 'quick_replies': None, 'buttons': None, 'attachment': None, 'image': None, 'custom': None}, 'metadata': {}}, {'event': 'action', 'timestamp': 1585496833.6604316, 'name': 'action_listen', 'policy': 'policy_0_MappingPolicy', 'confidence': 1}, {'event': 'user', 'timestamp': 1585496842.616437, 'text': 'Moez 5', 'parse_data': {'intent': {'name': 'Q1401', 'confidence': 0.8638586401939392}, 'entities': [], 'intent_ranking': [{'name': 'Q1401', 'confidence': 0.8638586401939392}, {'name': 'QB15', 'confidence': 0.021110443398356438}, {'name': 'QB53', 'confidence': 0.012489859014749527}, {'name': 'QB18', 'confidence': 0.011219447478652}, {'name': 'QB10', 'confidence': 0.010476761497557163}, {'name': 'Q1001', 'confidence': 0.010303362272679806}, {'name': 'Q0502', 'confidence': 0.009726016782224178}, {'name': 'QB23', 'confidence': 0.008807798847556114}, {'name': 'Q0301', 'confidence': 0.007963940501213074}, {'name': 'Q1402', 'confidence': 0.007317592855542898}], 'text': 'Moez 5'}, 'input_channel': 'rest', 'message_id': 'fd6d97a964d041a0ab77b7115302c356', 'metadata': {}}, {'event': 'action', 'timestamp': 1585496842.6236198, 'name': 'utter_Q1401', 'policy': 'policy_0_MappingPolicy', 'confidence': 1}, {'event': 'bot', 'timestamp': 1585496842.623629, 'text': \" Pour plus d'informations ou pour déclarer un cas de contamination, appelez\\n\\nNuméro vert 80 10 19 19\\t\\t\\t\\t\\t\\t\\t\\t\\t\\n\\nPour le Nord-Est 71.589.271 ou 71.589.626 ou 71.589.596\\n\\nPour le Nord-Ouest 78.613.213\\n\\nPour le Centre-Est 73.369.090 ou 73.369.393 ou 74.672.372\\n\\nPour le Centre-Ouest 76.217.608 ou 76.217.915 ou 76.217.920\\n\\nPour le Sud 75.294.529 \", 'data': {'elements': None, 'quick_replies': None, 'buttons': None, 'attachment': None, 'image': None, 'custom': None}, 'metadata': {}}, {'event': 'action', 'timestamp': 1585496842.6338286, 'name': 'action_listen', 'policy': 'policy_0_MappingPolicy', 'confidence': 1}], 'followup_action': None, 'latest_action_name': 'action_listen', 'latest_event_time': 1585496842.6338286, 'latest_input_channel': 'rest', 'latest_message': {'intent': {'name': 'Q1401', 'confidence': 0.8638586401939392}, 'entities': [], 'intent_ranking': [{'name': 'Q1401', 'confidence': 0.8638586401939392}, {'name': 'QB15', 'confidence': 0.021110443398356438}, {'name': 'QB53', 'confidence': 0.012489859014749527}, {'name': 'QB18', 'confidence': 0.011219447478652}, {'name': 'QB10', 'confidence': 0.010476761497557163}, {'name': 'Q1001', 'confidence': 0.010303362272679806}, {'name': 'Q0502', 'confidence': 0.009726016782224178}, {'name': 'QB23', 'confidence': 0.008807798847556114}, {'name': 'Q0301', 'confidence': 0.007963940501213074}, {'name': 'Q1402', 'confidence': 0.007317592855542898}], 'text': 'Moez 5'}, 'paused': False, 'slots': {}}\n",
            "cle:  {'_id': '5e80c53630008e93224f1d32', 'sender_id': 'GA1.2.1072665847.1585497327', 'active_form': {}, 'events': [{'event': 'action', 'timestamp': 1585497398.9510539, 'name': 'action_session_start', 'policy': None, 'confidence': None}, {'event': 'session_started', 'timestamp': 1585497398.9510682}, {'event': 'action', 'timestamp': 1585497398.9519515, 'name': 'action_listen', 'policy': None, 'confidence': None}, {'event': 'action', 'timestamp': 1585497398.9519515, 'name': 'action_listen', 'policy': None, 'confidence': None}, {'event': 'user', 'timestamp': 1585497398.9605393, 'text': 'chesmek', 'parse_data': {'intent': {'name': 'QB15', 'confidence': 0.9701472520828247}, 'entities': [], 'intent_ranking': [{'name': 'QB15', 'confidence': 0.9701472520828247}, {'name': 'QB9', 'confidence': 0.004559433087706566}, {'name': 'QB2', 'confidence': 0.004021480213850737}, {'name': 'QB5', 'confidence': 0.0023532032500952482}, {'name': 'QB18', 'confidence': 0.0023047211579978466}, {'name': 'QB17', 'confidence': 0.0015638645272701979}, {'name': 'QB42', 'confidence': 0.0012813027715310454}, {'name': 'QB4', 'confidence': 0.001209919573739171}, {'name': 'QB75', 'confidence': 0.0008666219073347747}, {'name': 'QB10', 'confidence': 0.0006130042602308095}], 'text': 'chesmek'}, 'input_channel': 'rest', 'message_id': '6342e5af137b45a5a98254f7323b4b24', 'metadata': {}}, {'event': 'action', 'timestamp': 1585497398.9686131, 'name': 'utter_QB15', 'policy': 'policy_0_MappingPolicy', 'confidence': 1}, {'event': 'bot', 'timestamp': 1585497398.9686224, 'text': ' Ena 3ziza, bech njewbek 3ala el COVID 19.. ', 'data': {'elements': None, 'quick_replies': None, 'buttons': None, 'attachment': None, 'image': None, 'custom': None}, 'metadata': {}}, {'event': 'action', 'timestamp': 1585497398.9750872, 'name': 'action_listen', 'policy': 'policy_0_MappingPolicy', 'confidence': 1}, {'event': 'user', 'timestamp': 1585497404.8854735, 'text': 'kadech omrek', 'parse_data': {'intent': {'name': 'QB56', 'confidence': 0.7997769117355347}, 'entities': [], 'intent_ranking': [{'name': 'QB56', 'confidence': 0.7997769117355347}, {'name': 'QB8', 'confidence': 0.03132205829024315}, {'name': 'QB10', 'confidence': 0.026586739346385002}, {'name': 'Q1402', 'confidence': 0.025851063430309296}, {'name': 'QB27', 'confidence': 0.024217063561081886}, {'name': 'QB2', 'confidence': 0.011699543334543705}, {'name': 'QB70', 'confidence': 0.010347690433263779}, {'name': 'Q0414', 'confidence': 0.00956991221755743}, {'name': 'Qa18', 'confidence': 0.00899873860180378}, {'name': 'Q1401', 'confidence': 0.005893662106245756}], 'text': 'kadech omrek'}, 'input_channel': 'rest', 'message_id': '0c67f6dcc8514cdcb88e514fece3f787', 'metadata': {}}, {'event': 'action', 'timestamp': 1585497404.8921425, 'name': 'utter_QB56', 'policy': 'policy_0_MappingPolicy', 'confidence': 1}, {'event': 'bot', 'timestamp': 1585497404.89215, 'text': ' mé n9oulech ', 'data': {'elements': None, 'quick_replies': None, 'buttons': None, 'attachment': None, 'image': None, 'custom': None}, 'metadata': {}}, {'event': 'action', 'timestamp': 1585497404.8980088, 'name': 'action_listen', 'policy': 'policy_0_MappingPolicy', 'confidence': 1}, {'event': 'user', 'timestamp': 1585497419.4539354, 'text': 'atini numero imteik', 'parse_data': {'intent': {'name': 'Q1401', 'confidence': 0.5644177794456482}, 'entities': [], 'intent_ranking': [{'name': 'Q1401', 'confidence': 0.5644177794456482}, {'name': 'QB58', 'confidence': 0.14935457706451416}, {'name': 'QB57', 'confidence': 0.047158800065517426}, {'name': 'Q0413', 'confidence': 0.01966300792992115}, {'name': 'QB1', 'confidence': 0.014757265336811543}, {'name': 'Q0301', 'confidence': 0.013939198106527328}, {'name': 'Qa48', 'confidence': 0.013361047953367233}, {'name': 'QB55', 'confidence': 0.012942965142428875}, {'name': 'QB33', 'confidence': 0.01225615106523037}, {'name': 'QB23', 'confidence': 0.011511826887726784}], 'text': 'atini numero imteik'}, 'input_channel': 'rest', 'message_id': '533154a15cd443b4857a54ae6f633d7e', 'metadata': {}}, {'event': 'action', 'timestamp': 1585497419.4609585, 'name': 'utter_Q1401', 'policy': 'policy_0_MappingPolicy', 'confidence': 1}, {'event': 'bot', 'timestamp': 1585497419.4609675, 'text': \" Pour plus d'informations ou pour déclarer un cas de contamination, appelez\\n\\nNuméro vert 80 10 19 19\\t\\t\\t\\t\\t\\t\\t\\t\\t\\n\\nPour le Nord-Est 71.589.271 ou 71.589.626 ou 71.589.596\\n\\nPour le Nord-Ouest 78.613.213\\n\\nPour le Centre-Est 73.369.090 ou 73.369.393 ou 74.672.372\\n\\nPour le Centre-Ouest 76.217.608 ou 76.217.915 ou 76.217.920\\n\\nPour le Sud 75.294.529 \", 'data': {'elements': None, 'quick_replies': None, 'buttons': None, 'attachment': None, 'image': None, 'custom': None}, 'metadata': {}}, {'event': 'action', 'timestamp': 1585497419.4675655, 'name': 'action_listen', 'policy': 'policy_0_MappingPolicy', 'confidence': 1}, {'event': 'user', 'timestamp': 1585497427.1720078, 'text': 'chesmek', 'parse_data': {'intent': {'name': 'QB15', 'confidence': 0.9701472520828247}, 'entities': [], 'intent_ranking': [{'name': 'QB15', 'confidence': 0.9701472520828247}, {'name': 'QB9', 'confidence': 0.004559433087706566}, {'name': 'QB2', 'confidence': 0.004021480213850737}, {'name': 'QB5', 'confidence': 0.0023532032500952482}, {'name': 'QB18', 'confidence': 0.0023047211579978466}, {'name': 'QB17', 'confidence': 0.0015638645272701979}, {'name': 'QB42', 'confidence': 0.0012813027715310454}, {'name': 'QB4', 'confidence': 0.001209919573739171}, {'name': 'QB75', 'confidence': 0.0008666219073347747}, {'name': 'QB10', 'confidence': 0.0006130042602308095}], 'text': 'chesmek'}, 'input_channel': 'rest', 'message_id': 'c95fe1772a6d46029880d80a8ca85437', 'metadata': {}}, {'event': 'action', 'timestamp': 1585497427.1792655, 'name': 'utter_QB15', 'policy': 'policy_0_MappingPolicy', 'confidence': 1}, {'event': 'bot', 'timestamp': 1585497427.1792734, 'text': ' je suis 3ziza, je suis là pour répondre à vos questions à propos de la COVID 19.. ', 'data': {'elements': None, 'quick_replies': None, 'buttons': None, 'attachment': None, 'image': None, 'custom': None}, 'metadata': {}}, {'event': 'action', 'timestamp': 1585497427.1855245, 'name': 'action_listen', 'policy': 'policy_0_MappingPolicy', 'confidence': 1}, {'event': 'user', 'timestamp': 1585497455.8250694, 'text': 'ena esmi aziz', 'parse_data': {'intent': {'name': 'QB35', 'confidence': 0.6182165145874023}, 'entities': [], 'intent_ranking': [{'name': 'QB35', 'confidence': 0.6182165145874023}, {'name': 'QB15', 'confidence': 0.14799901843070984}, {'name': 'QB42', 'confidence': 0.12247173488140106}, {'name': 'QB55', 'confidence': 0.013814739882946014}, {'name': 'Q0101', 'confidence': 0.010528669692575932}, {'name': 'QB79', 'confidence': 0.008842415176331997}, {'name': 'QB75', 'confidence': 0.008546765893697739}, {'name': 'QB6', 'confidence': 0.007386807817965746}, {'name': 'Qa14', 'confidence': 0.005783069413155317}, {'name': 'Qa23', 'confidence': 0.0056122709065675735}], 'text': 'ena esmi aziz'}, 'input_channel': 'rest', 'message_id': '5622fb0cade54100b96f0a1de340df60', 'metadata': {}}, {'event': 'action', 'timestamp': 1585497455.832196, 'name': 'utter_QB35', 'policy': 'policy_0_MappingPolicy', 'confidence': 1}, {'event': 'bot', 'timestamp': 1585497455.8322039, 'text': ' netcharrfou ana 3ziza', 'data': {'elements': None, 'quick_replies': None, 'buttons': None, 'attachment': None, 'image': None, 'custom': None}, 'metadata': {}}, {'event': 'action', 'timestamp': 1585497455.838495, 'name': 'action_listen', 'policy': 'policy_0_MappingPolicy', 'confidence': 1}, {'event': 'user', 'timestamp': 1585497557.7834952, 'text': 'chesm bouk', 'parse_data': {'intent': {'name': 'QB15', 'confidence': 0.7430719137191772}, 'entities': [], 'intent_ranking': [{'name': 'QB15', 'confidence': 0.7430719137191772}, {'name': 'QB18', 'confidence': 0.03195807337760925}, {'name': 'QB69', 'confidence': 0.0306951142847538}, {'name': 'QB14', 'confidence': 0.025208065286278725}, {'name': 'QB9', 'confidence': 0.02180399000644684}, {'name': 'QB55', 'confidence': 0.013475422747433186}, {'name': 'QB1', 'confidence': 0.01008590403944254}, {'name': 'QB20', 'confidence': 0.008784209378063679}, {'name': 'Q0418', 'confidence': 0.008608760312199593}, {'name': 'Q0701', 'confidence': 0.00860550906509161}], 'text': 'chesm bouk'}, 'input_channel': 'rest', 'message_id': '0fe0876765c848149aa05420528169b6', 'metadata': {}}, {'event': 'action', 'timestamp': 1585497557.7906542, 'name': 'utter_QB15', 'policy': 'policy_0_MappingPolicy', 'confidence': 1}, {'event': 'bot', 'timestamp': 1585497557.790662, 'text': ' Ena 3ziza, bech njewbek 3ala el COVID 19.. ', 'data': {'elements': None, 'quick_replies': None, 'buttons': None, 'attachment': None, 'image': None, 'custom': None}, 'metadata': {}}, {'event': 'action', 'timestamp': 1585497557.796871, 'name': 'action_listen', 'policy': 'policy_0_MappingPolicy', 'confidence': 1}, {'event': 'user', 'timestamp': 1585497563.6410382, 'text': 'bara zamer', 'parse_data': {'intent': {'name': 'QB14', 'confidence': 0.9135619401931763}, 'entities': [], 'intent_ranking': [{'name': 'QB14', 'confidence': 0.9135619401931763}, {'name': 'QB58', 'confidence': 0.020911937579512596}, {'name': 'QB8', 'confidence': 0.018389787524938583}, {'name': 'QB31', 'confidence': 0.0075179594568908215}, {'name': 'QB33', 'confidence': 0.00515469117090106}, {'name': 'QB55', 'confidence': 0.0038467564154416323}, {'name': 'QB32', 'confidence': 0.0037359334528446198}, {'name': 'Qa27', 'confidence': 0.0031665104907006025}, {'name': 'QC3', 'confidence': 0.00222265743650496}, {'name': 'QB9', 'confidence': 0.001991745550185442}], 'text': 'bara zamer'}, 'input_channel': 'rest', 'message_id': 'c2f34382998d40f0b716f8a53fc2eee2', 'metadata': {}}, {'event': 'action', 'timestamp': 1585497563.6499891, 'name': 'utter_QB14', 'policy': 'policy_0_MappingPolicy', 'confidence': 1}, {'event': 'bot', 'timestamp': 1585497563.6499984, 'text': ' Vos propos se passent de tout commentaire ', 'data': {'elements': None, 'quick_replies': None, 'buttons': None, 'attachment': None, 'image': None, 'custom': None}, 'metadata': {}}, {'event': 'action', 'timestamp': 1585497563.6570597, 'name': 'action_listen', 'policy': 'policy_0_MappingPolicy', 'confidence': 1}, {'event': 'user', 'timestamp': 1585497572.4661689, 'text': 'je suis malade', 'parse_data': {'intent': {'name': 'Q0201', 'confidence': 0.9220632910728455}, 'entities': [], 'intent_ranking': [{'name': 'Q0201', 'confidence': 0.9220632910728455}, {'name': 'Q0502', 'confidence': 0.018964869901537895}, {'name': 'Q0410', 'confidence': 0.004890604875981808}, {'name': 'Q0301', 'confidence': 0.0048758890479803085}, {'name': 'Q1402', 'confidence': 0.004715567920356989}, {'name': 'Q0103', 'confidence': 0.004078634083271027}, {'name': 'Q0501', 'confidence': 0.0035076714120805264}, {'name': 'Q0101', 'confidence': 0.003292301669716835}, {'name': 'Q0405', 'confidence': 0.0028425920754671097}, {'name': 'QB4', 'confidence': 0.0023157077375799417}], 'text': 'je suis malade'}, 'input_channel': 'rest', 'message_id': '53a64cdd8d7f4259879429e5cd593b3e', 'metadata': {}}, {'event': 'action', 'timestamp': 1585497572.4748588, 'name': 'utter_Q0201', 'policy': 'policy_0_MappingPolicy', 'confidence': 1}, {'event': 'bot', 'timestamp': 1585497572.4748673, 'text': ' Les symptômes principaux sont la fièvre ou la sensation de fièvre et des signes de difficultés respiratoires de type toux ou essoufflement.\\n\\nA ce jour, il n’a pas été rapporté de contamination par l’eau. Cette maladie est à transmission respiratoire et probablement de l’animal à l’homme, mais la source n’est pas encore identifiée.', 'data': {'elements': None, 'quick_replies': None, 'buttons': None, 'attachment': None, 'image': None, 'custom': None}, 'metadata': {}}, {'event': 'action', 'timestamp': 1585497572.482924, 'name': 'action_listen', 'policy': 'policy_0_MappingPolicy', 'confidence': 1}, {'event': 'user', 'timestamp': 1585497581.2676404, 'text': 'andi corona', 'parse_data': {'intent': {'name': 'Q0201', 'confidence': 0.959122359752655}, 'entities': [], 'intent_ranking': [{'name': 'Q0201', 'confidence': 0.959122359752655}, {'name': 'Q1402', 'confidence': 0.009892869740724564}, {'name': 'Q0501', 'confidence': 0.003842774545773864}, {'name': 'Q0405', 'confidence': 0.0027235164307057858}, {'name': 'Q0502', 'confidence': 0.002275932813063264}, {'name': 'Q0503', 'confidence': 0.0017854395555332303}, {'name': 'Q0414', 'confidence': 0.0011873667826876044}, {'name': 'Q0101', 'confidence': 0.0010402415646240115}, {'name': 'Q1502', 'confidence': 0.0009628839907236397}, {'name': 'QC31', 'confidence': 0.0009576064185239375}], 'text': 'andi corona'}, 'input_channel': 'rest', 'message_id': 'f1ff06cc982345b3b3a01f76c8271595', 'metadata': {}}, {'event': 'action', 'timestamp': 1585497581.2763286, 'name': 'utter_Q0201', 'policy': 'policy_0_MappingPolicy', 'confidence': 1}, {'event': 'bot', 'timestamp': 1585497581.2763374, 'text': ' Les symptômes principaux sont la fièvre ou la sensation de fièvre et des signes de difficultés respiratoires de type toux ou essoufflement.\\n\\nA ce jour, il n’a pas été rapporté de contamination par l’eau. Cette maladie est à transmission respiratoire et probablement de l’animal à l’homme, mais la source n’est pas encore identifiée.', 'data': {'elements': None, 'quick_replies': None, 'buttons': None, 'attachment': None, 'image': None, 'custom': None}, 'metadata': {}}, {'event': 'action', 'timestamp': 1585497581.2838645, 'name': 'action_listen', 'policy': 'policy_0_MappingPolicy', 'confidence': 1}, {'event': 'user', 'timestamp': 1585497586.3663738, 'text': 'ahla', 'parse_data': {'intent': {'name': 'QB1', 'confidence': 0.9535199403762817}, 'entities': [], 'intent_ranking': [{'name': 'QB1', 'confidence': 0.9535199403762817}, {'name': 'QB53', 'confidence': 0.00685544079169631}, {'name': 'QB35', 'confidence': 0.006105909124016762}, {'name': 'QB18', 'confidence': 0.0030010815244168043}, {'name': 'QB14', 'confidence': 0.0027548561338335276}, {'name': 'QB10', 'confidence': 0.0023883008398115635}, {'name': 'QB15', 'confidence': 0.0017282635672017932}, {'name': 'QB68', 'confidence': 0.0017132963985204697}, {'name': 'QB38', 'confidence': 0.00167552987113595}, {'name': 'QB57', 'confidence': 0.0016749619971960783}], 'text': 'ahla'}, 'input_channel': 'rest', 'message_id': '54eab88547fa4244a80faa074d767596', 'metadata': {}}, {'event': 'action', 'timestamp': 1585497586.3761332, 'name': 'utter_QB1', 'policy': 'policy_0_MappingPolicy', 'confidence': 1}, {'event': 'bot', 'timestamp': 1585497586.376144, 'text': ' Salem Salem ', 'data': {'elements': None, 'quick_replies': None, 'buttons': None, 'attachment': None, 'image': None, 'custom': None}, 'metadata': {}}, {'event': 'action', 'timestamp': 1585497586.3840275, 'name': 'action_listen', 'policy': 'policy_0_MappingPolicy', 'confidence': 1}, {'event': 'user', 'timestamp': 1585497589.6849227, 'text': 'labes§', 'parse_data': {'intent': {'name': 'QB2', 'confidence': 0.9424591064453125}, 'entities': [], 'intent_ranking': [{'name': 'QB2', 'confidence': 0.9424591064453125}, {'name': 'QB9', 'confidence': 0.006584854330867529}, {'name': 'Qa4', 'confidence': 0.005701809655874968}, {'name': 'QB4', 'confidence': 0.005471873562783003}, {'name': 'QB29', 'confidence': 0.0049310470931231976}, {'name': 'Qa6', 'confidence': 0.0039600166492164135}, {'name': 'Q0416', 'confidence': 0.0038029758725315332}, {'name': 'Q0201', 'confidence': 0.003404468996450305}, {'name': 'QB7', 'confidence': 0.0032299822196364403}, {'name': 'QB19', 'confidence': 0.0023542060516774654}], 'text': 'labes§'}, 'input_channel': 'rest', 'message_id': 'a3d3585eba5e4055b9d09c7ae44458b0', 'metadata': {}}, {'event': 'action', 'timestamp': 1585497589.6928575, 'name': 'utter_QB2', 'policy': 'policy_0_MappingPolicy', 'confidence': 1}, {'event': 'bot', 'timestamp': 1585497589.692869, 'text': ' très bien merci, comment je pourrais vous aider ? ', 'data': {'elements': None, 'quick_replies': None, 'buttons': None, 'attachment': None, 'image': None, 'custom': None}, 'metadata': {}}, {'event': 'action', 'timestamp': 1585497589.700186, 'name': 'action_listen', 'policy': 'policy_0_MappingPolicy', 'confidence': 1}, {'event': 'user', 'timestamp': 1585497596.1467013, 'text': 'labes mara okhra', 'parse_data': {'intent': {'name': 'Q0605', 'confidence': 0.3778170645236969}, 'entities': [], 'intent_ranking': [{'name': 'Q0605', 'confidence': 0.3778170645236969}, {'name': 'QB2', 'confidence': 0.08336099982261658}, {'name': 'Q0301', 'confidence': 0.06025882810354233}, {'name': 'QB19', 'confidence': 0.056424833834171295}, {'name': 'Q0414', 'confidence': 0.03566521778702736}, {'name': 'Q0201', 'confidence': 0.03349750116467476}, {'name': 'Qa6', 'confidence': 0.03184182569384575}, {'name': 'QB29', 'confidence': 0.03047199919819832}, {'name': 'QB11', 'confidence': 0.029703544452786446}, {'name': 'QB8', 'confidence': 0.029163172468543053}], 'text': 'labes mara okhra'}, 'input_channel': 'rest', 'message_id': 'b2855acdcbcf45a6898e6d6dbbbf9b72', 'metadata': {}}, {'event': 'action', 'timestamp': 1585497596.154088, 'name': 'utter_Q0605', 'policy': 'policy_0_MappingPolicy', 'confidence': 1}, {'event': 'bot', 'timestamp': 1585497596.1540954, 'text': ' On vient de commencer son utilisation. ', 'data': {'elements': None, 'quick_replies': None, 'buttons': None, 'attachment': None, 'image': None, 'custom': None}, 'metadata': {}}, {'event': 'action', 'timestamp': 1585497596.1606379, 'name': 'action_listen', 'policy': 'policy_0_MappingPolicy', 'confidence': 1}, {'event': 'user', 'timestamp': 1585497603.8771565, 'text': 'chesmou dwe', 'parse_data': {'intent': {'name': 'QB65', 'confidence': 0.22430530190467834}, 'entities': [], 'intent_ranking': [{'name': 'QB65', 'confidence': 0.22430530190467834}, {'name': 'Q0701', 'confidence': 0.13580848276615143}, {'name': 'QB18', 'confidence': 0.0937349796295166}, {'name': 'QB57', 'confidence': 0.06489003449678421}, {'name': 'Q1401', 'confidence': 0.04766369238495827}, {'name': 'Q0602', 'confidence': 0.043295249342918396}, {'name': 'QB54', 'confidence': 0.0376293770968914}, {'name': 'QB3', 'confidence': 0.03349575400352478}, {'name': 'Q0105', 'confidence': 0.026288999244570732}, {'name': 'QB55', 'confidence': 0.02265641838312149}], 'text': 'chesmou dwe'}, 'input_channel': 'rest', 'message_id': '968ea31b52f44c768bcc781915aa1b6b', 'metadata': {}}, {'event': 'action', 'timestamp': 1585497603.963245, 'name': 'action_default_fallback', 'policy': 'policy_2_FallbackPolicy', 'confidence': 1.0}, {'event': 'bot', 'timestamp': 1585497603.9632595, 'text': 'merci de reformuler plus clairement votre question', 'data': {'elements': None, 'quick_replies': None, 'buttons': None, 'attachment': None, 'image': None, 'custom': None}, 'metadata': {}}, {'event': 'action', 'timestamp': 1585497603.981772, 'name': 'action_listen', 'policy': 'policy_2_FallbackPolicy', 'confidence': 1.0}, {'event': 'user', 'timestamp': 1585497623.500088, 'text': 'kifech ndewi rohi', 'parse_data': {'intent': {'name': 'Q0201', 'confidence': 0.237248957157135}, 'entities': [], 'intent_ranking': [{'name': 'Q0201', 'confidence': 0.237248957157135}, {'name': 'Q1402', 'confidence': 0.18560291826725006}, {'name': 'Q0411', 'confidence': 0.153421550989151}, {'name': 'Q0405', 'confidence': 0.0999046340584755}, {'name': 'Q0501', 'confidence': 0.038020405918359756}, {'name': 'QB54', 'confidence': 0.03623299300670624}, {'name': 'QB4', 'confidence': 0.029437094926834106}, {'name': 'QB10', 'confidence': 0.028024185448884964}, {'name': 'QB56', 'confidence': 0.025960957631468773}, {'name': 'Q0301', 'confidence': 0.022857148200273514}], 'text': 'kifech ndewi rohi'}, 'input_channel': 'rest', 'message_id': 'e2cae85ca6fa4a8c97986656817b25ee', 'metadata': {}}, {'event': 'action', 'timestamp': 1585497623.5252156, 'name': 'action_default_fallback', 'policy': 'policy_2_FallbackPolicy', 'confidence': 1.0}, {'event': 'bot', 'timestamp': 1585497623.5252268, 'text': 'merci de reformuler plus clairement votre question', 'data': {'elements': None, 'quick_replies': None, 'buttons': None, 'attachment': None, 'image': None, 'custom': None}, 'metadata': {}}, {'event': 'action', 'timestamp': 1585497623.5329394, 'name': 'action_listen', 'policy': 'policy_2_FallbackPolicy', 'confidence': 1.0}, {'event': 'user', 'timestamp': 1585497628.3114812, 'text': 'bara nnayek', 'parse_data': {'intent': {'name': 'QB14', 'confidence': 0.9847902655601501}, 'entities': [], 'intent_ranking': [{'name': 'QB14', 'confidence': 0.9847902655601501}, {'name': 'Qa27', 'confidence': 0.0014271109830588102}, {'name': 'Qa34', 'confidence': 0.001007758779451251}, {'name': 'QB33', 'confidence': 0.0008343709632754326}, {'name': 'QB22', 'confidence': 0.0008083457360044122}, {'name': 'QB31', 'confidence': 0.0007205796428024769}, {'name': 'Q0202', 'confidence': 0.0006902370951138437}, {'name': 'QB32', 'confidence': 0.0006659729406237602}, {'name': 'QC38', 'confidence': 0.0006360135739669204}, {'name': 'QB8', 'confidence': 0.0005716198938898742}], 'text': 'bara nnayek'}, 'input_channel': 'rest', 'message_id': 'bce734db00954ce5bba799ff870c7847', 'metadata': {}}, {'event': 'action', 'timestamp': 1585497628.3190916, 'name': 'utter_QB14', 'policy': 'policy_0_MappingPolicy', 'confidence': 1}, {'event': 'bot', 'timestamp': 1585497628.3191001, 'text': ' Vos propos se passent de tout commentaire ', 'data': {'elements': None, 'quick_replies': None, 'buttons': None, 'attachment': None, 'image': None, 'custom': None}, 'metadata': {}}, {'event': 'action', 'timestamp': 1585497628.3264003, 'name': 'action_listen', 'policy': 'policy_0_MappingPolicy', 'confidence': 1}], 'followup_action': None, 'latest_action_name': 'action_listen', 'latest_event_time': 1585497628.3264003, 'latest_input_channel': 'rest', 'latest_message': {'intent': {'name': 'QB14', 'confidence': 0.9847902655601501}, 'entities': [], 'intent_ranking': [{'name': 'QB14', 'confidence': 0.9847902655601501}, {'name': 'Qa27', 'confidence': 0.0014271109830588102}, {'name': 'Qa34', 'confidence': 0.001007758779451251}, {'name': 'QB33', 'confidence': 0.0008343709632754326}, {'name': 'QB22', 'confidence': 0.0008083457360044122}, {'name': 'QB31', 'confidence': 0.0007205796428024769}, {'name': 'Q0202', 'confidence': 0.0006902370951138437}, {'name': 'QB32', 'confidence': 0.0006659729406237602}, {'name': 'QC38', 'confidence': 0.0006360135739669204}, {'name': 'QB8', 'confidence': 0.0005716198938898742}], 'text': 'bara nnayek'}, 'paused': False, 'slots': {}}\n",
            "cle:  {'_id': '5e80c62530008e93224f1d80', 'sender_id': 'GA1.2.727914747.1585420194', 'active_form': {}, 'events': [{'event': 'action', 'timestamp': 1585497637.7737215, 'name': 'action_session_start', 'policy': None, 'confidence': None}, {'event': 'session_started', 'timestamp': 1585497637.7737308}, {'event': 'action', 'timestamp': 1585497637.773752, 'name': 'action_listen', 'policy': None, 'confidence': None}, {'event': 'action', 'timestamp': 1585497637.773752, 'name': 'action_listen', 'policy': None, 'confidence': None}, {'event': 'user', 'timestamp': 1585497637.7808878, 'text': '14 يوم تكفي باش نتأكد من سلامة الشخص', 'parse_data': {'intent': {'name': 'Qa3', 'confidence': 0.2794922888278961}, 'entities': [], 'intent_ranking': [{'name': 'Qa3', 'confidence': 0.2794922888278961}, {'name': 'QC25', 'confidence': 0.10905441641807556}, {'name': 'Qa6', 'confidence': 0.07816958427429199}, {'name': 'Qa43', 'confidence': 0.05883336067199707}, {'name': 'Qa15', 'confidence': 0.05178281292319298}, {'name': 'Qa29', 'confidence': 0.03834978863596916}, {'name': 'QC9', 'confidence': 0.031834252178668976}, {'name': 'Qa19', 'confidence': 0.02910122089087963}, {'name': 'Q0410', 'confidence': 0.02573573589324951}, {'name': 'Qa35', 'confidence': 0.023129183799028397}], 'text': '14 يوم تكفي باش نتأكد من سلامة الشخص'}, 'input_channel': 'rest', 'message_id': '7b43ffef06c74ea0a4f7360b90aa40bd', 'metadata': {}}, {'event': 'action', 'timestamp': 1585497637.8043818, 'name': 'action_default_fallback', 'policy': 'policy_2_FallbackPolicy', 'confidence': 1.0}, {'event': 'bot', 'timestamp': 1585497637.8043935, 'text': 'merci de reformuler plus clairement votre question', 'data': {'elements': None, 'quick_replies': None, 'buttons': None, 'attachment': None, 'image': None, 'custom': None}, 'metadata': {}}, {'event': 'action', 'timestamp': 1585497637.8111148, 'name': 'action_listen', 'policy': 'policy_2_FallbackPolicy', 'confidence': 1.0}, {'event': 'user', 'timestamp': 1585497708.382211, 'text': '14 يوم كافية للتأكد من سلامة الشخص و عدم حملو الفيروس', 'parse_data': {'intent': {'name': 'Qa3', 'confidence': 0.24979180097579956}, 'entities': [], 'intent_ranking': [{'name': 'Qa3', 'confidence': 0.24979180097579956}, {'name': 'Qa6', 'confidence': 0.16288913786411285}, {'name': 'Qa19', 'confidence': 0.14504249393939972}, {'name': 'Qa29', 'confidence': 0.12928512692451477}, {'name': 'QC25', 'confidence': 0.050130076706409454}, {'name': 'Qa20', 'confidence': 0.022219249978661537}, {'name': 'Qa35', 'confidence': 0.018071351572871208}, {'name': 'Qa23', 'confidence': 0.01709918864071369}, {'name': 'Q0410', 'confidence': 0.01514790765941143}, {'name': 'Qa32', 'confidence': 0.01365259476006031}], 'text': '14 يوم كافية للتأكد من سلامة الشخص و عدم حملو الفيروس'}, 'input_channel': 'rest', 'message_id': '113a05f090bd4ce3a3bd1326c4903416', 'metadata': {}}, {'event': 'action', 'timestamp': 1585497708.4071808, 'name': 'action_default_fallback', 'policy': 'policy_2_FallbackPolicy', 'confidence': 1.0}, {'event': 'bot', 'timestamp': 1585497708.4071991, 'text': 'merci de reformuler plus clairement votre question', 'data': {'elements': None, 'quick_replies': None, 'buttons': None, 'attachment': None, 'image': None, 'custom': None}, 'metadata': {}}, {'event': 'action', 'timestamp': 1585497708.4140265, 'name': 'action_listen', 'policy': 'policy_2_FallbackPolicy', 'confidence': 1.0}, {'event': 'user', 'timestamp': 1585497726.5711067, 'text': 'مدة الحجر الصحي', 'parse_data': {'intent': {'name': 'Qa34', 'confidence': 0.7782098054885864}, 'entities': [], 'intent_ranking': [{'name': 'Qa34', 'confidence': 0.7782098054885864}, {'name': 'Qa35', 'confidence': 0.14575934410095215}, {'name': 'QB14', 'confidence': 0.010267207399010658}, {'name': 'Qa48', 'confidence': 0.009385935962200165}, {'name': 'QB63', 'confidence': 0.009293410927057266}, {'name': 'Qa55', 'confidence': 0.00826918426901102}, {'name': 'QB32', 'confidence': 0.00390848983079195}, {'name': 'QC3', 'confidence': 0.0034587099216878414}, {'name': 'QB79', 'confidence': 0.0032350521069020033}, {'name': 'Qa45', 'confidence': 0.002543518552556634}], 'text': 'مدة الحجر الصحي'}, 'input_channel': 'rest', 'message_id': '1096196b134449e08c3e7e414ba79902', 'metadata': {}}, {'event': 'action', 'timestamp': 1585497726.5785272, 'name': 'utter_Qa34', 'policy': 'policy_0_MappingPolicy', 'confidence': 1}, {'event': 'bot', 'timestamp': 1585497726.5785365, 'text': ' حسب منظمة الصحة العالمية، يعرف الحجر الصحي على أنه تقييد لأنشطة الأشخاص غير المرضى، ولكن الذين يرجح أنهم تعرضوا لعامل مُمرض أو لمرض.  أو عزلهم عن الآخرين بهدف رصد الأعراض واكتشاف الأعراض مبكرا. \\n\\nتكون فترة الحجر الصحي الذاتي 14 يوما.\\n\\nيُطلب من الأشخاص الخاضعين للحجر الصحّي الذاتي البقاء في الغرفة أو أي مكان آخر منفرد للحدّ من انتشار المرض للآخرين. \\n\\nيمكنك الحصول على المزيد من المعلومات من خلال الضغط على هذا الرابط \\n\\n covid-19.tn/blog/الحجر-الصحي-الذاتي/ ', 'data': {'elements': None, 'quick_replies': None, 'buttons': None, 'attachment': None, 'image': None, 'custom': None}, 'metadata': {}}, {'event': 'action', 'timestamp': 1585497726.5856266, 'name': 'action_listen', 'policy': 'policy_0_MappingPolicy', 'confidence': 1}], 'followup_action': None, 'latest_action_name': 'action_listen', 'latest_event_time': 1585497726.5856266, 'latest_input_channel': 'rest', 'latest_message': {'intent': {'name': 'Qa34', 'confidence': 0.7782098054885864}, 'entities': [], 'intent_ranking': [{'name': 'Qa34', 'confidence': 0.7782098054885864}, {'name': 'Qa35', 'confidence': 0.14575934410095215}, {'name': 'QB14', 'confidence': 0.010267207399010658}, {'name': 'Qa48', 'confidence': 0.009385935962200165}, {'name': 'QB63', 'confidence': 0.009293410927057266}, {'name': 'Qa55', 'confidence': 0.00826918426901102}, {'name': 'QB32', 'confidence': 0.00390848983079195}, {'name': 'QC3', 'confidence': 0.0034587099216878414}, {'name': 'QB79', 'confidence': 0.0032350521069020033}, {'name': 'Qa45', 'confidence': 0.002543518552556634}], 'text': 'مدة الحجر الصحي'}, 'paused': False, 'slots': {}}\n",
            "cle:  {'_id': '5e80c62a30008e93224f1d88', 'sender_id': 'GA1.2.522211530.1585497586', 'active_form': {}, 'events': [{'event': 'action', 'timestamp': 1585497642.3641157, 'name': 'action_session_start', 'policy': None, 'confidence': None}, {'event': 'session_started', 'timestamp': 1585497642.3641253}, {'event': 'action', 'timestamp': 1585497642.3641462, 'name': 'action_listen', 'policy': None, 'confidence': None}, {'event': 'action', 'timestamp': 1585497642.3641462, 'name': 'action_listen', 'policy': None, 'confidence': None}, {'event': 'user', 'timestamp': 1585497642.3707051, 'text': 'عندي الشياح في الحلق', 'parse_data': {'intent': {'name': 'Qa2', 'confidence': 0.9579164981842041}, 'entities': [], 'intent_ranking': [{'name': 'Qa2', 'confidence': 0.9579164981842041}, {'name': 'QC6', 'confidence': 0.004401201382279396}, {'name': 'QC5', 'confidence': 0.003425874747335911}, {'name': 'Qa32', 'confidence': 0.003150605596601963}, {'name': 'QB11', 'confidence': 0.00288265198469162}, {'name': 'Qa4', 'confidence': 0.0022813465911895037}, {'name': 'Qa28', 'confidence': 0.0016606696881353855}, {'name': 'QC24', 'confidence': 0.0014448941219598055}, {'name': 'QC19', 'confidence': 0.0012773911003023386}, {'name': 'Qa24', 'confidence': 0.0011857342906296253}], 'text': 'عندي الشياح في الحلق'}, 'input_channel': 'rest', 'message_id': '0012dd92dd37427f868c66621b1a3f1f', 'metadata': {}}, {'event': 'action', 'timestamp': 1585497642.3770807, 'name': 'utter_Qa2', 'policy': 'policy_0_MappingPolicy', 'confidence': 1}, {'event': 'bot', 'timestamp': 1585497642.3770878, 'text': ' أكثر الأعراض شيوعاً ما يلي الحمّى والسعال الكحة وصعوبة التنفس.', 'data': {'elements': None, 'quick_replies': None, 'buttons': None, 'attachment': None, 'image': None, 'custom': None}, 'metadata': {}}, {'event': 'action', 'timestamp': 1585497642.3831408, 'name': 'action_listen', 'policy': 'policy_0_MappingPolicy', 'confidence': 1}, {'event': 'user', 'timestamp': 1585497664.5376983, 'text': 'و اوجاع الحلق', 'parse_data': {'intent': {'name': 'Qa2', 'confidence': 0.9539108276367188}, 'entities': [], 'intent_ranking': [{'name': 'Qa2', 'confidence': 0.9539108276367188}, {'name': 'QC24', 'confidence': 0.007112679537385702}, {'name': 'QC38', 'confidence': 0.004016567952930927}, {'name': 'QC19', 'confidence': 0.002416775329038501}, {'name': 'Qa9', 'confidence': 0.0023546679876744747}, {'name': 'Qa31', 'confidence': 0.0019858097657561302}, {'name': 'QC2', 'confidence': 0.0019165355479344726}, {'name': 'Qa32', 'confidence': 0.0015854822704568505}, {'name': 'Qa42', 'confidence': 0.0014827370177954435}, {'name': 'QC6', 'confidence': 0.0014242379693314433}], 'text': 'و اوجاع الحلق'}, 'input_channel': 'rest', 'message_id': 'b8c9bcb2defd4aae8dd92fcbd43b9fab', 'metadata': {}}, {'event': 'action', 'timestamp': 1585497664.544635, 'name': 'utter_Qa2', 'policy': 'policy_0_MappingPolicy', 'confidence': 1}, {'event': 'bot', 'timestamp': 1585497664.5446434, 'text': ' أكثر الأعراض شيوعاً ما يلي الحمّى والسعال الكحة وصعوبة التنفس.', 'data': {'elements': None, 'quick_replies': None, 'buttons': None, 'attachment': None, 'image': None, 'custom': None}, 'metadata': {}}, {'event': 'action', 'timestamp': 1585497664.5509663, 'name': 'action_listen', 'policy': 'policy_0_MappingPolicy', 'confidence': 1}], 'followup_action': None, 'latest_action_name': 'action_listen', 'latest_event_time': 1585497664.5509663, 'latest_input_channel': 'rest', 'latest_message': {'intent': {'name': 'Qa2', 'confidence': 0.9539108276367188}, 'entities': [], 'intent_ranking': [{'name': 'Qa2', 'confidence': 0.9539108276367188}, {'name': 'QC24', 'confidence': 0.007112679537385702}, {'name': 'QC38', 'confidence': 0.004016567952930927}, {'name': 'QC19', 'confidence': 0.002416775329038501}, {'name': 'Qa9', 'confidence': 0.0023546679876744747}, {'name': 'Qa31', 'confidence': 0.0019858097657561302}, {'name': 'QC2', 'confidence': 0.0019165355479344726}, {'name': 'Qa32', 'confidence': 0.0015854822704568505}, {'name': 'Qa42', 'confidence': 0.0014827370177954435}, {'name': 'QC6', 'confidence': 0.0014242379693314433}], 'text': 'و اوجاع الحلق'}, 'paused': False, 'slots': {}}\n",
            "cle:  {'_id': '5e80c63c30008e93224f1d92', 'sender_id': 'GA1.2.1223546702.1585497595', 'active_form': {}, 'events': [{'event': 'action', 'timestamp': 1585497660.516822, 'name': 'action_session_start', 'policy': None, 'confidence': None}, {'event': 'session_started', 'timestamp': 1585497660.5168314}, {'event': 'action', 'timestamp': 1585497660.5168538, 'name': 'action_listen', 'policy': None, 'confidence': None}, {'event': 'action', 'timestamp': 1585497660.5168538, 'name': 'action_listen', 'policy': None, 'confidence': None}, {'event': 'user', 'timestamp': 1585497660.523793, 'text': 'Salut', 'parse_data': {'intent': {'name': 'QB1', 'confidence': 0.781359076499939}, 'entities': [], 'intent_ranking': [{'name': 'QB1', 'confidence': 0.781359076499939}, {'name': 'QB53', 'confidence': 0.05058826133608818}, {'name': 'QB15', 'confidence': 0.04646376892924309}, {'name': 'Q1401', 'confidence': 0.034864068031311035}, {'name': 'QB35', 'confidence': 0.013593110255897045}, {'name': 'QB10', 'confidence': 0.012990702874958515}, {'name': 'QB58', 'confidence': 0.007151738274842501}, {'name': 'QB55', 'confidence': 0.005458123981952667}, {'name': 'QB14', 'confidence': 0.0051358481869101524}, {'name': 'QB57', 'confidence': 0.004894063342362642}], 'text': 'Salut'}, 'input_channel': 'rest', 'message_id': '19639491f5324e74ba4f6b8485fa81a8', 'metadata': {}}, {'event': 'action', 'timestamp': 1585497660.5315287, 'name': 'utter_QB1', 'policy': 'policy_0_MappingPolicy', 'confidence': 1}, {'event': 'bot', 'timestamp': 1585497660.5315392, 'text': ' Aaslema Aaslema ', 'data': {'elements': None, 'quick_replies': None, 'buttons': None, 'attachment': None, 'image': None, 'custom': None}, 'metadata': {}}, {'event': 'action', 'timestamp': 1585497660.5389647, 'name': 'action_listen', 'policy': 'policy_0_MappingPolicy', 'confidence': 1}, {'event': 'user', 'timestamp': 1585497680.677242, 'text': \"C'est quoi le corona virus\", 'parse_data': {'intent': {'name': 'Q0101', 'confidence': 0.951980471611023}, 'entities': [], 'intent_ranking': [{'name': 'Q0101', 'confidence': 0.951980471611023}, {'name': 'Q0102', 'confidence': 0.0136345773935318}, {'name': 'Q0410', 'confidence': 0.0042094034142792225}, {'name': 'Q0407', 'confidence': 0.003155524842441082}, {'name': 'Q0404', 'confidence': 0.0030849871691316366}, {'name': 'QB4', 'confidence': 0.0024827143643051386}, {'name': 'Q0201', 'confidence': 0.0020303279161453247}, {'name': 'QB54', 'confidence': 0.0016232812777161598}, {'name': 'Q0103', 'confidence': 0.001580543234013021}, {'name': 'Q0901', 'confidence': 0.00138462136965245}], 'text': \"C'est quoi le corona virus\"}, 'input_channel': 'rest', 'message_id': '338c9c7036734f24bd706f4de76b6b49', 'metadata': {}}, {'event': 'action', 'timestamp': 1585497680.6843495, 'name': 'utter_Q0101', 'policy': 'policy_0_MappingPolicy', 'confidence': 1}, {'event': 'bot', 'timestamp': 1585497680.684359, 'text': ' Le virus identifié en janvier 2020 en Chine est un nouveau Coronavirus. La maladie provoquée par ce Coronavirus a été nommée COVID-19 par l’Organisation mondiale de la Santé – OMS.\\n\\nDepuis le 11 mars 2020, l’OMS qualifie la situation mondiale du COVID-19 de pandémie ; c’est-à-dire que l’épidémie touche désormais 137 pays sur une zone étendue.', 'data': {'elements': None, 'quick_replies': None, 'buttons': None, 'attachment': None, 'image': None, 'custom': None}, 'metadata': {}}, {'event': 'action', 'timestamp': 1585497680.6911, 'name': 'action_listen', 'policy': 'policy_0_MappingPolicy', 'confidence': 1}, {'event': 'user', 'timestamp': 1585497708.2593472, 'text': 'Comment se protéger ?', 'parse_data': {'intent': {'name': 'Q0411', 'confidence': 0.962743878364563}, 'entities': [], 'intent_ranking': [{'name': 'Q0411', 'confidence': 0.962743878364563}, {'name': 'Q0701', 'confidence': 0.005164226051419973}, {'name': 'Q0501', 'confidence': 0.0038863103836774826}, {'name': 'Q1304', 'confidence': 0.003205742919817567}, {'name': 'Qa33', 'confidence': 0.002638662699609995}, {'name': 'QB4', 'confidence': 0.0018714668694883585}, {'name': 'Q0402', 'confidence': 0.001747725997120142}, {'name': 'Q0405', 'confidence': 0.0015768471639603376}, {'name': 'Qa10', 'confidence': 0.0013621809193864465}, {'name': 'QB18', 'confidence': 0.0011031054891645908}], 'text': 'Comment se protéger ?'}, 'input_channel': 'rest', 'message_id': 'ff5f67648ca24e35bd3c8d439e697520', 'metadata': {}}, {'event': 'action', 'timestamp': 1585497708.2662501, 'name': 'utter_Q0411', 'policy': 'policy_0_MappingPolicy', 'confidence': 1}, {'event': 'bot', 'timestamp': 1585497708.266258, 'text': '\\n\\nAUTOCONFINEMENT\\n\\nSE LAVER FREQUEMMENT LES MAINS\\n\\nÉVITER LES CONTACTS PROCHES\\n\\nÉVITER DE SE TOUCHER LES YEUX, LE NEZ ET LA BOUCHE.\\n\\nRESPECTER LES RÈGLES D’HYGIÈNE RESPIRATOIRE\\n\\nTENEZ-VOUS INFORMÉ ET SUIVEZ LES CONSEILS DE VOTRE MÉDECIN ', 'data': {'elements': None, 'quick_replies': None, 'buttons': None, 'attachment': None, 'image': None, 'custom': None}, 'metadata': {}}, {'event': 'action', 'timestamp': 1585497708.2729375, 'name': 'action_listen', 'policy': 'policy_0_MappingPolicy', 'confidence': 1}, {'event': 'user', 'timestamp': 1585497729.9230173, 'text': 'Femme enceinte', 'parse_data': {'intent': {'name': 'Q0416', 'confidence': 0.31559768319129944}, 'entities': [], 'intent_ranking': [{'name': 'Q0416', 'confidence': 0.31559768319129944}, {'name': 'Q0301', 'confidence': 0.13752759993076324}, {'name': 'QB61', 'confidence': 0.06973502039909363}, {'name': 'QB19', 'confidence': 0.05694671347737312}, {'name': 'QB9', 'confidence': 0.055758122354745865}, {'name': 'QB2', 'confidence': 0.052705761045217514}, {'name': 'Q0201', 'confidence': 0.050574809312820435}, {'name': 'QB24', 'confidence': 0.035125698894262314}, {'name': 'QB18', 'confidence': 0.026056531816720963}, {'name': 'QB59', 'confidence': 0.017167266458272934}], 'text': 'Femme enceinte'}, 'input_channel': 'rest', 'message_id': '12c2af08f2e445309b732175832010fe', 'metadata': {}}, {'event': 'action', 'timestamp': 1585497729.9470236, 'name': 'action_default_fallback', 'policy': 'policy_2_FallbackPolicy', 'confidence': 1.0}, {'event': 'bot', 'timestamp': 1585497729.9470353, 'text': 'merci de reformuler plus clairement votre question', 'data': {'elements': None, 'quick_replies': None, 'buttons': None, 'attachment': None, 'image': None, 'custom': None}, 'metadata': {}}, {'event': 'action', 'timestamp': 1585497729.9542177, 'name': 'action_listen', 'policy': 'policy_2_FallbackPolicy', 'confidence': 1.0}, {'event': 'user', 'timestamp': 1585497749.8960383, 'text': 'Impact sur la femme enceinte', 'parse_data': {'intent': {'name': 'Q0502', 'confidence': 0.33114027976989746}, 'entities': [], 'intent_ranking': [{'name': 'Q0502', 'confidence': 0.33114027976989746}, {'name': 'Q0201', 'confidence': 0.18276232481002808}, {'name': 'Q1305', 'confidence': 0.05492928624153137}, {'name': 'Q0501', 'confidence': 0.05103519558906555}, {'name': 'Q0410', 'confidence': 0.05063209682703018}, {'name': 'Q0104', 'confidence': 0.045767202973365784}, {'name': 'QB54', 'confidence': 0.040400430560112}, {'name': 'Q0301', 'confidence': 0.03193620219826698}, {'name': 'Q1301', 'confidence': 0.029218358919024467}, {'name': 'Q1001', 'confidence': 0.020231131464242935}], 'text': 'Impact sur la femme enceinte'}, 'input_channel': 'rest', 'message_id': '65baf746804a42699f5ccb3403d455a8', 'metadata': {}}, {'event': 'action', 'timestamp': 1585497749.9196613, 'name': 'action_default_fallback', 'policy': 'policy_2_FallbackPolicy', 'confidence': 1.0}, {'event': 'bot', 'timestamp': 1585497749.9196732, 'text': 'merci de reformuler plus clairement votre question', 'data': {'elements': None, 'quick_replies': None, 'buttons': None, 'attachment': None, 'image': None, 'custom': None}, 'metadata': {}}, {'event': 'action', 'timestamp': 1585497749.9270864, 'name': 'action_listen', 'policy': 'policy_2_FallbackPolicy', 'confidence': 1.0}, {'event': 'user', 'timestamp': 1585497782.0694215, 'text': \"C'est quoi le danger sur la femme enceinte ?\", 'parse_data': {'intent': {'name': 'Q1502', 'confidence': 0.40853410959243774}, 'entities': [], 'intent_ranking': [{'name': 'Q1502', 'confidence': 0.40853410959243774}, {'name': 'Q0201', 'confidence': 0.20166164636611938}, {'name': 'Q0304', 'confidence': 0.057134244590997696}, {'name': 'QB11', 'confidence': 0.049772631376981735}, {'name': 'Q0104', 'confidence': 0.0403105653822422}, {'name': 'QB19', 'confidence': 0.03165455162525177}, {'name': 'Q0403', 'confidence': 0.021635940298438072}, {'name': 'QB24', 'confidence': 0.019395431503653526}, {'name': 'Q1305', 'confidence': 0.015596548095345497}, {'name': 'Q0505', 'confidence': 0.014830042608082294}], 'text': \"C'est quoi le danger sur la femme enceinte ?\"}, 'input_channel': 'rest', 'message_id': 'a202db86ee1845fdb804c3ca5f188669', 'metadata': {}}, {'event': 'action', 'timestamp': 1585497782.0769565, 'name': 'utter_Q1502', 'policy': 'policy_0_MappingPolicy', 'confidence': 1}, {'event': 'bot', 'timestamp': 1585497782.076965, 'text': ' Il y aura une communication officielle ', 'data': {'elements': None, 'quick_replies': None, 'buttons': None, 'attachment': None, 'image': None, 'custom': None}, 'metadata': {}}, {'event': 'action', 'timestamp': 1585497782.084563, 'name': 'action_listen', 'policy': 'policy_0_MappingPolicy', 'confidence': 1}], 'followup_action': None, 'latest_action_name': 'action_listen', 'latest_event_time': 1585497782.084563, 'latest_input_channel': 'rest', 'latest_message': {'intent': {'name': 'Q1502', 'confidence': 0.40853410959243774}, 'entities': [], 'intent_ranking': [{'name': 'Q1502', 'confidence': 0.40853410959243774}, {'name': 'Q0201', 'confidence': 0.20166164636611938}, {'name': 'Q0304', 'confidence': 0.057134244590997696}, {'name': 'QB11', 'confidence': 0.049772631376981735}, {'name': 'Q0104', 'confidence': 0.0403105653822422}, {'name': 'QB19', 'confidence': 0.03165455162525177}, {'name': 'Q0403', 'confidence': 0.021635940298438072}, {'name': 'QB24', 'confidence': 0.019395431503653526}, {'name': 'Q1305', 'confidence': 0.015596548095345497}, {'name': 'Q0505', 'confidence': 0.014830042608082294}], 'text': \"C'est quoi le danger sur la femme enceinte ?\"}, 'paused': False, 'slots': {}}\n",
            "cle:  {'_id': '5e80c73430008e93224f1dcf', 'sender_id': 'GA1.2.1687506255.1585497650', 'active_form': {}, 'events': [{'event': 'action', 'timestamp': 1585497908.01149, 'name': 'action_session_start', 'policy': None, 'confidence': None}, {'event': 'session_started', 'timestamp': 1585497908.0115004}, {'event': 'action', 'timestamp': 1585497908.0115259, 'name': 'action_listen', 'policy': None, 'confidence': None}, {'event': 'action', 'timestamp': 1585497908.0115259, 'name': 'action_listen', 'policy': None, 'confidence': None}, {'event': 'user', 'timestamp': 1585497908.0193853, 'text': 'Qui est Le plus efficace désinfecteur', 'parse_data': {'intent': {'name': 'Q0412', 'confidence': 0.1477191299200058}, 'entities': [], 'intent_ranking': [{'name': 'Q0412', 'confidence': 0.1477191299200058}, {'name': 'Q1001', 'confidence': 0.10328304022550583}, {'name': 'QB65', 'confidence': 0.1000862568616867}, {'name': 'Qa31', 'confidence': 0.08791377395391464}, {'name': 'QB57', 'confidence': 0.08585064113140106}, {'name': 'Q0301', 'confidence': 0.08398693054914474}, {'name': 'Q0104', 'confidence': 0.055632226169109344}, {'name': 'Q0701', 'confidence': 0.04852523282170296}, {'name': 'Qa47', 'confidence': 0.039463452994823456}, {'name': 'Qa42', 'confidence': 0.02564241923391819}], 'text': 'Qui est Le plus efficace désinfecteur'}, 'input_channel': 'rest', 'message_id': '2ba0bc15ca8a49ba9bc53c6587ae5c93', 'metadata': {}}, {'event': 'action', 'timestamp': 1585497908.044215, 'name': 'action_default_fallback', 'policy': 'policy_2_FallbackPolicy', 'confidence': 1.0}, {'event': 'bot', 'timestamp': 1585497908.0442266, 'text': 'merci de reformuler plus clairement votre question', 'data': {'elements': None, 'quick_replies': None, 'buttons': None, 'attachment': None, 'image': None, 'custom': None}, 'metadata': {}}, {'event': 'action', 'timestamp': 1585497908.0530982, 'name': 'action_listen', 'policy': 'policy_2_FallbackPolicy', 'confidence': 1.0}], 'followup_action': None, 'latest_action_name': 'action_listen', 'latest_event_time': 1585497908.0530982, 'latest_input_channel': 'rest', 'latest_message': {'intent': {'name': 'Q0412', 'confidence': 0.1477191299200058}, 'entities': [], 'intent_ranking': [{'name': 'Q0412', 'confidence': 0.1477191299200058}, {'name': 'Q1001', 'confidence': 0.10328304022550583}, {'name': 'QB65', 'confidence': 0.1000862568616867}, {'name': 'Qa31', 'confidence': 0.08791377395391464}, {'name': 'QB57', 'confidence': 0.08585064113140106}, {'name': 'Q0301', 'confidence': 0.08398693054914474}, {'name': 'Q0104', 'confidence': 0.055632226169109344}, {'name': 'Q0701', 'confidence': 0.04852523282170296}, {'name': 'Qa47', 'confidence': 0.039463452994823456}, {'name': 'Qa42', 'confidence': 0.02564241923391819}], 'text': 'Qui est Le plus efficace désinfecteur'}, 'paused': False, 'slots': {}}\n",
            "cle:  {'_id': '5e80c76430008e93224f1ddc', 'sender_id': 'GA1.2.459895769.1585497901', 'active_form': {}, 'events': [{'event': 'action', 'timestamp': 1585497956.2243543, 'name': 'action_session_start', 'policy': None, 'confidence': None}, {'event': 'session_started', 'timestamp': 1585497956.2243788}, {'event': 'action', 'timestamp': 1585497956.2244058, 'name': 'action_listen', 'policy': None, 'confidence': None}, {'event': 'action', 'timestamp': 1585497956.2244058, 'name': 'action_listen', 'policy': None, 'confidence': None}, {'event': 'user', 'timestamp': 1585497956.2320292, 'text': 'اهلًا و شكرًا على المساعدة', 'parse_data': {'intent': {'name': 'QC21', 'confidence': 0.4470231831073761}, 'entities': [], 'intent_ranking': [{'name': 'QC21', 'confidence': 0.4470231831073761}, {'name': 'QC2', 'confidence': 0.24374884366989136}, {'name': 'QC1', 'confidence': 0.060870248824357986}, {'name': 'QC23', 'confidence': 0.060006033629179}, {'name': 'QC9', 'confidence': 0.02182660810649395}, {'name': 'QC8', 'confidence': 0.020256565883755684}, {'name': 'Qa15', 'confidence': 0.016332553699612617}, {'name': 'QB21', 'confidence': 0.013640322722494602}, {'name': 'QC3', 'confidence': 0.012204772792756557}, {'name': 'QC6', 'confidence': 0.009856672957539558}], 'text': 'اهلًا و شكرًا على المساعدة'}, 'input_channel': 'rest', 'message_id': '5369de28c4d84ebc8d63c39d48c3d2be', 'metadata': {}}, {'event': 'action', 'timestamp': 1585497956.2394226, 'name': 'utter_QC21', 'policy': 'policy_0_MappingPolicy', 'confidence': 1}, {'event': 'bot', 'timestamp': 1585497956.2394319, 'text': ' .لا عفو على واجب', 'data': {'elements': None, 'quick_replies': None, 'buttons': None, 'attachment': None, 'image': None, 'custom': None}, 'metadata': {}}, {'event': 'action', 'timestamp': 1585497956.2464378, 'name': 'action_listen', 'policy': 'policy_0_MappingPolicy', 'confidence': 1}, {'event': 'user', 'timestamp': 1585498002.6544318, 'text': 'شنوة الجديد بالنسبة للإجراءات', 'parse_data': {'intent': {'name': 'Qa2', 'confidence': 0.7393692135810852}, 'entities': [], 'intent_ranking': [{'name': 'Qa2', 'confidence': 0.7393692135810852}, {'name': 'QB11', 'confidence': 0.02939392253756523}, {'name': 'Q0605', 'confidence': 0.0276636965572834}, {'name': 'Qa19', 'confidence': 0.020746883004903793}, {'name': 'Q0304', 'confidence': 0.017492257058620453}, {'name': 'Q1302', 'confidence': 0.014517933130264282}, {'name': 'Q0302', 'confidence': 0.01106083020567894}, {'name': 'Qa32', 'confidence': 0.010415834374725819}, {'name': 'QC25', 'confidence': 0.009784234687685966}, {'name': 'QB66', 'confidence': 0.005912215448915958}], 'text': 'شنوة الجديد بالنسبة للإجراءات'}, 'input_channel': 'rest', 'message_id': '3c425c27c2f3466dbc9e4051785bd96e', 'metadata': {}}, {'event': 'action', 'timestamp': 1585498002.6608896, 'name': 'utter_Qa2', 'policy': 'policy_0_MappingPolicy', 'confidence': 1}, {'event': 'bot', 'timestamp': 1585498002.6608977, 'text': ' أكثر الأعراض شيوعاً ما يلي الحمّى والسعال الكحة وصعوبة التنفس.', 'data': {'elements': None, 'quick_replies': None, 'buttons': None, 'attachment': None, 'image': None, 'custom': None}, 'metadata': {}}, {'event': 'action', 'timestamp': 1585498002.667064, 'name': 'action_listen', 'policy': 'policy_0_MappingPolicy', 'confidence': 1}, {'event': 'user', 'timestamp': 1585498032.4746952, 'text': 'إجراءات الحجر نقصد', 'parse_data': {'intent': {'name': 'Qa34', 'confidence': 0.44694072008132935}, 'entities': [], 'intent_ranking': [{'name': 'Qa34', 'confidence': 0.44694072008132935}, {'name': 'Qa35', 'confidence': 0.4003841280937195}, {'name': 'Qa55', 'confidence': 0.016605781391263008}, {'name': 'Qa48', 'confidence': 0.013653540052473545}, {'name': 'QC23', 'confidence': 0.01261186320334673}, {'name': 'Qa9', 'confidence': 0.009813088923692703}, {'name': 'Qa7', 'confidence': 0.008210845291614532}, {'name': 'Qa45', 'confidence': 0.0081830695271492}, {'name': 'QC3', 'confidence': 0.0069946665316820145}, {'name': 'QC24', 'confidence': 0.004806078039109707}], 'text': 'إجراءات الحجر نقصد'}, 'input_channel': 'rest', 'message_id': '0c67a8d38ea34a7fb89c04e4c29bb0d0', 'metadata': {}}, {'event': 'action', 'timestamp': 1585498032.4842002, 'name': 'utter_Qa34', 'policy': 'policy_0_MappingPolicy', 'confidence': 1}, {'event': 'bot', 'timestamp': 1585498032.484211, 'text': ' حسب منظمة الصحة العالمية، يعرف الحجر الصحي على أنه تقييد لأنشطة الأشخاص غير المرضى، ولكن الذين يرجح أنهم تعرضوا لعامل مُمرض أو لمرض.  أو عزلهم عن الآخرين بهدف رصد الأعراض واكتشاف الأعراض مبكرا. \\n\\nتكون فترة الحجر الصحي الذاتي 14 يوما.\\n\\nيُطلب من الأشخاص الخاضعين للحجر الصحّي الذاتي البقاء في الغرفة أو أي مكان آخر منفرد للحدّ من انتشار المرض للآخرين. \\n\\nيمكنك الحصول على المزيد من المعلومات من خلال الضغط على هذا الرابط \\n\\n covid-19.tn/blog/الحجر-الصحي-الذاتي/ ', 'data': {'elements': None, 'quick_replies': None, 'buttons': None, 'attachment': None, 'image': None, 'custom': None}, 'metadata': {}}, {'event': 'action', 'timestamp': 1585498032.491974, 'name': 'action_listen', 'policy': 'policy_0_MappingPolicy', 'confidence': 1}, {'event': 'user', 'timestamp': 1585498054.5796278, 'text': 'شنوة اخر', 'parse_data': {'intent': {'name': 'QC30', 'confidence': 0.19455792009830475}, 'entities': [], 'intent_ranking': [{'name': 'QC30', 'confidence': 0.19455792009830475}, {'name': 'Qa2', 'confidence': 0.17682597041130066}, {'name': 'QC19', 'confidence': 0.08895184099674225}, {'name': 'Qa1', 'confidence': 0.08339152485132217}, {'name': 'QC6', 'confidence': 0.07783076912164688}, {'name': 'QC5', 'confidence': 0.043687593191862106}, {'name': 'QB60', 'confidence': 0.04099520295858383}, {'name': 'Qa7', 'confidence': 0.03649768978357315}, {'name': 'Qa29', 'confidence': 0.03331412002444267}, {'name': 'QC25', 'confidence': 0.025197843089699745}], 'text': 'شنوة اخر'}, 'input_channel': 'rest', 'message_id': 'fec172e054594e03a1960ca00c3fe30c', 'metadata': {}}, {'event': 'action', 'timestamp': 1585498054.6037176, 'name': 'action_default_fallback', 'policy': 'policy_2_FallbackPolicy', 'confidence': 1.0}, {'event': 'bot', 'timestamp': 1585498054.6037295, 'text': 'merci de reformuler plus clairement votre question', 'data': {'elements': None, 'quick_replies': None, 'buttons': None, 'attachment': None, 'image': None, 'custom': None}, 'metadata': {}}, {'event': 'action', 'timestamp': 1585498054.6155953, 'name': 'action_listen', 'policy': 'policy_2_FallbackPolicy', 'confidence': 1.0}, {'event': 'user', 'timestamp': 1585498081.002688, 'text': 'Comment vous pouvez m’aider', 'parse_data': {'intent': {'name': 'QB15', 'confidence': 0.7227503061294556}, 'entities': [], 'intent_ranking': [{'name': 'QB15', 'confidence': 0.7227503061294556}, {'name': 'QB17', 'confidence': 0.21425996720790863}, {'name': 'QB2', 'confidence': 0.02411215379834175}, {'name': 'QB62', 'confidence': 0.003432667348533869}, {'name': 'Q0103', 'confidence': 0.0031557446345686913}, {'name': 'Q0418', 'confidence': 0.002535134321078658}, {'name': 'QB6', 'confidence': 0.00213986006565392}, {'name': 'QB9', 'confidence': 0.002110985340550542}, {'name': 'Q0107', 'confidence': 0.0018714944599196315}, {'name': 'QB42', 'confidence': 0.0018597209127619863}], 'text': 'Comment vous pouvez m’aider'}, 'input_channel': 'rest', 'message_id': 'd19dc24f7f2542919e2daac7c141c768', 'metadata': {}}, {'event': 'action', 'timestamp': 1585498081.00985, 'name': 'utter_QB15', 'policy': 'policy_0_MappingPolicy', 'confidence': 1}, {'event': 'bot', 'timestamp': 1585498081.009859, 'text': ' je suis 3ziza, je suis là pour répondre à vos questions à propos de la COVID 19.. ', 'data': {'elements': None, 'quick_replies': None, 'buttons': None, 'attachment': None, 'image': None, 'custom': None}, 'metadata': {}}, {'event': 'action', 'timestamp': 1585498081.017025, 'name': 'action_listen', 'policy': 'policy_0_MappingPolicy', 'confidence': 1}, {'event': 'user', 'timestamp': 1585498098.4115033, 'text': 'كفاش', 'parse_data': {'intent': {'name': 'QC6', 'confidence': 0.35536321997642517}, 'entities': [], 'intent_ranking': [{'name': 'QC6', 'confidence': 0.35536321997642517}, {'name': 'Qa7', 'confidence': 0.15025028586387634}, {'name': 'QC19', 'confidence': 0.08106237649917603}, {'name': 'QC2', 'confidence': 0.07975281774997711}, {'name': 'QC23', 'confidence': 0.06298855692148209}, {'name': 'QC20', 'confidence': 0.04333030804991722}, {'name': 'QC24', 'confidence': 0.03152395039796829}, {'name': 'QC18', 'confidence': 0.0281861312687397}, {'name': 'QC1', 'confidence': 0.018551690503954887}, {'name': 'QC30', 'confidence': 0.017318952828645706}], 'text': 'كفاش'}, 'input_channel': 'rest', 'message_id': '9a90cb212b0e4ecfb1320b098cb0eb80', 'metadata': {}}, {'event': 'action', 'timestamp': 1585498098.418533, 'name': 'utter_QC6', 'policy': 'policy_0_MappingPolicy', 'confidence': 1}, {'event': 'bot', 'timestamp': 1585498098.4185407, 'text': ' بالطبيعة تفضل اسأل ', 'data': {'elements': None, 'quick_replies': None, 'buttons': None, 'attachment': None, 'image': None, 'custom': None}, 'metadata': {}}, {'event': 'action', 'timestamp': 1585498098.425208, 'name': 'action_listen', 'policy': 'policy_0_MappingPolicy', 'confidence': 1}, {'event': 'user', 'timestamp': 1585498141.5431159, 'text': 'شنة التكنولوجيا المستعملة في عزيزة', 'parse_data': {'intent': {'name': 'Qa17', 'confidence': 0.48934462666511536}, 'entities': [], 'intent_ranking': [{'name': 'Qa17', 'confidence': 0.48934462666511536}, {'name': 'QC23', 'confidence': 0.2205321043729782}, {'name': 'Qa28', 'confidence': 0.0368938185274601}, {'name': 'QC21', 'confidence': 0.025175215676426888}, {'name': 'QC20', 'confidence': 0.02183026261627674}, {'name': 'QC6', 'confidence': 0.01862112618982792}, {'name': 'QC25', 'confidence': 0.016928279772400856}, {'name': 'Qa35', 'confidence': 0.014667106792330742}, {'name': 'Qa2', 'confidence': 0.0140824094414711}, {'name': 'QC3', 'confidence': 0.010189061984419823}], 'text': 'شنة التكنولوجيا المستعملة في عزيزة'}, 'input_channel': 'rest', 'message_id': 'a04bc48802ae43b6b90987d90b18e66a', 'metadata': {}}, {'event': 'action', 'timestamp': 1585498141.551209, 'name': 'utter_Qa17', 'policy': 'policy_0_MappingPolicy', 'confidence': 1}, {'event': 'bot', 'timestamp': 1585498141.551219, 'text': ' مصطلح « فترة الحضانة » يشير إلى المدة من الإصابة بالفيروس إلى بدء ظهور أعراض المرض. وتتراوح معظم تقديرات فترة حضانة مرض كوفيد-19 ما بين يوم واحد و14 يوماً، وعادة ما تستمر خمسة أيام. وستُحدّث هذه التقديرات كلما توفر المزيد من البيانات.', 'data': {'elements': None, 'quick_replies': None, 'buttons': None, 'attachment': None, 'image': None, 'custom': None}, 'metadata': {}}, {'event': 'action', 'timestamp': 1585498141.5583625, 'name': 'action_listen', 'policy': 'policy_0_MappingPolicy', 'confidence': 1}], 'followup_action': None, 'latest_action_name': 'action_listen', 'latest_event_time': 1585498141.5583625, 'latest_input_channel': 'rest', 'latest_message': {'intent': {'name': 'Qa17', 'confidence': 0.48934462666511536}, 'entities': [], 'intent_ranking': [{'name': 'Qa17', 'confidence': 0.48934462666511536}, {'name': 'QC23', 'confidence': 0.2205321043729782}, {'name': 'Qa28', 'confidence': 0.0368938185274601}, {'name': 'QC21', 'confidence': 0.025175215676426888}, {'name': 'QC20', 'confidence': 0.02183026261627674}, {'name': 'QC6', 'confidence': 0.01862112618982792}, {'name': 'QC25', 'confidence': 0.016928279772400856}, {'name': 'Qa35', 'confidence': 0.014667106792330742}, {'name': 'Qa2', 'confidence': 0.0140824094414711}, {'name': 'QC3', 'confidence': 0.010189061984419823}], 'text': 'شنة التكنولوجيا المستعملة في عزيزة'}, 'paused': False, 'slots': {}}\n",
            "cle:  {'_id': '5e80c86330008e93224f1e13', 'sender_id': 'GA1.2.698228701.1585497871', 'active_form': {}, 'events': [{'event': 'action', 'timestamp': 1585498211.1002839, 'name': 'action_session_start', 'policy': None, 'confidence': None}, {'event': 'session_started', 'timestamp': 1585498211.100295}, {'event': 'action', 'timestamp': 1585498211.1003194, 'name': 'action_listen', 'policy': None, 'confidence': None}, {'event': 'action', 'timestamp': 1585498211.1003194, 'name': 'action_listen', 'policy': None, 'confidence': None}, {'event': 'user', 'timestamp': 1585498211.1072438, 'text': '9adech mn 7ala ijabiya', 'parse_data': {'intent': {'name': 'Q0301', 'confidence': 0.9792022109031677}, 'entities': [], 'intent_ranking': [{'name': 'Q0301', 'confidence': 0.9792022109031677}, {'name': 'Q0701', 'confidence': 0.0020103901624679565}, {'name': 'Q0605', 'confidence': 0.001848225831054151}, {'name': 'QB11', 'confidence': 0.0012116535799577832}, {'name': 'Qa4', 'confidence': 0.0011706238146871328}, {'name': 'Q1001', 'confidence': 0.0008381236693821847}, {'name': 'Qa24', 'confidence': 0.0006914576515555382}, {'name': 'Q0408', 'confidence': 0.0006785998702980578}, {'name': 'QB19', 'confidence': 0.0006466913619078696}, {'name': 'Q0502', 'confidence': 0.0006072158575989306}], 'text': '9adech mn 7ala ijabiya'}, 'input_channel': 'rest', 'message_id': '7e1d17181f954e61aade186868e7c3f7', 'metadata': {}}, {'event': 'action', 'timestamp': 1585498211.1150002, 'name': 'utter_Q0301', 'policy': 'policy_0_MappingPolicy', 'confidence': 1}, {'event': 'bot', 'timestamp': 1585498211.1150103, 'text': ' Veillez consulter cette page pour les chiffres officiels covid-19.tn/fr/tableau-de-bord ', 'data': {'elements': None, 'quick_replies': None, 'buttons': None, 'attachment': None, 'image': None, 'custom': None}, 'metadata': {}}, {'event': 'action', 'timestamp': 1585498211.1218061, 'name': 'action_listen', 'policy': 'policy_0_MappingPolicy', 'confidence': 1}, {'event': 'user', 'timestamp': 1585498211.941792, 'text': 'Lyom', 'parse_data': {'intent': {'name': 'QB58', 'confidence': 0.16270843148231506}, 'entities': [], 'intent_ranking': [{'name': 'QB58', 'confidence': 0.16270843148231506}, {'name': 'QB10', 'confidence': 0.15431863069534302}, {'name': 'QB70', 'confidence': 0.146612748503685}, {'name': 'QB35', 'confidence': 0.07664399594068527}, {'name': 'QB68', 'confidence': 0.07609818875789642}, {'name': 'QB9', 'confidence': 0.06807204335927963}, {'name': 'Q0301', 'confidence': 0.06712177395820618}, {'name': 'QB1', 'confidence': 0.06434841454029083}, {'name': 'QB6', 'confidence': 0.027832956984639168}, {'name': 'QB15', 'confidence': 0.02742471732199192}], 'text': 'Lyom'}, 'input_channel': 'rest', 'message_id': '46dd61e84be34109a921d7ea628b8300', 'metadata': {}}, {'event': 'action', 'timestamp': 1585498211.9650886, 'name': 'action_default_fallback', 'policy': 'policy_2_FallbackPolicy', 'confidence': 1.0}, {'event': 'bot', 'timestamp': 1585498211.9650998, 'text': 'merci de reformuler plus clairement votre question', 'data': {'elements': None, 'quick_replies': None, 'buttons': None, 'attachment': None, 'image': None, 'custom': None}, 'metadata': {}}, {'event': 'action', 'timestamp': 1585498211.9730566, 'name': 'action_listen', 'policy': 'policy_2_FallbackPolicy', 'confidence': 1.0}], 'followup_action': None, 'latest_action_name': 'action_listen', 'latest_event_time': 1585498211.9730566, 'latest_input_channel': 'rest', 'latest_message': {'intent': {'name': 'QB58', 'confidence': 0.16270843148231506}, 'entities': [], 'intent_ranking': [{'name': 'QB58', 'confidence': 0.16270843148231506}, {'name': 'QB10', 'confidence': 0.15431863069534302}, {'name': 'QB70', 'confidence': 0.146612748503685}, {'name': 'QB35', 'confidence': 0.07664399594068527}, {'name': 'QB68', 'confidence': 0.07609818875789642}, {'name': 'QB9', 'confidence': 0.06807204335927963}, {'name': 'Q0301', 'confidence': 0.06712177395820618}, {'name': 'QB1', 'confidence': 0.06434841454029083}, {'name': 'QB6', 'confidence': 0.027832956984639168}, {'name': 'QB15', 'confidence': 0.02742471732199192}], 'text': 'Lyom'}, 'paused': False, 'slots': {}}\n",
            "cle:  {'_id': '5e80c8b930008e93224f1e27', 'sender_id': 'GA1.2.305029970.1585498051', 'active_form': {}, 'events': [{'event': 'action', 'timestamp': 1585498297.2270334, 'name': 'action_session_start', 'policy': None, 'confidence': None}, {'event': 'session_started', 'timestamp': 1585498297.2270432}, {'event': 'action', 'timestamp': 1585498297.2270632, 'name': 'action_listen', 'policy': None, 'confidence': None}, {'event': 'action', 'timestamp': 1585498297.2270632, 'name': 'action_listen', 'policy': None, 'confidence': None}, {'event': 'user', 'timestamp': 1585498297.2342212, 'text': '9adech men we7ed lyoum', 'parse_data': {'intent': {'name': 'Q0301', 'confidence': 0.9777463674545288}, 'entities': [], 'intent_ranking': [{'name': 'Q0301', 'confidence': 0.9777463674545288}, {'name': 'Q0701', 'confidence': 0.002146822400391102}, {'name': 'Q0605', 'confidence': 0.0014984554145485163}, {'name': 'Qa4', 'confidence': 0.0013609154848381877}, {'name': 'Q1001', 'confidence': 0.0011033297050744295}, {'name': 'Qa5', 'confidence': 0.001064966432750225}, {'name': 'QB70', 'confidence': 0.0009535227436572313}, {'name': 'Q1401', 'confidence': 0.0008022677502594888}, {'name': 'Q0502', 'confidence': 0.0007696006796322763}, {'name': 'QB6', 'confidence': 0.0007565781124867499}], 'text': '9adech men we7ed lyoum'}, 'input_channel': 'rest', 'message_id': '3a0027e27b2544da8d0996fe45442936', 'metadata': {}}, {'event': 'action', 'timestamp': 1585498297.2422771, 'name': 'utter_Q0301', 'policy': 'policy_0_MappingPolicy', 'confidence': 1}, {'event': 'bot', 'timestamp': 1585498297.2422867, 'text': ' Veillez consulter cette page pour les chiffres officiels covid-19.tn/fr/tableau-de-bord ', 'data': {'elements': None, 'quick_replies': None, 'buttons': None, 'attachment': None, 'image': None, 'custom': None}, 'metadata': {}}, {'event': 'action', 'timestamp': 1585498297.2490208, 'name': 'action_listen', 'policy': 'policy_0_MappingPolicy', 'confidence': 1}], 'followup_action': None, 'latest_action_name': 'action_listen', 'latest_event_time': 1585498297.2490208, 'latest_input_channel': 'rest', 'latest_message': {'intent': {'name': 'Q0301', 'confidence': 0.9777463674545288}, 'entities': [], 'intent_ranking': [{'name': 'Q0301', 'confidence': 0.9777463674545288}, {'name': 'Q0701', 'confidence': 0.002146822400391102}, {'name': 'Q0605', 'confidence': 0.0014984554145485163}, {'name': 'Qa4', 'confidence': 0.0013609154848381877}, {'name': 'Q1001', 'confidence': 0.0011033297050744295}, {'name': 'Qa5', 'confidence': 0.001064966432750225}, {'name': 'QB70', 'confidence': 0.0009535227436572313}, {'name': 'Q1401', 'confidence': 0.0008022677502594888}, {'name': 'Q0502', 'confidence': 0.0007696006796322763}, {'name': 'QB6', 'confidence': 0.0007565781124867499}], 'text': '9adech men we7ed lyoum'}, 'paused': False, 'slots': {}}\n",
            "cle:  {'_id': '5e80c8e530008e93224f1e37', 'sender_id': 'GA1.2.1936486283.1585498202', 'active_form': {}, 'events': [{'event': 'action', 'timestamp': 1585498341.2674868, 'name': 'action_session_start', 'policy': None, 'confidence': None}, {'event': 'session_started', 'timestamp': 1585498341.267497}, {'event': 'action', 'timestamp': 1585498341.2675202, 'name': 'action_listen', 'policy': None, 'confidence': None}, {'event': 'action', 'timestamp': 1585498341.2675202, 'name': 'action_listen', 'policy': None, 'confidence': None}, {'event': 'user', 'timestamp': 1585498341.274095, 'text': 'Salem', 'parse_data': {'intent': {'name': 'QB1', 'confidence': 0.965502142906189}, 'entities': [], 'intent_ranking': [{'name': 'QB1', 'confidence': 0.965502142906189}, {'name': 'QB53', 'confidence': 0.0030598484445363283}, {'name': 'QC14', 'confidence': 0.002856611041352153}, {'name': 'QB35', 'confidence': 0.002748883329331875}, {'name': 'QB57', 'confidence': 0.0024279572535306215}, {'name': 'Q1401', 'confidence': 0.002090519294142723}, {'name': 'QB58', 'confidence': 0.001985260285437107}, {'name': 'QB69', 'confidence': 0.0016502669313922524}, {'name': 'Qa34', 'confidence': 0.001487709116190672}, {'name': 'QB72', 'confidence': 0.0012498660944402218}], 'text': 'Salem'}, 'input_channel': 'rest', 'message_id': '1f1cf59ba48b483d93f5eb0be9086ac4', 'metadata': {}}, {'event': 'action', 'timestamp': 1585498341.281722, 'name': 'utter_QB1', 'policy': 'policy_0_MappingPolicy', 'confidence': 1}, {'event': 'bot', 'timestamp': 1585498341.281732, 'text': ' 3aslema, Mar7be ', 'data': {'elements': None, 'quick_replies': None, 'buttons': None, 'attachment': None, 'image': None, 'custom': None}, 'metadata': {}}, {'event': 'action', 'timestamp': 1585498341.2894027, 'name': 'action_listen', 'policy': 'policy_0_MappingPolicy', 'confidence': 1}, {'event': 'user', 'timestamp': 1585498349.074486, 'text': 'Ena kamelt l periode de confinement mte3i', 'parse_data': {'intent': {'name': 'Q1302', 'confidence': 0.22730962932109833}, 'entities': [], 'intent_ranking': [{'name': 'Q1302', 'confidence': 0.22730962932109833}, {'name': 'Q0703', 'confidence': 0.11703776568174362}, {'name': 'Q0701', 'confidence': 0.06971396505832672}, {'name': 'Qa20', 'confidence': 0.06667008250951767}, {'name': 'Q1301', 'confidence': 0.06131536141037941}, {'name': 'Q0702', 'confidence': 0.05767218396067619}, {'name': 'Qa47', 'confidence': 0.05081496387720108}, {'name': 'Qa49', 'confidence': 0.03956850618124008}, {'name': 'Q0803', 'confidence': 0.03209175169467926}, {'name': 'QB50', 'confidence': 0.023949531838297844}], 'text': 'Ena kamelt l periode de confinement mte3i'}, 'input_channel': 'rest', 'message_id': 'fa1c284bd87f4ff6b3c5ffe775435571', 'metadata': {}}, {'event': 'action', 'timestamp': 1585498349.0997703, 'name': 'action_default_fallback', 'policy': 'policy_2_FallbackPolicy', 'confidence': 1.0}, {'event': 'bot', 'timestamp': 1585498349.0997825, 'text': 'merci de reformuler plus clairement votre question', 'data': {'elements': None, 'quick_replies': None, 'buttons': None, 'attachment': None, 'image': None, 'custom': None}, 'metadata': {}}, {'event': 'action', 'timestamp': 1585498349.1075761, 'name': 'action_listen', 'policy': 'policy_2_FallbackPolicy', 'confidence': 1.0}, {'event': 'user', 'timestamp': 1585498377.2863064, 'text': \"Je viens de finir ma periode de confinement .. à qui je dois m'adresser\", 'parse_data': {'intent': {'name': 'Q0701', 'confidence': 0.5699939727783203}, 'entities': [], 'intent_ranking': [{'name': 'Q0701', 'confidence': 0.5699939727783203}, {'name': 'Q1302', 'confidence': 0.051984064280986786}, {'name': 'Q1305', 'confidence': 0.05123017728328705}, {'name': 'Q0605', 'confidence': 0.04825567454099655}, {'name': 'Qa49', 'confidence': 0.043754518032073975}, {'name': 'Q1301', 'confidence': 0.03272833302617073}, {'name': 'Q1001', 'confidence': 0.02130022458732128}, {'name': 'Q1402', 'confidence': 0.01592293009161949}, {'name': 'Q0702', 'confidence': 0.015372014604508877}, {'name': 'QB19', 'confidence': 0.013051957823336124}], 'text': \"Je viens de finir ma periode de confinement .. à qui je dois m'adresser\"}, 'input_channel': 'rest', 'message_id': '2e3c58eb2b81472eacd5294a9f7891a6', 'metadata': {}}, {'event': 'action', 'timestamp': 1585498377.2938206, 'name': 'utter_Q0701', 'policy': 'policy_0_MappingPolicy', 'confidence': 1}, {'event': 'bot', 'timestamp': 1585498377.2938304, 'text': ' Selon l’Organisation mondiale de la Santé, la quarantaine est définie comme une restriction des activités des non-patients, mais de ceux qui sont susceptibles d’avoir été exposés à une pathologie ou à une maladie. Ou les isoler des autres afin de surveiller les symptômes et de les détecter rapidement.\\n\\nLa période d’auto-quarantaine est de 14 jours.\\n\\nLes personnes faisant l’objet d’une mise en quarantaine sont tenues de demeurer dans la chambre ou dans tout autre endroit unique pour limiter la propagation de la maladie à d’autres personnes.\\n\\nPour plus de renseignement à ce sujet, Veuillez consulter la page\\n\\ncovid-19.tn/fr/blog/auto-quarantaine/ ', 'data': {'elements': None, 'quick_replies': None, 'buttons': None, 'attachment': None, 'image': None, 'custom': None}, 'metadata': {}}, {'event': 'action', 'timestamp': 1585498377.3011303, 'name': 'action_listen', 'policy': 'policy_0_MappingPolicy', 'confidence': 1}], 'followup_action': None, 'latest_action_name': 'action_listen', 'latest_event_time': 1585498377.3011303, 'latest_input_channel': 'rest', 'latest_message': {'intent': {'name': 'Q0701', 'confidence': 0.5699939727783203}, 'entities': [], 'intent_ranking': [{'name': 'Q0701', 'confidence': 0.5699939727783203}, {'name': 'Q1302', 'confidence': 0.051984064280986786}, {'name': 'Q1305', 'confidence': 0.05123017728328705}, {'name': 'Q0605', 'confidence': 0.04825567454099655}, {'name': 'Qa49', 'confidence': 0.043754518032073975}, {'name': 'Q1301', 'confidence': 0.03272833302617073}, {'name': 'Q1001', 'confidence': 0.02130022458732128}, {'name': 'Q1402', 'confidence': 0.01592293009161949}, {'name': 'Q0702', 'confidence': 0.015372014604508877}, {'name': 'QB19', 'confidence': 0.013051957823336124}], 'text': \"Je viens de finir ma periode de confinement .. à qui je dois m'adresser\"}, 'paused': False, 'slots': {}}\n",
            "cle:  "
          ],
          "name": "stdout"
        },
        {
          "output_type": "stream",
          "text": [
            "IOPub data rate exceeded.\n",
            "The notebook server will temporarily stop sending output\n",
            "to the client in order to avoid crashing it.\n",
            "To change this limit, set the config variable\n",
            "`--NotebookApp.iopub_data_rate_limit`.\n",
            "\n",
            "Current values:\n",
            "NotebookApp.iopub_data_rate_limit=1000000.0 (bytes/sec)\n",
            "NotebookApp.rate_limit_window=3.0 (secs)\n",
            "\n"
          ],
          "name": "stderr"
        }
      ]
    },
    {
      "cell_type": "markdown",
      "metadata": {
        "id": "BQRfAlPCfg3Z"
      },
      "source": [
        "##**Modeling**"
      ]
    },
    {
      "cell_type": "markdown",
      "metadata": {
        "id": "AN6O81AYnv_n"
      },
      "source": [
        "**Nombre de conversation** \n",
        "\n"
      ]
    },
    {
      "cell_type": "code",
      "metadata": {
        "id": "INxwLWZgVo9-"
      },
      "source": [
        " # le but de fonction \"Nombre_discussion() \" est de calculer le nombre de conversations dans le fichier \n",
        " def Nombre_discussion():\n",
        "  nbr_utilisateur=0\n",
        "  l=[]\n",
        "  for cle in data:\n",
        "    l.append(cle[\"_id\"])\n",
        "  return len(set(l)) "
      ],
      "execution_count": 67,
      "outputs": []
    },
    {
      "cell_type": "code",
      "metadata": {
        "colab": {
          "base_uri": "https://localhost:8080/"
        },
        "id": "AGltrf0GmReb",
        "outputId": "c386a50c-3ddb-42e0-dc0f-7c78c9d1e517"
      },
      "source": [
        "print(\"Le nombre d'utilisateur de notre ChatBot est : \" , Nombre_discussion())"
      ],
      "execution_count": 68,
      "outputs": [
        {
          "output_type": "stream",
          "text": [
            "Le nombre d'utilisateur de notre ChatBot est :  50\n",
            "Le nombre d'utilisateur de notre ChatBot est :  50\n"
          ],
          "name": "stdout"
        }
      ]
    },
    {
      "cell_type": "markdown",
      "metadata": {
        "id": "CNwh-D9IIExc"
      },
      "source": [
        "### **KPI 1: Nombre utilisateurs**"
      ]
    },
    {
      "cell_type": "code",
      "metadata": {
        "id": "65GPBwpDrWgv"
      },
      "source": [
        " # le but de la fonction \" Nombre_utilisateurs()  \" est de calculer le nombre de personnes qui interagissent avec le chatbot\n",
        " def Nombre_utilisateurs():\n",
        "  nbr_utilisateur=0\n",
        "  l=[]\n",
        "  for cle in data:\n",
        "    l.append(cle[ \"sender_id\"])\n",
        "  return len(set(l)) "
      ],
      "execution_count": 69,
      "outputs": []
    },
    {
      "cell_type": "code",
      "metadata": {
        "colab": {
          "base_uri": "https://localhost:8080/"
        },
        "id": "BJGYQPYloaPV",
        "outputId": "8c11da63-6414-4457-b674-bcf3037bc756"
      },
      "source": [
        "print(\"Le nombre d'utilisateur de notre ChatBot est :\" ,  Nombre_utilisateurs())"
      ],
      "execution_count": 70,
      "outputs": [
        {
          "output_type": "stream",
          "text": [
            "Le nombre d'utilisateur de notre ChatBot est : 50\n",
            "Le nombre d'utilisateur de notre ChatBot est : 50\n"
          ],
          "name": "stdout"
        }
      ]
    },
    {
      "cell_type": "markdown",
      "metadata": {
        "id": "WdT4JS-ELQjq"
      },
      "source": [
        "### **KPI 2 : Taux Interaction user-bot** "
      ]
    },
    {
      "cell_type": "code",
      "metadata": {
        "id": "iCLHH_kkMW2D"
      },
      "source": [
        "def Taux_Interaction_user_bot():\n",
        "    l=[]\n",
        "    longeur_liste=[]\n",
        "    taux_bot=0\n",
        "    for cle in data :\n",
        "        l.append(cle[\"events\"])\n",
        "\n",
        "    for i in range(len(l)):\n",
        "        longeur_liste.append(len(l[i]))\n",
        "    k=[]\n",
        "    liste=[]\n",
        "    for i in range(50):\n",
        "            k.append(l[i])\n",
        "    for i in range(50):\n",
        "        for j in range(longeur_liste[i]):\n",
        "            liste.append(k[i][j])\n",
        "    for i in range(len(liste)):\n",
        "          if  \"bot\" in liste[i].values():\n",
        "              taux_bot=taux_bot+1\n",
        "    taux_user=0\n",
        "    for i in range(len(liste)):\n",
        "          if  \"user\" in liste[i].values():\n",
        "              taux_user=taux_bot+1\n",
        "    return taux_user , taux_bot\n"
      ],
      "execution_count": 71,
      "outputs": []
    },
    {
      "cell_type": "code",
      "metadata": {
        "id": "w8UdVJCNqCZD",
        "colab": {
          "base_uri": "https://localhost:8080/"
        },
        "outputId": "7412dde1-a0fa-44b5-d485-0d6c0da0e5f1"
      },
      "source": [
        "    print(\"Le nombre totle des message envoyer par l'utilsateur au ChatBot est :  \" , Taux_Interaction_user_bot()[0])"
      ],
      "execution_count": 72,
      "outputs": [
        {
          "output_type": "stream",
          "text": [
            "Le nombre totle des message envoyer par l'utilsateur au ChatBot est :   8697\n",
            "Le nombre totle des message envoyer par l'utilsateur au ChatBot est :   8697\n"
          ],
          "name": "stdout"
        }
      ]
    },
    {
      "cell_type": "code",
      "metadata": {
        "colab": {
          "base_uri": "https://localhost:8080/"
        },
        "id": "6CRfGnct1wDd",
        "outputId": "d2291d1a-0ebd-44bc-fe55-861fae5b86e3"
      },
      "source": [
        "    print(\"Le nombre totle des reponse  envoyer par le  ChatBot au  l'utilsateur au est :  \" , Taux_Interaction_user_bot()[1])"
      ],
      "execution_count": 73,
      "outputs": [
        {
          "output_type": "stream",
          "text": [
            "Le nombre totle des reponse  envoyer par le  ChatBot au  l'utilsateur au est :   8696\n",
            "Le nombre totle des reponse  envoyer par le  ChatBot au  l'utilsateur au est :   8696\n"
          ],
          "name": "stdout"
        }
      ]
    },
    {
      "cell_type": "code",
      "metadata": {
        "colab": {
          "base_uri": "https://localhost:8080/"
        },
        "id": "jkJP96Qy1U8k",
        "outputId": "7a8af9e8-a2b6-4800-97c3-b02b75889166"
      },
      "source": [
        "print(\"Moyen des message envoyer par l'utilsateur dans un conversation : \" , int(Taux_Interaction_user_bot()[1]/Nombre_discussion()))"
      ],
      "execution_count": 74,
      "outputs": [
        {
          "output_type": "stream",
          "text": [
            "Moyen des message envoyer par l'utilsateur dans un conversation :  173\n",
            "Moyen des message envoyer par l'utilsateur dans un conversation :  173\n"
          ],
          "name": "stdout"
        }
      ]
    },
    {
      "cell_type": "markdown",
      "metadata": {
        "id": "iePtVMP5qpxO"
      },
      "source": [
        "### **KPI 3 :Taux de repli ou  taux d'erreur**\n"
      ]
    },
    {
      "cell_type": "code",
      "metadata": {
        "id": "wsI-gud4qqD5",
        "colab": {
          "base_uri": "https://localhost:8080/"
        },
        "outputId": "612d813e-8edf-41ca-e119-c8533e4a156b"
      },
      "source": [
        "# le but de la fonction \" Taux_de_repli()  \" est de calculer la pourcentage l'eurreur e ChatBot\n",
        "def Taux_de_repli():\n",
        "    l=[]\n",
        "    longeur_liste=[]\n",
        "    taux_repli=0\n",
        "    for cle in data :\n",
        "      l.append(cle[\"events\"])\n",
        "    for i in range(len(l)):\n",
        "      longeur_liste.append(len(l[i]))\n",
        "    taux_repli=0\n",
        "    k=[]\n",
        "    liste=[]\n",
        "    for i in range(50):\n",
        "      k.append(l[i])\n",
        "    print(k)\n",
        "    for i in range(50):\n",
        "      for j in range(longeur_liste[i]):\n",
        "        liste.append(k[i][j])\n",
        "    for i in range(len(liste)):\n",
        "        if  \"action_default_fallback\" in liste[i].values():\n",
        "            taux_repli=taux_repli+1\n",
        "    taux_repli=(taux_repli/Taux_Interaction_user_bot()[0])*100\n",
        "    return int(taux_repli)\n",
        "Taux_de_repli()"
      ],
      "execution_count": 75,
      "outputs": [
        {
          "output_type": "stream",
          "text": [
            "IOPub data rate exceeded.\n",
            "The notebook server will temporarily stop sending output\n",
            "to the client in order to avoid crashing it.\n",
            "To change this limit, set the config variable\n",
            "`--NotebookApp.iopub_data_rate_limit`.\n",
            "\n",
            "Current values:\n",
            "NotebookApp.iopub_data_rate_limit=1000000.0 (bytes/sec)\n",
            "NotebookApp.rate_limit_window=3.0 (secs)\n",
            "\n"
          ],
          "name": "stderr"
        },
        {
          "output_type": "execute_result",
          "data": {
            "text/plain": [
              "14"
            ]
          },
          "metadata": {
            "tags": []
          },
          "execution_count": 49
        },
        {
          "output_type": "stream",
          "text": [
            "IOPub data rate exceeded.\n",
            "The notebook server will temporarily stop sending output\n",
            "to the client in order to avoid crashing it.\n",
            "To change this limit, set the config variable\n",
            "`--NotebookApp.iopub_data_rate_limit`.\n",
            "\n",
            "Current values:\n",
            "NotebookApp.iopub_data_rate_limit=1000000.0 (bytes/sec)\n",
            "NotebookApp.rate_limit_window=3.0 (secs)\n",
            "\n"
          ],
          "name": "stderr"
        },
        {
          "output_type": "execute_result",
          "data": {
            "text/plain": [
              "14"
            ]
          },
          "metadata": {
            "tags": []
          },
          "execution_count": 75
        }
      ]
    },
    {
      "cell_type": "code",
      "metadata": {
        "colab": {
          "base_uri": "https://localhost:8080/"
        },
        "id": "g_wCZcvg5XLk",
        "outputId": "53583305-8433-4979-ab3f-1369a6c76cd1"
      },
      "source": [
        "print(\"la pourcentage des reponse dont le chatBot a mal repondu est : \" , int(Taux_de_repli()) , \"%\")"
      ],
      "execution_count": 76,
      "outputs": [
        {
          "output_type": "stream",
          "text": [
            "IOPub data rate exceeded.\n",
            "The notebook server will temporarily stop sending output\n",
            "to the client in order to avoid crashing it.\n",
            "To change this limit, set the config variable\n",
            "`--NotebookApp.iopub_data_rate_limit`.\n",
            "\n",
            "Current values:\n",
            "NotebookApp.iopub_data_rate_limit=1000000.0 (bytes/sec)\n",
            "NotebookApp.rate_limit_window=3.0 (secs)\n",
            "\n",
            "IOPub data rate exceeded.\n",
            "The notebook server will temporarily stop sending output\n",
            "to the client in order to avoid crashing it.\n",
            "To change this limit, set the config variable\n",
            "`--NotebookApp.iopub_data_rate_limit`.\n",
            "\n",
            "Current values:\n",
            "NotebookApp.iopub_data_rate_limit=1000000.0 (bytes/sec)\n",
            "NotebookApp.rate_limit_window=3.0 (secs)\n",
            "\n"
          ],
          "name": "stderr"
        }
      ]
    },
    {
      "cell_type": "markdown",
      "metadata": {
        "id": "kJOjWctFX92i"
      },
      "source": [
        " ### **KPI 3 : TIME AVG** \n",
        "\n",
        "\n"
      ]
    },
    {
      "cell_type": "code",
      "metadata": {
        "id": "N2NyLMieMIJu"
      },
      "source": [
        "def Moyen_event_time():\n",
        "  l=[]\n",
        "  latest_event_time=[]\n",
        "  for cle in data : \n",
        "    latest_event_time.append(cle[\"latest_event_time\"])\n",
        "\n",
        "  start_event_time=[]\n",
        "  for cle in data :\n",
        "    l.append(cle[\"events\"])\n",
        "  for i in range(50) :\n",
        "    start_event_time.append(l[i][1][\"timestamp\"])\n",
        "\n",
        "  difference_event_time=[]\n",
        "  for k in range(len(latest_event_time)):\n",
        "    difference_event_time.append(latest_event_time[i] - start_event_time[i])\n",
        "  Moyen_event_time= sum(difference_event_time)/Nombre_discussion()\n",
        "  #min \n",
        "  \n",
        "  return Moyen_event_time/60\n"
      ],
      "execution_count": 77,
      "outputs": []
    },
    {
      "cell_type": "code",
      "metadata": {
        "colab": {
          "base_uri": "https://localhost:8080/"
        },
        "id": "tv214w5jp4aJ",
        "outputId": "070e6f89-c757-446f-c7b8-3b9c5b56c7d8"
      },
      "source": [
        "print(\"La duree moyenne de conversation entre l'utilisateur et le ChatBot est\" ,int( Moyen_event_time() ),\"minutes \" )"
      ],
      "execution_count": 78,
      "outputs": [
        {
          "output_type": "stream",
          "text": [
            "La duree moyenne de conversation entre l'utilisateur et le ChatBot est 14 minutes \n",
            "La duree moyenne de conversation entre l'utilisateur et le ChatBot est 14 minutes \n"
          ],
          "name": "stdout"
        }
      ]
    },
    {
      "cell_type": "markdown",
      "metadata": {
        "id": "nHqd3N2WI9lH"
      },
      "source": [
        "### **KPI 5 : Volume de Reponse de ChatBOT**\n"
      ]
    },
    {
      "cell_type": "code",
      "metadata": {
        "id": "9DlGmF1y2jer"
      },
      "source": [
        "def Volume_de_Reponse_de_ChatBot(): \n",
        "  \n",
        "  Pourcentage_de_Reponse_de_ChatBot = 100 - Taux_de_repli()\n",
        "  print(\"Pourcentage_de_Reponse_de_ChatBot \" , Pourcentage_de_Reponse_de_ChatBot , \"%\")\n",
        "  return Pourcentage_de_Reponse_de_ChatBot"
      ],
      "execution_count": 79,
      "outputs": []
    },
    {
      "cell_type": "code",
      "metadata": {
        "colab": {
          "base_uri": "https://localhost:8080/"
        },
        "id": "a2A4eIJD3FUf",
        "outputId": "a298c9c3-649e-47e1-e05b-7dd77ced5e3d"
      },
      "source": [
        " Volume_de_Reponse_de_ChatBot()"
      ],
      "execution_count": 80,
      "outputs": [
        {
          "output_type": "stream",
          "text": [
            "IOPub data rate exceeded.\n",
            "The notebook server will temporarily stop sending output\n",
            "to the client in order to avoid crashing it.\n",
            "To change this limit, set the config variable\n",
            "`--NotebookApp.iopub_data_rate_limit`.\n",
            "\n",
            "Current values:\n",
            "NotebookApp.iopub_data_rate_limit=1000000.0 (bytes/sec)\n",
            "NotebookApp.rate_limit_window=3.0 (secs)\n",
            "\n"
          ],
          "name": "stderr"
        },
        {
          "output_type": "execute_result",
          "data": {
            "text/plain": [
              "86"
            ]
          },
          "metadata": {
            "tags": []
          },
          "execution_count": 54
        },
        {
          "output_type": "stream",
          "text": [
            "IOPub data rate exceeded.\n",
            "The notebook server will temporarily stop sending output\n",
            "to the client in order to avoid crashing it.\n",
            "To change this limit, set the config variable\n",
            "`--NotebookApp.iopub_data_rate_limit`.\n",
            "\n",
            "Current values:\n",
            "NotebookApp.iopub_data_rate_limit=1000000.0 (bytes/sec)\n",
            "NotebookApp.rate_limit_window=3.0 (secs)\n",
            "\n"
          ],
          "name": "stderr"
        },
        {
          "output_type": "execute_result",
          "data": {
            "text/plain": [
              "86"
            ]
          },
          "metadata": {
            "tags": []
          },
          "execution_count": 80
        }
      ]
    },
    {
      "cell_type": "code",
      "metadata": {
        "colab": {
          "base_uri": "https://localhost:8080/"
        },
        "id": "s2gzO-Jq8LiZ",
        "outputId": "7a02f812-224c-415c-b00c-9cdbcd958753"
      },
      "source": [
        "print(\"Pourcentage_de_Reponse_de_ChatBot \" , Volume_de_Reponse_de_ChatBot() , \"%\")"
      ],
      "execution_count": 81,
      "outputs": [
        {
          "output_type": "stream",
          "text": [
            "IOPub data rate exceeded.\n",
            "The notebook server will temporarily stop sending output\n",
            "to the client in order to avoid crashing it.\n",
            "To change this limit, set the config variable\n",
            "`--NotebookApp.iopub_data_rate_limit`.\n",
            "\n",
            "Current values:\n",
            "NotebookApp.iopub_data_rate_limit=1000000.0 (bytes/sec)\n",
            "NotebookApp.rate_limit_window=3.0 (secs)\n",
            "\n",
            "IOPub data rate exceeded.\n",
            "The notebook server will temporarily stop sending output\n",
            "to the client in order to avoid crashing it.\n",
            "To change this limit, set the config variable\n",
            "`--NotebookApp.iopub_data_rate_limit`.\n",
            "\n",
            "Current values:\n",
            "NotebookApp.iopub_data_rate_limit=1000000.0 (bytes/sec)\n",
            "NotebookApp.rate_limit_window=3.0 (secs)\n",
            "\n"
          ],
          "name": "stderr"
        }
      ]
    },
    {
      "cell_type": "markdown",
      "metadata": {
        "id": "y6NDs2vqDAF4"
      },
      "source": [
        "#**summary**"
      ]
    },
    {
      "cell_type": "code",
      "metadata": {
        "colab": {
          "base_uri": "https://localhost:8080/"
        },
        "id": "nz6OhoAyC-qq",
        "outputId": "0d64a3ec-4b3a-4bc8-c780-b1cc9b909f7d"
      },
      "source": [
        "print(\"Le nombre d'utilisateur de notre ChatBot est :\" ,  Nombre_utilisateurs())"
      ],
      "execution_count": 82,
      "outputs": [
        {
          "output_type": "stream",
          "text": [
            "Le nombre d'utilisateur de notre ChatBot est : 50\n",
            "Le nombre d'utilisateur de notre ChatBot est : 50\n"
          ],
          "name": "stdout"
        }
      ]
    },
    {
      "cell_type": "code",
      "metadata": {
        "colab": {
          "base_uri": "https://localhost:8080/"
        },
        "id": "PynwLUN4DhCQ",
        "outputId": "ec84d777-4eb8-4f3e-b3b7-f209c0d38168"
      },
      "source": [
        "print(\"Le nombre totle des message envoyer par l'utilsateur au ChatBot est :  \" , Taux_Interaction_user_bot()[0])\n",
        "print(\"Moyen des message envoyer par l'utilsateur dans un conversation : \" , int(Taux_Interaction_user_bot()[1]/Nombre_discussion()))"
      ],
      "execution_count": 83,
      "outputs": [
        {
          "output_type": "stream",
          "text": [
            "Le nombre totle des message envoyer par l'utilsateur au ChatBot est :   8697\n",
            "Moyen des message envoyer par l'utilsateur dans un conversation :  173\n",
            "Le nombre totle des message envoyer par l'utilsateur au ChatBot est :   8697\n",
            "Moyen des message envoyer par l'utilsateur dans un conversation :  173\n"
          ],
          "name": "stdout"
        }
      ]
    },
    {
      "cell_type": "code",
      "metadata": {
        "colab": {
          "base_uri": "https://localhost:8080/"
        },
        "id": "BOSF4senDhEY",
        "outputId": "21080850-6508-485e-bb35-53055aceeb81"
      },
      "source": [
        "print(\"la pourcentage des reponse dont le chatBot a mal repondu est : \" )\n",
        "int(Taux_de_repli())"
      ],
      "execution_count": 84,
      "outputs": [
        {
          "output_type": "stream",
          "text": [
            "la pourcentage des reponse dont le chatBot a mal repondu est : \n"
          ],
          "name": "stdout"
        },
        {
          "output_type": "stream",
          "text": [
            "IOPub data rate exceeded.\n",
            "The notebook server will temporarily stop sending output\n",
            "to the client in order to avoid crashing it.\n",
            "To change this limit, set the config variable\n",
            "`--NotebookApp.iopub_data_rate_limit`.\n",
            "\n",
            "Current values:\n",
            "NotebookApp.iopub_data_rate_limit=1000000.0 (bytes/sec)\n",
            "NotebookApp.rate_limit_window=3.0 (secs)\n",
            "\n"
          ],
          "name": "stderr"
        },
        {
          "output_type": "execute_result",
          "data": {
            "text/plain": [
              "14"
            ]
          },
          "metadata": {
            "tags": []
          },
          "execution_count": 58
        },
        {
          "output_type": "stream",
          "text": [
            "la pourcentage des reponse dont le chatBot a mal repondu est : \n"
          ],
          "name": "stdout"
        },
        {
          "output_type": "stream",
          "text": [
            "IOPub data rate exceeded.\n",
            "The notebook server will temporarily stop sending output\n",
            "to the client in order to avoid crashing it.\n",
            "To change this limit, set the config variable\n",
            "`--NotebookApp.iopub_data_rate_limit`.\n",
            "\n",
            "Current values:\n",
            "NotebookApp.iopub_data_rate_limit=1000000.0 (bytes/sec)\n",
            "NotebookApp.rate_limit_window=3.0 (secs)\n",
            "\n"
          ],
          "name": "stderr"
        },
        {
          "output_type": "execute_result",
          "data": {
            "text/plain": [
              "14"
            ]
          },
          "metadata": {
            "tags": []
          },
          "execution_count": 84
        }
      ]
    },
    {
      "cell_type": "code",
      "metadata": {
        "colab": {
          "base_uri": "https://localhost:8080/"
        },
        "id": "mcGnGqCQDhIk",
        "outputId": "7e7e0333-06bd-436e-a796-951c8fc981ac"
      },
      "source": [
        "print(\"La duree moyenne de conversation entre l'utilisateur et le ChatBot est\" ,int( Moyen_event_time() ),\"minutes \" )"
      ],
      "execution_count": 85,
      "outputs": [
        {
          "output_type": "stream",
          "text": [
            "La duree moyenne de conversation entre l'utilisateur et le ChatBot est 14 minutes \n",
            "La duree moyenne de conversation entre l'utilisateur et le ChatBot est 14 minutes \n"
          ],
          "name": "stdout"
        }
      ]
    },
    {
      "cell_type": "code",
      "metadata": {
        "colab": {
          "base_uri": "https://localhost:8080/"
        },
        "id": "CVDWbunwDsBB",
        "outputId": "0015e886-9aa7-4974-a0a1-1fc5980bd2f1"
      },
      "source": [
        "print(\"Pourcentage_de_Reponse_de_ChatBot \" , Volume_de_Reponse_de_ChatBot() , \"%\")\n",
        "Volume_de_Reponse_de_ChatBot()"
      ],
      "execution_count": 86,
      "outputs": [
        {
          "output_type": "stream",
          "text": [
            "IOPub data rate exceeded.\n",
            "The notebook server will temporarily stop sending output\n",
            "to the client in order to avoid crashing it.\n",
            "To change this limit, set the config variable\n",
            "`--NotebookApp.iopub_data_rate_limit`.\n",
            "\n",
            "Current values:\n",
            "NotebookApp.iopub_data_rate_limit=1000000.0 (bytes/sec)\n",
            "NotebookApp.rate_limit_window=3.0 (secs)\n",
            "\n"
          ],
          "name": "stderr"
        },
        {
          "output_type": "execute_result",
          "data": {
            "text/plain": [
              "86"
            ]
          },
          "metadata": {
            "tags": []
          },
          "execution_count": 60
        },
        {
          "output_type": "stream",
          "text": [
            "IOPub data rate exceeded.\n",
            "The notebook server will temporarily stop sending output\n",
            "to the client in order to avoid crashing it.\n",
            "To change this limit, set the config variable\n",
            "`--NotebookApp.iopub_data_rate_limit`.\n",
            "\n",
            "Current values:\n",
            "NotebookApp.iopub_data_rate_limit=1000000.0 (bytes/sec)\n",
            "NotebookApp.rate_limit_window=3.0 (secs)\n",
            "\n"
          ],
          "name": "stderr"
        },
        {
          "output_type": "stream",
          "text": [
            "Pourcentage_de_Reponse_de_ChatBot  86 %\n"
          ],
          "name": "stdout"
        },
        {
          "output_type": "execute_result",
          "data": {
            "text/plain": [
              "86"
            ]
          },
          "metadata": {
            "tags": []
          },
          "execution_count": 86
        }
      ]
    }
  ]
}