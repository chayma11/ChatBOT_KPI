{
  "nbformat": 4,
  "nbformat_minor": 0,
  "metadata": {
    "accelerator": "GPU",
    "colab": {
      "name": "kpi_five.ipynb",
      "provenance": [],
      "collapsed_sections": [],
      "authorship_tag": "ABX9TyMKeGXnm/Tl0WYHcmKW+weI",
      "include_colab_link": true
    },
    "kernelspec": {
      "display_name": "Python 3",
      "name": "python3"
    },
    "language_info": {
      "name": "python"
    }
  },
  "cells": [
    {
      "cell_type": "markdown",
      "metadata": {
        "id": "view-in-github",
        "colab_type": "text"
      },
      "source": [
        "<a href=\"https://colab.research.google.com/github/chayma11/ChatBOT_KPI/blob/main/kpi_five.ipynb\" target=\"_parent\"><img src=\"https://colab.research.google.com/assets/colab-badge.svg\" alt=\"Open In Colab\"/></a>"
      ]
    },
    {
      "cell_type": "markdown",
      "metadata": {
        "id": "4pzXq0B1f5kZ"
      },
      "source": [
        "##**PROJET: KPI  Quantitatif de ChatBot**"
      ]
    },
    {
      "cell_type": "markdown",
      "metadata": {
        "id": "TjfXqcqzgpc1"
      },
      "source": [
        "Realisé par :  Chayma BELGAIED"
      ]
    },
    {
      "cell_type": "markdown",
      "metadata": {
        "id": "NqIYs_2dgzaO"
      },
      "source": [
        "##**Business understanding:**"
      ]
    },
    {
      "cell_type": "markdown",
      "metadata": {
        "id": "lLpn7tzLg-Y9"
      },
      "source": [
        "Le but de cette partie  est mesurer les KPI's d'un ChatBOT \n",
        "Les KPI's sont : \n",
        "\n",
        "\n",
        "*   KPI 1 : Nombre utilisateurs\n",
        "*   KPI 2 :\n",
        "*   KPI 3 :\n",
        "*   KPI 4 :\n",
        "\n",
        "\n",
        "\n",
        "\n",
        "\n"
      ]
    },
    {
      "cell_type": "markdown",
      "metadata": {
        "id": "HADI7s5ah_ag"
      },
      "source": [
        "##**Data  preparation:**"
      ]
    },
    {
      "cell_type": "markdown",
      "metadata": {
        "id": "AGf9GIfhiv2C"
      },
      "source": [
        "**import our files**"
      ]
    },
    {
      "cell_type": "code",
      "metadata": {
        "colab": {
          "background_save": true
        },
        "id": "14WbMluwRk9x"
      },
      "source": [
        "import json\n",
        "import requests"
      ],
      "execution_count": null,
      "outputs": []
    },
    {
      "cell_type": "markdown",
      "metadata": {
        "id": "TmujWPtykkMu"
      },
      "source": [
        "**import our file**"
      ]
    },
    {
      "cell_type": "code",
      "metadata": {
        "id": "VksrgfhQfv1U"
      },
      "source": [
        "#import our file\n",
        "!wget https://www.dropbox.com/s/0mz6z6t4trlc3jt/3ziza%20-%20Copie.json"
      ],
      "execution_count": null,
      "outputs": []
    },
    {
      "cell_type": "code",
      "metadata": {
        "id": "a_Bysv_RQn4g"
      },
      "source": [
        "# faire des transformation sur le fichier original afin de le lire \n",
        "\"\"\"with open(\"3ziza.json\", \"r\") as f_in, open(\"3ziza - Copie.json\", \"w\") as f_out:\n",
        "    for line in f_in:\n",
        "        f_out.write(line.replace(\"ObjectId(\", \"\"))\n",
        "        f_out.write(line.replace(\"NumberInt(\", \"\"))\n",
        "        f_out.write(line.replace(\")\", \"\")) \"\"\""
      ],
      "execution_count": null,
      "outputs": []
    },
    {
      "cell_type": "markdown",
      "metadata": {
        "id": "D9Nt-e5TlBT-"
      },
      "source": [
        "**lecture**"
      ]
    },
    {
      "cell_type": "code",
      "metadata": {
        "id": "7_PFkjhvKd1z"
      },
      "source": [
        "#lecture\n",
        "with open (\"3ziza - Copie.json\",\"r\") as read_file:\n",
        "    data = json.load(read_file)"
      ],
      "execution_count": null,
      "outputs": []
    },
    {
      "cell_type": "code",
      "metadata": {
        "id": "fy6ZYJxGKeFU"
      },
      "source": [
        "#type data <list>\n",
        "type(data)"
      ],
      "execution_count": null,
      "outputs": []
    },
    {
      "cell_type": "markdown",
      "metadata": {
        "id": "dK75CbqRk1A8"
      },
      "source": [
        "**affichage de data**"
      ]
    },
    {
      "cell_type": "code",
      "metadata": {
        "id": "_0GLr_3gKmw3"
      },
      "source": [
        "#affichage\n",
        "for cle in data:\n",
        "    print(\"cle: \", cle)"
      ],
      "execution_count": null,
      "outputs": []
    },
    {
      "cell_type": "markdown",
      "metadata": {
        "id": "BQRfAlPCfg3Z"
      },
      "source": [
        "##**Modeling**"
      ]
    },
    {
      "cell_type": "markdown",
      "metadata": {
        "id": "AN6O81AYnv_n"
      },
      "source": [
        "**Nombre de conversation** \n",
        "\n"
      ]
    },
    {
      "cell_type": "code",
      "metadata": {
        "id": "INxwLWZgVo9-"
      },
      "source": [
        " # le but de fonction \"Nombre_discussion() \" est de calculer le nombre de conversations dans le fichier \n",
        " def Nombre_discussion():\n",
        "  nbr_utilisateur=0\n",
        "  l=[]\n",
        "  for cle in data:\n",
        "    l.append(cle[\"_id\"])\n",
        "  return len(set(l)) "
      ],
      "execution_count": null,
      "outputs": []
    },
    {
      "cell_type": "code",
      "metadata": {
        "id": "AGltrf0GmReb"
      },
      "source": [
        "print(\"Le nombre d'utilisateur de notre ChatBot est : \" , Nombre_discussion())"
      ],
      "execution_count": null,
      "outputs": []
    },
    {
      "cell_type": "markdown",
      "metadata": {
        "id": "CNwh-D9IIExc"
      },
      "source": [
        "### **KPI 1: Nombre utilisateurs**"
      ]
    },
    {
      "cell_type": "code",
      "metadata": {
        "id": "65GPBwpDrWgv"
      },
      "source": [
        " # le but de la fonction \" Nombre_utilisateurs()  \" est de calculer le nombre de personnes qui interagissent avec le chatbot\n",
        " def Nombre_utilisateurs():\n",
        "  nbr_utilisateur=0\n",
        "  l=[]\n",
        "  for cle in data:\n",
        "    l.append(cle[ \"sender_id\"])\n",
        "  return len(set(l)) "
      ],
      "execution_count": null,
      "outputs": []
    },
    {
      "cell_type": "code",
      "metadata": {
        "id": "BJGYQPYloaPV"
      },
      "source": [
        "print(\"Le nombre d'utilisateur de notre ChatBot est :\" ,  Nombre_utilisateurs())"
      ],
      "execution_count": null,
      "outputs": []
    },
    {
      "cell_type": "markdown",
      "metadata": {
        "id": "WdT4JS-ELQjq"
      },
      "source": [
        "### **KPI 2 : Taux Interaction user-bot** "
      ]
    },
    {
      "cell_type": "code",
      "metadata": {
        "id": "iCLHH_kkMW2D"
      },
      "source": [
        "def Taux_Interaction_user_bot():\n",
        "    l=[]\n",
        "    longeur_liste=[]\n",
        "    taux_bot=0\n",
        "    for cle in data :\n",
        "        l.append(cle[\"events\"])\n",
        "\n",
        "    for i in range(len(l)):\n",
        "        longeur_liste.append(len(l[i]))\n",
        "    k=[]\n",
        "    liste=[]\n",
        "    for i in range(50):\n",
        "            k.append(l[i])\n",
        "    for i in range(50):\n",
        "        for j in range(longeur_liste[i]):\n",
        "            liste.append(k[i][j])\n",
        "    for i in range(len(liste)):\n",
        "          if  \"bot\" in liste[i].values():\n",
        "              taux_bot=taux_bot+1\n",
        "    taux_user=0\n",
        "    for i in range(len(liste)):\n",
        "          if  \"user\" in liste[i].values():\n",
        "              taux_user=taux_bot+1\n",
        "    return taux_user , taux_bot\n"
      ],
      "execution_count": null,
      "outputs": []
    },
    {
      "cell_type": "code",
      "metadata": {
        "id": "w8UdVJCNqCZD"
      },
      "source": [
        "    print(\"Le nombre totle des message envoyer par l'utilsateur au ChatBot est :  \" , Taux_Interaction_user_bot()[0])"
      ],
      "execution_count": null,
      "outputs": []
    },
    {
      "cell_type": "code",
      "metadata": {
        "id": "6CRfGnct1wDd"
      },
      "source": [
        "    print(\"Le nombre totle des reponse  envoyer par le  ChatBot au  l'utilsateur au est :  \" , Taux_Interaction_user_bot()[1])"
      ],
      "execution_count": null,
      "outputs": []
    },
    {
      "cell_type": "code",
      "metadata": {
        "id": "jkJP96Qy1U8k"
      },
      "source": [
        "print(\"Moyen des message envoyer par l'utilsateur dans un conversation : \" , int(Taux_Interaction_user_bot()[1]/Nombre_discussion()))"
      ],
      "execution_count": null,
      "outputs": []
    },
    {
      "cell_type": "markdown",
      "metadata": {
        "id": "iePtVMP5qpxO"
      },
      "source": [
        "### **KPI 3 :Taux de repli ou  taux d'erreur**\n"
      ]
    },
    {
      "cell_type": "code",
      "metadata": {
        "id": "wsI-gud4qqD5"
      },
      "source": [
        "# le but de la fonction \" Taux_de_repli()  \" est de calculer la pourcentage l'eurreur e ChatBot\n",
        "def Taux_de_repli():\n",
        "    l=[]\n",
        "    longeur_liste=[]\n",
        "    taux_repli=0\n",
        "    for cle in data :\n",
        "      l.append(cle[\"events\"])\n",
        "    for i in range(len(l)):\n",
        "      longeur_liste.append(len(l[i]))\n",
        "    taux_repli=0\n",
        "    k=[]\n",
        "    liste=[]\n",
        "    for i in range(50):\n",
        "      k.append(l[i])\n",
        "    print(k)\n",
        "    for i in range(50):\n",
        "      for j in range(longeur_liste[i]):\n",
        "        liste.append(k[i][j])\n",
        "    for i in range(len(liste)):\n",
        "        if  \"action_default_fallback\" in liste[i].values():\n",
        "            taux_repli=taux_repli+1\n",
        "    taux_repli=(taux_repli/Taux_Interaction_user_bot()[0])*100\n",
        "    return int(taux_repli)\n",
        "Taux_de_repli()"
      ],
      "execution_count": null,
      "outputs": []
    },
    {
      "cell_type": "code",
      "metadata": {
        "id": "g_wCZcvg5XLk"
      },
      "source": [
        "print(\"la pourcentage des reponse dont le chatBot a mal repondu est : \" , int(Taux_de_repli()) , \"%\")"
      ],
      "execution_count": null,
      "outputs": []
    },
    {
      "cell_type": "markdown",
      "metadata": {
        "id": "kJOjWctFX92i"
      },
      "source": [
        " ### **KPI 3 : TIME AVG** \n",
        "\n",
        "\n"
      ]
    },
    {
      "cell_type": "code",
      "metadata": {
        "id": "N2NyLMieMIJu"
      },
      "source": [
        "def Moyen_event_time():\n",
        "  l=[]\n",
        "  latest_event_time=[]\n",
        "  for cle in data : \n",
        "    latest_event_time.append(cle[\"latest_event_time\"])\n",
        "\n",
        "  start_event_time=[]\n",
        "  for cle in data :\n",
        "    l.append(cle[\"events\"])\n",
        "  for i in range(50) :\n",
        "    start_event_time.append(l[i][1][\"timestamp\"])\n",
        "\n",
        "  difference_event_time=[]\n",
        "  for k in range(len(latest_event_time)):\n",
        "    difference_event_time.append(latest_event_time[i] - start_event_time[i])\n",
        "  Moyen_event_time= sum(difference_event_time)/Nombre_discussion()\n",
        "  #min \n",
        "  \n",
        "  return Moyen_event_time/60\n"
      ],
      "execution_count": null,
      "outputs": []
    },
    {
      "cell_type": "code",
      "metadata": {
        "id": "tv214w5jp4aJ"
      },
      "source": [
        "print(\"La duree moyenne de conversation entre l'utilisateur et le ChatBot est\" ,int( Moyen_event_time() ),\"minutes \" )"
      ],
      "execution_count": null,
      "outputs": []
    },
    {
      "cell_type": "markdown",
      "metadata": {
        "id": "nHqd3N2WI9lH"
      },
      "source": [
        "### **KPI 5 : Volume de Reponse de ChatBOT**\n"
      ]
    },
    {
      "cell_type": "code",
      "metadata": {
        "id": "9DlGmF1y2jer"
      },
      "source": [
        "def Volume_de_Reponse_de_ChatBot(): \n",
        "  \n",
        "  Pourcentage_de_Reponse_de_ChatBot = 100 - Taux_de_repli()\n",
        "  print(\"Pourcentage_de_Reponse_de_ChatBot \" , Pourcentage_de_Reponse_de_ChatBot , \"%\")\n",
        "  return Pourcentage_de_Reponse_de_ChatBot"
      ],
      "execution_count": null,
      "outputs": []
    },
    {
      "cell_type": "code",
      "metadata": {
        "id": "a2A4eIJD3FUf"
      },
      "source": [
        " Volume_de_Reponse_de_ChatBot()"
      ],
      "execution_count": null,
      "outputs": []
    },
    {
      "cell_type": "code",
      "metadata": {
        "id": "s2gzO-Jq8LiZ"
      },
      "source": [
        "print(\"Pourcentage_de_Reponse_de_ChatBot \" , Volume_de_Reponse_de_ChatBot() , \"%\")"
      ],
      "execution_count": null,
      "outputs": []
    },
    {
      "cell_type": "markdown",
      "metadata": {
        "id": "y6NDs2vqDAF4"
      },
      "source": [
        "#**summary**"
      ]
    },
    {
      "cell_type": "code",
      "metadata": {
        "id": "nz6OhoAyC-qq"
      },
      "source": [
        "print(\"Le nombre d'utilisateur de notre ChatBot est :\" ,  Nombre_utilisateurs())"
      ],
      "execution_count": null,
      "outputs": []
    },
    {
      "cell_type": "code",
      "metadata": {
        "id": "PynwLUN4DhCQ"
      },
      "source": [
        "print(\"Le nombre totle des message envoyer par l'utilsateur au ChatBot est :  \" , Taux_Interaction_user_bot()[0])\n",
        "print(\"Moyen des message envoyer par l'utilsateur dans un conversation : \" , int(Taux_Interaction_user_bot()[1]/Nombre_discussion()))"
      ],
      "execution_count": null,
      "outputs": []
    },
    {
      "cell_type": "code",
      "metadata": {
        "id": "BOSF4senDhEY"
      },
      "source": [
        "print(\"la pourcentage des reponse dont le chatBot a mal repondu est : \" )\n",
        "int(Taux_de_repli())"
      ],
      "execution_count": null,
      "outputs": []
    },
    {
      "cell_type": "code",
      "metadata": {
        "id": "mcGnGqCQDhIk"
      },
      "source": [
        "print(\"La duree moyenne de conversation entre l'utilisateur et le ChatBot est\" ,int( Moyen_event_time() ),\"minutes \" )"
      ],
      "execution_count": null,
      "outputs": []
    },
    {
      "cell_type": "code",
      "metadata": {
        "id": "CVDWbunwDsBB"
      },
      "source": [
        "print(\"Pourcentage_de_Reponse_de_ChatBot \" , Volume_de_Reponse_de_ChatBot() , \"%\")\n",
        "Volume_de_Reponse_de_ChatBot()"
      ],
      "execution_count": null,
      "outputs": []
    }
  ]
}